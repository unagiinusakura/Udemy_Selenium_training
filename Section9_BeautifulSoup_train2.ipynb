{
 "cells": [
  {
   "cell_type": "markdown",
   "metadata": {},
   "source": [
    "## 51. 主要ニュースのタイトル・URLの取得"
   ]
  },
  {
   "cell_type": "code",
   "execution_count": 123,
   "metadata": {},
   "outputs": [],
   "source": [
    "# モジュールのインポート\n",
    "import requests\n",
    "import time\n",
    "from bs4 import BeautifulSoup"
   ]
  },
  {
   "cell_type": "code",
   "execution_count": 100,
   "metadata": {},
   "outputs": [],
   "source": [
    "URL ='https://www.yahoo.co.jp/'\n",
    "res = requests.get(URL)"
   ]
  },
  {
   "cell_type": "code",
   "execution_count": 101,
   "metadata": {},
   "outputs": [
    {
     "data": {
      "text/plain": [
       "200"
      ]
     },
     "execution_count": 101,
     "metadata": {},
     "output_type": "execute_result"
    }
   ],
   "source": [
    "# 接続確認\n",
    "res.status_code"
   ]
  },
  {
   "cell_type": "code",
   "execution_count": 102,
   "metadata": {
    "collapsed": true,
    "jupyter": {
     "outputs_hidden": true
    }
   },
   "outputs": [
    {
     "data": {
      "text/plain": [
       "'<!DOCTYPE html><html lang=\"ja\"><head><meta charSet=\"utf-8\"/><meta http-equiv=\"X-UA-Compatible\" content=\"IE=edge,chrome=1\"/><title>Yahoo! JAPAN</title><meta name=\"description\" content=\"あなたの毎日をアップデートする情報ポータル。検索、ニュース、天気、スポーツ、メール、ショッピング、オークションなど便利なサービスを展開しています。\"/><meta name=\"robots\" content=\"noodp\"/><meta name=\"viewport\" content=\"width=1010\"/><link rel=\"dns-prefetch\" href=\"//s.yimg.jp\"/><link rel=\"dns-prefetch\" href=\"//yads.c.yimg.jp\"/><meta name=\"google-site-verification\" content=\"fsLMOiigp5fIpCDMEVodQnQC7jIY1K3UXW5QkQcBmVs\"/><link rel=\"alternate\" href=\"android-app://jp.co.yahoo.android.yjtop/yahoojapan/home/top\"/><link rel=\"alternate\" media=\"only screen and (max-width: 640px)\" href=\"https://m.yahoo.co.jp/\"/><link rel=\"canonical\" href=\"https://www.yahoo.co.jp/\"/><link rel=\"shortcut icon\" href=\"https://s.yimg.jp/c/icon/s/bsc/2.0/favicon.ico\" type=\"image/vnd.microsoft.icon\"/><link rel=\"icon\" href=\"https://s.yimg.jp/c/icon/s/bsc/2.0/favicon.ico\" type=\"image/vnd.microsoft.icon\"/><meta property=\"og:title\" content=\"Yahoo! JAPAN\"/><meta property=\"og:type\" content=\"website\"/><meta property=\"og:url\" content=\"https://www.yahoo.co.jp/\"/><meta property=\"og:image\" content=\"https://s.yimg.jp/images/top/ogp/fb_y_1500px.png\"/><meta property=\"og:description\" content=\"あなたの毎日をアップデートする情報ポータル。検索、ニュース、天気、スポーツ、メール、ショッピング、オークションなど便利なサービスを展開しています。\"/><meta property=\"og:site_name\" content=\"Yahoo! JAPAN\"/><meta property=\"twitter:card\" content=\"summary_large_image\"/><meta property=\"twitter:site\" content=\"@Yahoo_JAPAN_PR\"/><meta property=\"twitter:image\" content=\"https://s.yimg.jp/images/top/ogp/tw_y_1400px.png\"/><meta property=\"fb:app_id\" content=\"472870002762883\"/><link rel=\"stylesheet\" href=\"//s.yimg.jp/images/top/orion/20200811/bundle_20200811.css\"/><script>window.onbeforeunload = function() {}</script><script>(function () {\\n              var tagjs = document.createElement(\"script\");\\n              var s = document.getElementsByTagName(\"script\")[0];\\n              tagjs.async = true;\\n              tagjs.src = \"https://s.yjtag.jp/tag.js#site=2wzBV9u&referrer=\"\\n                + encodeURIComponent(document.location.href) + \"\";\\n              s.parentNode.insertBefore(tagjs, s);\\n            }());</script><script src=\"https://yads.c.yimg.jp/js/yads-async.js\"></script><link rel=\"preconnect\" href=\"//logql.yahoo.co.jp\"/><link rel=\"preconnect\" href=\"//yjtag.yahoo.co.jp\"/><link rel=\"preconnect\" href=\"//yeas.yahoo.co.jp\"/><link rel=\"preconnect\" href=\"//cas.criteo.com\"/><link rel=\"preconnect\" href=\"//ybx-test.yahoo.co.jp\"/><link rel=\"preconnect\" href=\"//quriosity.yahoo.co.jp\"/></head><body><script>bucket_ids_for_ad = \\'\\';</script><div id=\"wrapper\" class=\"_1DyDVN-3FsqGF_QKLg1M9G\" data-rma-pos=\"GYJ\"><div id=\"ContentWrapper\"><header class=\"_1UIqJ1-J996utOQugp-U33\"><div class=\"_2QahXuxbGDu3Fk1Qrrh3AA ult__mods\" id=\"eyebrow\"><ul class=\"UM606c1MQ3J4sSqNsndEZ\"><li class=\"_2wMdVO6wAf3-0DnWkjTY0b\"><span class=\"fQMqQTGJTbIMxjQwZA2zk DB1xWkV-AiF3oBGL1BuYd\"><a class=\"yMWCYupQNdgppL-NV6sMi _3sAlKGsIBCxTUbNi86oSjt\" href=\"https://www.yahoo-help.jp/\" data-ylk=\"slk:help;pos:0\">ヘルプ</a></span></li></ul></div><div id=\"Masthead\" class=\"_1mo4G7fxHMqUog3vJGxY2_ ult__mods\"><h1 class=\"_3YIqBohnzWyU3NQ8zb-mQI _1dr5aVDbNPF63JCS2bJhij\"><a class=\"yMWCYupQNdgppL-NV6sMi _3sAlKGsIBCxTUbNi86oSjt\" href=\"https://www.yahoo.co.jp\" data-ylk=\"rsec:header;slk:logo;pos:0\">Yahoo! JAPAN</a></h1><div class=\"_15h66qPnVy4iQzPepgAaiY\"><ul class=\"_6iDyy-CUks251J9k1epBP\"><li class=\"_3gsf81y-6_ZDi-j-tMaVHe\"><a class=\"yMWCYupQNdgppL-NV6sMi _3sAlKGsIBCxTUbNi86oSjt\" href=\"https://premium.yahoo.co.jp/\" data-ylk=\"rsec:header;slk:premium;pos:0\" aria-label=\"プレミアムへ遷移する\"><p class=\"oLvk9L5Yk-9JOuzi-OHW5\"><span class=\"t_jb9bKlgIcajcRS2hZAP\">プレミアム</span><span class=\"_2Uq6Pw5lfFfxr_OD36xHp6 _1dr5aVDbNPF63JCS2bJhij Y8gFtzzcdGMdFngRO9qFV\" style=\"width:36px;height:38px\"></span></p></a></li><li class=\"_3gsf81y-6_ZDi-j-tMaVHe\"><a class=\"yMWCYupQNdgppL-NV6sMi _3sAlKGsIBCxTUbNi86oSjt\" href=\"https://card.yahoo.co.jp/service/redirect/top/\" data-ylk=\"rsec:header;slk:card;pos:0\" aria-label=\"カードへ遷移する\"><p class=\"oLvk9L5Yk-9JOuzi-OHW5\"><span class=\"t_jb9bKlgIcajcRS2hZAP\">カード</span><span class=\"_2Uq6Pw5lfFfxr_OD36xHp6 _1dr5aVDbNPF63JCS2bJhij _1MaEI7rEHB4FpQ1MwfWxIK\" style=\"width:36px;height:38px\"></span></p></a></li><li class=\"_3gsf81y-6_ZDi-j-tMaVHe\"><a class=\"yMWCYupQNdgppL-NV6sMi _3sAlKGsIBCxTUbNi86oSjt\" href=\"https://mail.yahoo.co.jp/\" data-ylk=\"rsec:header;slk:mail;pos:0\" aria-label=\"メールへ遷移する\"><p class=\"oLvk9L5Yk-9JOuzi-OHW5\"><span class=\"t_jb9bKlgIcajcRS2hZAP\">メール</span><span class=\"_2Uq6Pw5lfFfxr_OD36xHp6 _1dr5aVDbNPF63JCS2bJhij _3Qi5P0lTFbNkWishPzz8tb\" style=\"width:36px;height:38px\"></span></p></a></li></ul></div><div class=\"_2TzkLph0QyL9hAv5c53WeY\"><ul class=\"_6iDyy-CUks251J9k1epBP\"><li class=\"_3gsf81y-6_ZDi-j-tMaVHe\"><a class=\"yMWCYupQNdgppL-NV6sMi _3sAlKGsIBCxTUbNi86oSjt\" href=\"https://travel.yahoo.co.jp/promo/gototravel/?sc_e=ytmh\" data-ylk=\"rsec:header;slk:travel;pos:0\" aria-label=\"トラベルへ遷移する\"><p class=\"oLvk9L5Yk-9JOuzi-OHW5\"><span class=\"t_jb9bKlgIcajcRS2hZAP\">トラベル</span><span class=\"_2Uq6Pw5lfFfxr_OD36xHp6 _1dr5aVDbNPF63JCS2bJhij _3hg11aV8E6Xx541l0JOw85\" style=\"width:38px;height:38px\"></span></p></a></li><li class=\"_3gsf81y-6_ZDi-j-tMaVHe\"><a class=\"yMWCYupQNdgppL-NV6sMi _3sAlKGsIBCxTUbNi86oSjt\" href=\"https://auctions.yahoo.co.jp/\" data-ylk=\"rsec:header;slk:auction;pos:0\" aria-label=\"ヤフオク!へ遷移する\"><p class=\"oLvk9L5Yk-9JOuzi-OHW5\"><span class=\"t_jb9bKlgIcajcRS2hZAP\">ヤフオク!</span><span class=\"_2Uq6Pw5lfFfxr_OD36xHp6 _1dr5aVDbNPF63JCS2bJhij _1K47f2oTmrnpusFOpVVqfY\" style=\"width:38px;height:38px\"></span></p></a></li><li class=\"_3gsf81y-6_ZDi-j-tMaVHe\"><a class=\"yMWCYupQNdgppL-NV6sMi _3sAlKGsIBCxTUbNi86oSjt\" href=\"https://shopping.yahoo.co.jp/?sc_e=ytmh\" data-ylk=\"rsec:header;slk:shopping;pos:0\" aria-label=\"ショッピングへ遷移する\"><p class=\"oLvk9L5Yk-9JOuzi-OHW5\"><span class=\"t_jb9bKlgIcajcRS2hZAP\">ショッピング</span><span class=\"_2Uq6Pw5lfFfxr_OD36xHp6 _1dr5aVDbNPF63JCS2bJhij MOLSPrtOUmdnYy_LgNt2f\" style=\"width:38px;height:38px\"></span></p></a></li></ul></div></div><div><!-- EMG3 noResult --><!-- EMG2 noResult --><!-- EMG noResult --></div><section class=\"_1o9PYyvuVafb5hd9eJ9rYX\"><div class=\"_1f9dgjwXCsoV3gv3CR4ed0\"><h1 class=\"_1bI5i8MPcuzprRYEvQThM2 _3v9VCsGKsktTB7eaN70w-n\">検索</h1><noscript><style>.ZxitgcFVh9Jm368t3QgDy{\\n                display: none;\\n              }</style></noscript><ul class=\"_1CYhoJYsAsnHPIGbcii0Z5\"><li><a href=\"https://search.yahoo.co.jp/\" class=\"_33uErKrZG6jQv2aeVeGWGc\" aria-label=\"ウェブで検索\" tabindex=\"-1\"><span class=\"fQMqQTGJTbIMxjQwZA2zk _3tGRl6x9iIWRiFTkKl3kcR\"><span class=\"_1TCzQONRwuX9Joqzy35uo2 Y3FvSPVIJAsu5GBdHdiC8\">ウェブ</span></span></a></li><li><a href=\"https://search.yahoo.co.jp/image\" class=\"_33uErKrZG6jQv2aeVeGWGc\" aria-label=\"画像で検索\" tabindex=\"-1\"><span class=\"fQMqQTGJTbIMxjQwZA2zk _3tGRl6x9iIWRiFTkKl3kcR\"><span class=\"_1TCzQONRwuX9Joqzy35uo2\">画像</span></span></a></li><li><a href=\"https://search.yahoo.co.jp/video\" class=\"_33uErKrZG6jQv2aeVeGWGc\" aria-label=\"動画で検索\" tabindex=\"-1\"><span class=\"fQMqQTGJTbIMxjQwZA2zk _3tGRl6x9iIWRiFTkKl3kcR\"><span class=\"_1TCzQONRwuX9Joqzy35uo2\">動画</span></span></a></li><li><a href=\"https://chiebukuro.yahoo.co.jp/\" class=\"_33uErKrZG6jQv2aeVeGWGc\" aria-label=\"知恵袋で検索\" tabindex=\"-1\"><span class=\"fQMqQTGJTbIMxjQwZA2zk _3tGRl6x9iIWRiFTkKl3kcR\"><span class=\"_1TCzQONRwuX9Joqzy35uo2\">知恵袋</span></span></a></li><li><a href=\"https://map.yahoo.co.jp/\" class=\"_33uErKrZG6jQv2aeVeGWGc\" aria-label=\"地図で検索\" tabindex=\"-1\"><span class=\"fQMqQTGJTbIMxjQwZA2zk _3tGRl6x9iIWRiFTkKl3kcR\"><span class=\"_1TCzQONRwuX9Joqzy35uo2\">地図</span></span></a></li><li><a href=\"https://search.yahoo.co.jp/realtime\" class=\"_33uErKrZG6jQv2aeVeGWGc\" aria-label=\"リアルタイムで検索\" tabindex=\"-1\"><span class=\"fQMqQTGJTbIMxjQwZA2zk _3tGRl6x9iIWRiFTkKl3kcR\"><span class=\"_1TCzQONRwuX9Joqzy35uo2\">リアルタイム</span></span></a></li><li><a href=\"https://job.yahoo.co.jp/\" class=\"_33uErKrZG6jQv2aeVeGWGc\" aria-label=\"求人で検索\" tabindex=\"-1\"><span class=\"fQMqQTGJTbIMxjQwZA2zk _3tGRl6x9iIWRiFTkKl3kcR\"><span class=\"_1TCzQONRwuX9Joqzy35uo2\">求人</span></span></a></li><li><a href=\"https://services.yahoo.co.jp/\" class=\"_33uErKrZG6jQv2aeVeGWGc\" aria-label=\"その他\" tabindex=\"-1\"><span class=\"fQMqQTGJTbIMxjQwZA2zk _3tGRl6x9iIWRiFTkKl3kcR\"><span class=\"_1TCzQONRwuX9Joqzy35uo2\">一覧</span></span></a></li></ul><form action=\"https://search.yahoo.co.jp/search\" name=\"sf1\" method=\"get\" role=\"search\"><fieldset><legend>Yahoo!検索</legend><span class=\"m4wO0W1Qp4Rm8IpDS5ZjR\"><input type=\"search\" class=\"_1wsoZ5fswvzAoNYvIJgrU4\" name=\"p\" autoComplete=\"off\" aria-label=\"検索したいキーワードを入力してください\" aria-live=\"assertive\"/><noscript><style>._1mzr9cMqFj96B8HnSVnx67{\\n                display: none;\\n              }</style></noscript><button class=\"_63Ie6douiF2dG_ihlFTen rapid-noclick-resp\" type=\"submit\"><span class=\"_3s3YPSCNUcgAFkPwVeRyfT\"><span class=\"PHOgFibMkQJ6zcDBLbga8\">検索</span></span></button></span></fieldset><input type=\"hidden\" name=\"fr\" value=\"top_table_sa\"/><input type=\"hidden\" name=\"ei\" value=\"UTF-8\"/><input type=\"hidden\" name=\"ts\"/><input type=\"hidden\" name=\"aq\" value=\"-1\"/><input type=\"hidden\" name=\"oq\" value=\"\"/><input type=\"hidden\" name=\"at\" value=\"\"/><input type=\"hidden\" name=\"ai\" value=\"\"/></form></div></section><div id=\"Message\" class=\"ult__mods\"><noscript><section class=\"_1bzp-M2uxs86VaYq0IxNuy\"><h1 class=\"_2lQjNEXfrs2C14psQwQ5ai _3v9VCsGKsktTB7eaN70w-n\">JavaScriptの設定について</h1><div class=\"_19J_Z9KVKnQzOVKA0jkC4e\"><p><span class=\"fQMqQTGJTbIMxjQwZA2zk _3tGRl6x9iIWRiFTkKl3kcR\">JavaScriptが無効になっています。すべての機能を利用するためには、有効に設定してください。<br/>詳しくは「<a class=\"_1NzGMsC3awTFzjzXnvX-zV\" data-ylk=\"rsec:message;slk:jsof;pos:0\" href=\"https://www.yahoo-help.jp/app/noscript\">JavaScriptの設定方法</a>」をご覧ください。</span></p></div></section></noscript><section class=\"_1bzp-M2uxs86VaYq0IxNuy\"><h1 class=\"_2lQjNEXfrs2C14psQwQ5ai _3v9VCsGKsktTB7eaN70w-n\">推奨ブラウザーについて</h1><div class=\"_19J_Z9KVKnQzOVKA0jkC4e\"><p><span class=\"fQMqQTGJTbIMxjQwZA2zk _3tGRl6x9iIWRiFTkKl3kcR\">Yahoo! JAPANトップページの機能を正しくご利用いただくには、下記の環境が必要です。<span class=\"_1XWJVEK6heb_Paj9eU6R1u\">パソコンでご利用のお客様<br/>Windows：Internet Explorer 11.0以上 / Chrome 最新版 / Firefox 最新版 / Microsoft Edge\\u3000macOS：Safari 9.0以上<br/>※Internet Explorer 11.0以上をご利用の場合は、<br/>「<a class=\"_1NzGMsC3awTFzjzXnvX-zV\" data-ylk=\"rsec:message;slk:cgrade;pos:0\" href=\"https://www.yahoo-help.jp/app/answers/detail/p/533/a_id/43883\">Internet Explorerの互換表示について</a>」を参考に、互換表示の無効化をお試しください。</span><span class=\"_1XWJVEK6heb_Paj9eU6R1u\">タブレットでご利用のお客様<br/>iOS 9以降、または、Android4.0以降のOSに標準搭載されたブラウザー<br/>※日本国内版として発売されている端末でご利用ください。</span></span></p></div></section></div><section id=\"TopLink\" class=\"_2Pb7ROIJrC3Wj9bPxN4J7D ult__mods\"><h1 class=\"T29vXGZu-fmHRJfd123YZ _3v9VCsGKsktTB7eaN70w-n\">お知らせ</h1><ul class=\"QoCp7KDEt29FbN5hCjsCx\" aria-label=\"お知らせ\"><li class=\"_2ZzfUQqYuRip1h-aXoiCHV\"><a class=\"yMWCYupQNdgppL-NV6sMi _3sAlKGsIBCxTUbNi86oSjt\" href=\"https://shopping.geocities.jp/zozo/sale/?sc_e=yttl_pc_zozosale2006\" data-ylk=\"rsec:toplink;slk:link;pos:1;aid:1294568\"><span class=\"fQMqQTGJTbIMxjQwZA2zk _3tGRl6x9iIWRiFTkKl3kcR\"><span class=\"_3S2Wdrkt1LKANaWcLrZToT\">ZOZOPayPayモール店、お得な夏セール開催中</span></span></a></li><li class=\"_2ZzfUQqYuRip1h-aXoiCHV\"><a class=\"yMWCYupQNdgppL-NV6sMi _3sAlKGsIBCxTUbNi86oSjt\" href=\"https://games.yahoo.co.jp/promotion/play/newgame/\" data-ylk=\"rsec:toplink;slk:link;pos:2;aid:1294640\"><span class=\"fQMqQTGJTbIMxjQwZA2zk _3tGRl6x9iIWRiFTkKl3kcR\"><span class=\"_3S2Wdrkt1LKANaWcLrZToT\">ソリティアやパズルも\\u3000無料ゲームが500種類以上</span></span></a></li></ul></section></header><main><div class=\"_3QNDL3K4palUWHyIzSXBmn\"><nav><div class=\"_1nJ39BFpWaPCIWutB-olO8 _171Q0OxQF2Vk3J_CxMxajb -DmdTfmK9dpsdI1vggc-z\"><header class=\"_37AoRe1Io5JOtSIPDdUQCF _1m5d7MNAIFyOM71xJdSK_s _3v9VCsGKsktTB7eaN70w-n\"><h1 class=\"_2LJWWRbnY7KqEPyWQukxFD _2vlyNSs41eUR8HDyQ8iUvQ\">主なサービス</h1></header><div id=\"ToolList\"><ul class=\"_1glrFPJpWbefWf8qr3k4FU\" aria-label=\"主なサービス\"><li><div class=\"_3Ip8DQAJYKfPeByyVN-utZ\"><a class=\"yMWCYupQNdgppL-NV6sMi _3sAlKGsIBCxTUbNi86oSjt\" href=\"https://shopping.yahoo.co.jp/?sc_e=ytc\" aria-label=\"ショッピングへ遷移する\"><p class=\"_2bBRLhI5ZpVYu0tuHZEFrn\"><span class=\"pz0On1w4yAviBGMdKItoQ\"><span class=\"fQMqQTGJTbIMxjQwZA2zk _3tGRl6x9iIWRiFTkKl3kcR\">ショッピング</span></span><span class=\"_1Al3K70np2V_Ev1eGkfsBm\"><span class=\"_2Uq6Pw5lfFfxr_OD36xHp6 _1dr5aVDbNPF63JCS2bJhij MOLSPrtOUmdnYy_LgNt2f\" style=\"width:20px;height:20px\"></span></span></p></a></div></li><li><div class=\"_3Ip8DQAJYKfPeByyVN-utZ\"><a class=\"yMWCYupQNdgppL-NV6sMi _3sAlKGsIBCxTUbNi86oSjt\" href=\"https://paypaymall.yahoo.co.jp/?sc_e=ytc\" aria-label=\"PayPayモールへ遷移する\"><p class=\"_2bBRLhI5ZpVYu0tuHZEFrn\"><span class=\"pz0On1w4yAviBGMdKItoQ\"><span class=\"fQMqQTGJTbIMxjQwZA2zk _3tGRl6x9iIWRiFTkKl3kcR\">PayPayモール</span></span><span class=\"_1Al3K70np2V_Ev1eGkfsBm\"><span class=\"_2Uq6Pw5lfFfxr_OD36xHp6 _1dr5aVDbNPF63JCS2bJhij _2aNXx7_xy-w5TRQtsAbLhN\" style=\"width:20px;height:20px\"></span></span></p></a></div></li><li><div class=\"_3Ip8DQAJYKfPeByyVN-utZ\"><a class=\"yMWCYupQNdgppL-NV6sMi _3sAlKGsIBCxTUbNi86oSjt\" href=\"https://auctions.yahoo.co.jp\" aria-label=\"ヤフオク!へ遷移する\"><p class=\"_2bBRLhI5ZpVYu0tuHZEFrn\"><span class=\"pz0On1w4yAviBGMdKItoQ\"><span class=\"fQMqQTGJTbIMxjQwZA2zk _3tGRl6x9iIWRiFTkKl3kcR\">ヤフオク!</span></span><span class=\"_1Al3K70np2V_Ev1eGkfsBm\"><span class=\"_2Uq6Pw5lfFfxr_OD36xHp6 _1dr5aVDbNPF63JCS2bJhij _1K47f2oTmrnpusFOpVVqfY\" style=\"width:20px;height:20px\"></span></span></p></a></div></li><li><div class=\"_3Ip8DQAJYKfPeByyVN-utZ\"><a class=\"yMWCYupQNdgppL-NV6sMi _3sAlKGsIBCxTUbNi86oSjt\" href=\"https://app.adjust.com/1kmi1m2?redirect=https%3A%2F%2Fpaypayfleamarket.yahoo.co.jp%2F%3Fcpt_s%3Dytopmedia%26cpt_m%3Dkotei%26cpt_n%3Dcontent%26cpt_c%3Dytopmedia\" aria-label=\"PayPayフリマへ遷移する\"><p class=\"_2bBRLhI5ZpVYu0tuHZEFrn\"><span class=\"pz0On1w4yAviBGMdKItoQ\"><span class=\"fQMqQTGJTbIMxjQwZA2zk _3tGRl6x9iIWRiFTkKl3kcR\">PayPayフリマ</span></span><span class=\"_1Al3K70np2V_Ev1eGkfsBm\"><span class=\"_2Uq6Pw5lfFfxr_OD36xHp6 _1dr5aVDbNPF63JCS2bJhij _3zb-zxOYGPoHJ2-_Ie8y8T\" style=\"width:20px;height:20px\"></span></span></p></a></div></li><li><div class=\"_3Ip8DQAJYKfPeByyVN-utZ\"><a class=\"yMWCYupQNdgppL-NV6sMi _3sAlKGsIBCxTUbNi86oSjt\" href=\"https://zozo.jp/?utm_source=yahoo&amp;utm_medium=referral&amp;utm_campaign=web_ytop-leftcolumn\" aria-label=\"ZOZOTOWNへ遷移する\"><p class=\"_2bBRLhI5ZpVYu0tuHZEFrn\"><span class=\"pz0On1w4yAviBGMdKItoQ\"><span class=\"fQMqQTGJTbIMxjQwZA2zk _3tGRl6x9iIWRiFTkKl3kcR\">ZOZOTOWN</span></span><span class=\"_1Al3K70np2V_Ev1eGkfsBm\"><span class=\"_2Uq6Pw5lfFfxr_OD36xHp6 _1dr5aVDbNPF63JCS2bJhij _2VdNwkD_q8hjK0ZyvATgab\" style=\"width:20px;height:20px\"></span></span></p></a></div></li><li><div class=\"_3Ip8DQAJYKfPeByyVN-utZ\"><a class=\"yMWCYupQNdgppL-NV6sMi _3sAlKGsIBCxTUbNi86oSjt\" href=\"https://lohaco.jp/?bk=t&amp;sc_e=j_as_ya_tc_n&amp;iscr=1\" aria-label=\"LOHACOへ遷移する\"><p class=\"_2bBRLhI5ZpVYu0tuHZEFrn\"><span class=\"pz0On1w4yAviBGMdKItoQ\"><span class=\"fQMqQTGJTbIMxjQwZA2zk _3tGRl6x9iIWRiFTkKl3kcR\">LOHACO</span></span><span class=\"_1Al3K70np2V_Ev1eGkfsBm\"><span class=\"_2Uq6Pw5lfFfxr_OD36xHp6 _1dr5aVDbNPF63JCS2bJhij _3xvmznkMqRitO0Iqn3ckur\" style=\"width:20px;height:20px\"></span></span></p></a></div></li><li><div class=\"_3Ip8DQAJYKfPeByyVN-utZ\"><a class=\"yMWCYupQNdgppL-NV6sMi _3sAlKGsIBCxTUbNi86oSjt\" href=\"https://travel.yahoo.co.jp/?sc_e=ytsl\" aria-label=\"トラベルへ遷移する\"><p class=\"_2bBRLhI5ZpVYu0tuHZEFrn\"><span class=\"pz0On1w4yAviBGMdKItoQ\"><span class=\"fQMqQTGJTbIMxjQwZA2zk _3tGRl6x9iIWRiFTkKl3kcR\">トラベル</span></span><span class=\"_1Al3K70np2V_Ev1eGkfsBm\"><span class=\"_2Uq6Pw5lfFfxr_OD36xHp6 _1dr5aVDbNPF63JCS2bJhij _1yEKxUFSw-Xv2gaBZsYRuI\" style=\"width:20px;height:20px\"></span></span></p></a></div></li><li><div class=\"_3Ip8DQAJYKfPeByyVN-utZ\"><a class=\"yMWCYupQNdgppL-NV6sMi _3sAlKGsIBCxTUbNi86oSjt\" href=\"https://www.ikyu.com/ikCo.ashx?cosid=ik010002&amp;surl=%2F\" aria-label=\"一休.comへ遷移する\"><p class=\"_2bBRLhI5ZpVYu0tuHZEFrn\"><span class=\"pz0On1w4yAviBGMdKItoQ\"><span class=\"fQMqQTGJTbIMxjQwZA2zk _3tGRl6x9iIWRiFTkKl3kcR\">一休.com</span></span><span class=\"_1Al3K70np2V_Ev1eGkfsBm\"><span class=\"_2Uq6Pw5lfFfxr_OD36xHp6 _1dr5aVDbNPF63JCS2bJhij daLkyi7PiGXeFyVYTU_9n\" style=\"width:20px;height:20px\"></span></span></p></a></div></li><li><div class=\"_3Ip8DQAJYKfPeByyVN-utZ\"><a class=\"yMWCYupQNdgppL-NV6sMi _3sAlKGsIBCxTUbNi86oSjt\" href=\"https://restaurant.ikyu.com/rsCosite.asp?CosNo=10000175&amp;CosUrl=\" aria-label=\"一休.comレストランへ遷移する\"><p class=\"_2bBRLhI5ZpVYu0tuHZEFrn\"><span class=\"pz0On1w4yAviBGMdKItoQ\"><span class=\"fQMqQTGJTbIMxjQwZA2zk _3tGRl6x9iIWRiFTkKl3kcR\">一休.comレストラン</span></span><span class=\"_1Al3K70np2V_Ev1eGkfsBm\"><span class=\"_2Uq6Pw5lfFfxr_OD36xHp6 _1dr5aVDbNPF63JCS2bJhij _1z4Le4zkghapVZCQm9RCy8\" style=\"width:20px;height:20px\"></span></span></p></a></div></li><li><div class=\"_3Ip8DQAJYKfPeByyVN-utZ\"><a class=\"yMWCYupQNdgppL-NV6sMi _3sAlKGsIBCxTUbNi86oSjt\" href=\"https://news.yahoo.co.jp/\" aria-label=\"ニュースへ遷移する\"><p class=\"_2bBRLhI5ZpVYu0tuHZEFrn\"><span class=\"pz0On1w4yAviBGMdKItoQ\"><span class=\"fQMqQTGJTbIMxjQwZA2zk _3tGRl6x9iIWRiFTkKl3kcR\">ニュース</span></span><span class=\"_1Al3K70np2V_Ev1eGkfsBm\"><span class=\"_2Uq6Pw5lfFfxr_OD36xHp6 _1dr5aVDbNPF63JCS2bJhij MV8kvbzLJ8HhdzIEBJ2Bv\" style=\"width:20px;height:20px\"></span></span></p></a></div></li></ul></div><footer id=\"ToolFooter\" class=\"_3wZKJtfV8AYYaTP-zoyO9O ult__mods\"><a class=\"yMWCYupQNdgppL-NV6sMi _3sAlKGsIBCxTUbNi86oSjt\" href=\"https://services.yahoo.co.jp/\" data-ylk=\"rsec:tool;slk:list;pos:0\" aria-label=\"Yahoo! JAPANのサービス一覧\"><dl class=\"STepvEgbaZ0rLEqfER-qm\"><dt class=\"W2bretj6vyf8QDes2gkQA\"><span class=\"fQMqQTGJTbIMxjQwZA2zk _3tGRl6x9iIWRiFTkKl3kcR\">サービス一覧</span></dt><dd class=\"_37zK--zuySKLzNE12rgdHL\"><span class=\"_2Uq6Pw5lfFfxr_OD36xHp6 _1dr5aVDbNPF63JCS2bJhij _3WrFs0ChLr_s9-gBqS7yts\" style=\"width:14px;height:14px\"></span></dd></dl></a></footer></div></nav></div><div class=\"_3Ub2I55GkwgCIsKwxCqNnq\"><div class=\"_2DunygeBZHdgHX_Gih3GC4\" id=\"Topics\"><article><div class=\"_1nJ39BFpWaPCIWutB-olO8 -DmdTfmK9dpsdI1vggc-z\"><header class=\"_3WRl3h4EAx9fdzwK76sfHC\"><h1 class=\"_2LJWWRbnY7KqEPyWQukxFD _9YxVmCAhrwLz2V6qXWqBJ\" aria-label=\"Yahoo!ニュース\">ニュース</h1></header><section id=\"tabpanelTopics1\" role=\"tabpanel\" aria-labelledby=\"tabTopics1\" aria-hidden=\"false\"><header class=\"_5swsXRdQMtHOvhS2bwHid _3v9VCsGKsktTB7eaN70w-n\"><h1>主要 ニュース</h1></header><div class=\"_1XAfHUWtx6tfYZuWDVjNxZ\"><div class=\"_2jjSS8r_I9Zd6O9NFJtDN-\" aria-label=\"主要 ニュース\"><p class=\"_2vq5UBfOFpYcyqNRy51gDf\"><span class=\"fQMqQTGJTbIMxjQwZA2zk _2VDw54wcDejORZkozpOysW\">8/16(日) 16:55更新</span></p><ul><li class=\"_2j0udhv5jERZtYzddeDwcv\"><article class=\"QLtbNZwO-lssuRUcWewbd\" data-ual-view-type=\"list\" data-ual=\"id_type:shannon_article;content_id:cd9e0b337611548f45560749cedbf5ea7af7cb36;element_id:first-news-topics-text\"><a class=\"yMWCYupQNdgppL-NV6sMi _3sAlKGsIBCxTUbNi86oSjt\" href=\"https://news.yahoo.co.jp/pickup/6368462\" data-ylk=\"rsec:tpto;slk:title;pos:1;tpid:6368462;imgsize:s;cmt_num:904\" data-ual-gotocontent=\"true\"><div class=\"_2cXD1uC4eaOih4-zkRgqjU\"><div class=\"TRuzXRRZHRqbqgLUCCco9\"><h1 class=\"_3cl937Zpn1ce8mDKd5kp7u\"><span class=\"fQMqQTGJTbIMxjQwZA2zk _3tGRl6x9iIWRiFTkKl3kcR\">奈良 天理大でクラスター発生</span></h1><span class=\"_2obRU_TgAxzHaYqOXrZYlv\"><span class=\"h4yLXygiSc5wwNlJOQEdz _1dr5aVDbNPF63JCS2bJhij _2M3AyDfFaeJl3Uo7lUPMAp\" style=\"width:30px;height:12px\">NEW</span></span></div></div></a></article></li><li class=\"_2j0udhv5jERZtYzddeDwcv\"><article class=\"QLtbNZwO-lssuRUcWewbd\" data-ual-view-type=\"list\" data-ual=\"id_type:shannon_article;content_id:66a7d0e77a2ebf8866b5f61087f734a55fec7393;element_id:first-news-topics-text\"><a class=\"yMWCYupQNdgppL-NV6sMi _3sAlKGsIBCxTUbNi86oSjt\" href=\"https://news.yahoo.co.jp/pickup/6368457\" data-ylk=\"rsec:tpto;slk:title;pos:2;tpid:6368457;imgsize:s;cmt_num:535\" data-ual-gotocontent=\"true\"><div class=\"_2cXD1uC4eaOih4-zkRgqjU\"><div class=\"TRuzXRRZHRqbqgLUCCco9\"><h1 class=\"_3cl937Zpn1ce8mDKd5kp7u\"><span class=\"fQMqQTGJTbIMxjQwZA2zk _3tGRl6x9iIWRiFTkKl3kcR\">テスラがEV主導 日本勢の覚悟</span></h1></div></div></a></article></li><li class=\"_2j0udhv5jERZtYzddeDwcv\"><article class=\"QLtbNZwO-lssuRUcWewbd\" data-ual-view-type=\"list\" data-ual=\"id_type:news_topics;content_id:6368463;element_id:first-news-topics-text\"><a class=\"yMWCYupQNdgppL-NV6sMi _3sAlKGsIBCxTUbNi86oSjt\" href=\"https://news.yahoo.co.jp/pickup/6368463\" data-ylk=\"rsec:tpto;slk:title;pos:3;tpid:6368463;imgsize:s;cmt_num:0\" data-ual-gotocontent=\"true\"><div class=\"_2cXD1uC4eaOih4-zkRgqjU\"><div class=\"TRuzXRRZHRqbqgLUCCco9\"><h1 class=\"_3cl937Zpn1ce8mDKd5kp7u\"><span class=\"fQMqQTGJTbIMxjQwZA2zk _3tGRl6x9iIWRiFTkKl3kcR\">マヌカハニー 一部除草剤検出</span></h1><span class=\"_2obRU_TgAxzHaYqOXrZYlv\"><span class=\"h4yLXygiSc5wwNlJOQEdz _1dr5aVDbNPF63JCS2bJhij _2M3AyDfFaeJl3Uo7lUPMAp\" style=\"width:30px;height:12px\">NEW</span></span></div></div></a></article></li><li class=\"_2j0udhv5jERZtYzddeDwcv\"><article class=\"QLtbNZwO-lssuRUcWewbd\" data-ual-view-type=\"list\" data-ual=\"id_type:shannon_article;content_id:2c1d622c4582a3a0cb09cca1c1bff95073426aed;element_id:first-news-topics-text\"><a class=\"yMWCYupQNdgppL-NV6sMi _3sAlKGsIBCxTUbNi86oSjt\" href=\"https://news.yahoo.co.jp/pickup/6368459\" data-ylk=\"rsec:tpto;slk:title;pos:4;tpid:6368459;imgsize:s;cmt_num:487\" data-ual-gotocontent=\"true\"><div class=\"_2cXD1uC4eaOih4-zkRgqjU\"><div class=\"TRuzXRRZHRqbqgLUCCco9\"><h1 class=\"_3cl937Zpn1ce8mDKd5kp7u\"><span class=\"fQMqQTGJTbIMxjQwZA2zk _3tGRl6x9iIWRiFTkKl3kcR\">マダニに刺され 85歳女性死亡</span></h1></div></div></a></article></li><li class=\"_2j0udhv5jERZtYzddeDwcv\"><article class=\"QLtbNZwO-lssuRUcWewbd\" data-ual-view-type=\"list\" data-ual=\"id_type:shannon_article;content_id:a36205d0e6192c3cdd20572dfe3fdfcc218d3c3a;element_id:first-news-topics-text\"><a class=\"yMWCYupQNdgppL-NV6sMi _3sAlKGsIBCxTUbNi86oSjt\" href=\"https://news.yahoo.co.jp/pickup/6368454\" data-ylk=\"rsec:tpto;slk:title;pos:5;tpid:6368454;imgsize:s;cmt_num:313\" data-ual-gotocontent=\"true\"><div class=\"_2cXD1uC4eaOih4-zkRgqjU\"><div class=\"TRuzXRRZHRqbqgLUCCco9\"><h1 class=\"_3cl937Zpn1ce8mDKd5kp7u\"><span class=\"fQMqQTGJTbIMxjQwZA2zk _3tGRl6x9iIWRiFTkKl3kcR\">コロナ 無料食堂180日の抵抗</span></h1><span class=\"_2obRU_TgAxzHaYqOXrZYlv\"><span class=\"h4yLXygiSc5wwNlJOQEdz _1dr5aVDbNPF63JCS2bJhij _2M3AyDfFaeJl3Uo7lUPMAp\" style=\"width:30px;height:12px\">NEW</span></span></div></div></a></article></li><li class=\"_2j0udhv5jERZtYzddeDwcv\"><article class=\"QLtbNZwO-lssuRUcWewbd\" data-ual-view-type=\"list\" data-ual=\"id_type:shannon_article;content_id:4040d8dc8f48e76cc2e330f7a40b119379ac2dc9;element_id:first-news-topics-text\"><a class=\"yMWCYupQNdgppL-NV6sMi _3sAlKGsIBCxTUbNi86oSjt\" href=\"https://news.yahoo.co.jp/pickup/6368464\" data-ylk=\"rsec:tpto;slk:title;pos:6;tpid:6368464;imgsize:s;cmt_num:236\" data-ual-gotocontent=\"true\"><div class=\"_2cXD1uC4eaOih4-zkRgqjU\"><div class=\"TRuzXRRZHRqbqgLUCCco9\"><h1 class=\"_3cl937Zpn1ce8mDKd5kp7u\"><span class=\"fQMqQTGJTbIMxjQwZA2zk _3tGRl6x9iIWRiFTkKl3kcR\">帯広農「初勝利」強豪を撃破</span></h1><span class=\"_2obRU_TgAxzHaYqOXrZYlv\"><span class=\"h4yLXygiSc5wwNlJOQEdz _1dr5aVDbNPF63JCS2bJhij _2M3AyDfFaeJl3Uo7lUPMAp\" style=\"width:30px;height:12px\">NEW</span></span></div></div></a></article></li><li class=\"_2j0udhv5jERZtYzddeDwcv\"><article class=\"QLtbNZwO-lssuRUcWewbd\" data-ual-view-type=\"list\" data-ual=\"id_type:shannon_article;content_id:042946309b239e70df76f939743a93dc0bcec6a1;element_id:first-news-topics-text\"><a class=\"yMWCYupQNdgppL-NV6sMi _3sAlKGsIBCxTUbNi86oSjt\" href=\"https://news.yahoo.co.jp/pickup/6368450\" data-ylk=\"rsec:tpto;slk:title;pos:7;tpid:6368450;imgsize:s;cmt_num:1472\" data-ual-gotocontent=\"true\"><div class=\"_2cXD1uC4eaOih4-zkRgqjU\"><div class=\"TRuzXRRZHRqbqgLUCCco9\"><h1 class=\"_3cl937Zpn1ce8mDKd5kp7u\"><span class=\"fQMqQTGJTbIMxjQwZA2zk _3tGRl6x9iIWRiFTkKl3kcR\">庄司が入院 対策の甘さを謝罪</span></h1></div></div></a></article></li><li class=\"_2j0udhv5jERZtYzddeDwcv\"><article class=\"QLtbNZwO-lssuRUcWewbd\" data-ual-view-type=\"list\" data-ual=\"id_type:shannon_article;content_id:ac70c00dcfeeb8beccd62940063bfff41f459ab6;element_id:first-news-topics-text\"><a class=\"yMWCYupQNdgppL-NV6sMi _3sAlKGsIBCxTUbNi86oSjt\" href=\"https://news.yahoo.co.jp/pickup/6368446\" data-ylk=\"rsec:tpto;slk:title;pos:8;tpid:6368446;imgsize:s;cmt_num:1058\" data-ual-gotocontent=\"true\"><div class=\"_2cXD1uC4eaOih4-zkRgqjU\"><div class=\"TRuzXRRZHRqbqgLUCCco9\"><h1 class=\"_3cl937Zpn1ce8mDKd5kp7u\"><span class=\"fQMqQTGJTbIMxjQwZA2zk _3tGRl6x9iIWRiFTkKl3kcR\">アッコ おまかせ12年ぶり欠席</span></h1></div></div></a></article></li></ul></div><div><article><a class=\"yMWCYupQNdgppL-NV6sMi _3sAlKGsIBCxTUbNi86oSjt\" href=\"https://headlines.yahoo.co.jp/hl?a=20200816-00000015-at_s-l22.view-000\" data-ylk=\"rsec:tpto;slk:title;pos:9;imgsize:l\"><div class=\"_1EYwdR4JxrwgpIvWk7vO3f\"><h1 class=\"RS4h_eDWC6FIIyYMupWR0\"><span class=\"fQMqQTGJTbIMxjQwZA2zk _3tGRl6x9iIWRiFTkKl3kcR\">平和の思い再生紙に</span></h1><p class=\"_2e8OreFgYIc3gdzYJLKAMA\"><time class=\"_1GD9Sx7FpCs4EuL3bT974r\">8/16(日) 11:21</time></p><div><cite class=\"O9jggTRv0zy3XcPayfJLa\">＠S［アットエス］ by 静岡新聞SBS</cite></div><div class=\"_1UmUawjY6VSzmTK3Y-1sjq\"><span class=\"rStpk9W4eUO5IMVhnJylj _9lUaMh5eQv_w-n4J18isw\"><img src=\"https://lpt.c.yimg.jp/im_siggR_znlayB1mCat.qiwg434w---x300-y300/amd/20200816-00000015-at_s-000-view.jpg\" width=\"150\" height=\"113\" alt=\"\"/></span></div></div></a></article></div></div><footer class=\"_14QMUEF7FBJllh14_fachi\"><ul class=\"g0enqV_RXcWSi7gOheAhU\"><li class=\"_3gXYBXvKzn55TlnxGoxJ5j\"><span class=\"fQMqQTGJTbIMxjQwZA2zk _3tGRl6x9iIWRiFTkKl3kcR\"><a class=\"yMWCYupQNdgppL-NV6sMi _3sAlKGsIBCxTUbNi86oSjt\" href=\"https://news.yahoo.co.jp/topics/top-picks\" data-ylk=\"rsec:tpto;slk:more;pos:0\">もっと見る</a></span></li><li class=\"_3gXYBXvKzn55TlnxGoxJ5j\"><span class=\"fQMqQTGJTbIMxjQwZA2zk _3tGRl6x9iIWRiFTkKl3kcR\"><a class=\"yMWCYupQNdgppL-NV6sMi _3sAlKGsIBCxTUbNi86oSjt\" href=\"https://news.yahoo.co.jp/topics\" data-ylk=\"rsec:tpto;slk:list;pos:0\">トピックス一覧</a></span></li></ul></footer></section></div></article></div></div><div class=\"_3c8q7hyrD42JAAHdJyE_Wv\"><article class=\"_3Ehituw3p_tjwuQ6KpjDWE\"><div class=\"_1nJ39BFpWaPCIWutB-olO8 _171Q0OxQF2Vk3J_CxMxajb -DmdTfmK9dpsdI1vggc-z\"><div class=\"_3DayOTWaRJVwUMySMNY4MZ\"><header class=\"ipzr3pZxMz2g8uDg9Y7R1 _3v9VCsGKsktTB7eaN70w-n\"><h1 class=\"_2LJWWRbnY7KqEPyWQukxFD _2vlyNSs41eUR8HDyQ8iUvQ\">個人に関わる情報</h1></header><div id=\"Login\" class=\"ult__mods JnVVZlSIAMbTJUrCMznTu\"><div class=\"_3anmkKnMOA7QwHXTM7PZ9T\"><p class=\"_1tJgZl7jyxpfZIocuTRj5W\"><a class=\"yMWCYupQNdgppL-NV6sMi _3sAlKGsIBCxTUbNi86oSjt\" href=\"https://login.yahoo.co.jp/config/login?.src=www&amp;.done=https://www.yahoo.co.jp/\" data-ylk=\"rsec:personal;slk:login;pos:0\"><span class=\"fQMqQTGJTbIMxjQwZA2zk _3tGRl6x9iIWRiFTkKl3kcR\">ログイン</span></a></p><p class=\"_1hINco49ET4FljpITFfh4h\"><a class=\"yMWCYupQNdgppL-NV6sMi _3sAlKGsIBCxTUbNi86oSjt\" href=\"https://account.edit.yahoo.co.jp/registration?.src=www&amp;.done=https://www.yahoo.co.jp/\" data-ylk=\"rsec:personal;slk:reg;pos:0\"><span class=\"_1mkb9myOuisBstoCqO0Hqs\">ID新規取得</span></a></p></div><a class=\"yMWCYupQNdgppL-NV6sMi _3sAlKGsIBCxTUbNi86oSjt\" href=\"https://login.yahoo.co.jp/config/login?.src=www&amp;.done=https%3A%2F%2Faccounts.yahoo.co.jp%2Fprofile%3F.done%3Dhttps%253A%252F%252Fwww.yahoo.co.jp%252F%253F.src%253Dwww%2526t_cushion%253D1\" data-ylk=\"rsec:personal;slk:profile;pos:0\"><p class=\"_2KSAVmekATGu43KySZB31Z _39bsyXI766slVaQ8YaCP7e\">登録情報</p></a></div><div class=\"_3sWLgEua45mRS1wa27goG-\"><section><div class=\"_1nJ39BFpWaPCIWutB-olO8 -DmdTfmK9dpsdI1vggc-z\"><header class=\"_37AoRe1Io5JOtSIPDdUQCF _1m5d7MNAIFyOM71xJdSK_s _3v9VCsGKsktTB7eaN70w-n\"><h1 class=\"_2LJWWRbnY7KqEPyWQukxFD _2vlyNSs41eUR8HDyQ8iUvQ\">あなたのステータス</h1></header><ul class=\"_2Wm09S4b119SO3Eoh_Q7V3\" aria-label=\"あなたのステータス\"><li id=\"StatusMail\" class=\"_2RpFjP5HbDyD457N6YoFih\"><a class=\"yMWCYupQNdgppL-NV6sMi _3sAlKGsIBCxTUbNi86oSjt\" href=\"https://mail.yahoo.co.jp/\" data-ylk=\"rsec:personal;slk:mail;pos:0\" aria-label=\"メール\"><dl class=\"NhCWhleHpZ0CADioxObVu\"><dt class=\"_3KpLuhOuze7bsGr1VOVvCU\"><span class=\"_2Uq6Pw5lfFfxr_OD36xHp6 _1dr5aVDbNPF63JCS2bJhij _3Qi5P0lTFbNkWishPzz8tb\" style=\"width:34px;height:28px\">メール</span></dt><dd class=\"_1CLgF9dk2PVVFQFnko3vN0\"><span class=\"fQMqQTGJTbIMxjQwZA2zk DB1xWkV-AiF3oBGL1BuYd\">メール</span></dd></dl></a></li><li id=\"StatusTpoint\" class=\"_2RpFjP5HbDyD457N6YoFih ult__mods\"><a class=\"yMWCYupQNdgppL-NV6sMi _3sAlKGsIBCxTUbNi86oSjt\" href=\"https://points.yahoo.co.jp/\" data-ylk=\"rsec:personal;slk:point;pos:0;badge:off\" aria-label=\"ポイント確認\"><dl class=\"NhCWhleHpZ0CADioxObVu\"><dt class=\"_3KpLuhOuze7bsGr1VOVvCU\"><span class=\"_2Uq6Pw5lfFfxr_OD36xHp6 _1dr5aVDbNPF63JCS2bJhij _2bzYtaEVOOQInqzAcQ1cme\" style=\"width:28px;height:28px\">Ｔポイント</span></dt><dd class=\"_1CLgF9dk2PVVFQFnko3vN0\"><span class=\"fQMqQTGJTbIMxjQwZA2zk DB1xWkV-AiF3oBGL1BuYd\">ポイント確認</span></dd></dl></a></li><li id=\"StatusPayPay\" class=\"_2RpFjP5HbDyD457N6YoFih ult__mods\"><a class=\"yMWCYupQNdgppL-NV6sMi _3sAlKGsIBCxTUbNi86oSjt\" href=\"https://wallet.yahoo.co.jp/paypay/balance?.done=https%3A%2F%2Fwww.yahoo.co.jp%2F&amp;.bail=https%3A%2F%2Fwww.yahoo.co.jp%2F&amp;.linkdisp=1&amp;sc_e=ywww_pp_top_pc1\" data-ylk=\"rsec:personal;slk:paypay;pos:0;badge:off\" aria-label=\"PayPay残高確認\"><dl class=\"NhCWhleHpZ0CADioxObVu\"><dt class=\"_3KpLuhOuze7bsGr1VOVvCU\"><span class=\"_2Uq6Pw5lfFfxr_OD36xHp6 _1dr5aVDbNPF63JCS2bJhij _2288dlil4Nkm3lO8Sm3hDU\" style=\"width:28px;height:28px\">PayPay</span></dt><dd class=\"_1CLgF9dk2PVVFQFnko3vN0\"><span class=\"fQMqQTGJTbIMxjQwZA2zk DB1xWkV-AiF3oBGL1BuYd\">PayPay残高確認</span></dd></dl></a></li></ul></div></section></div><div class=\"_31418k5_VMxE0Bfx2e1yNh\"><article id=\"Today\" class=\"ult__mods\"><div class=\"_1nJ39BFpWaPCIWutB-olO8 -DmdTfmK9dpsdI1vggc-z\"><header class=\"_3KxBQ9kjbz4FI25qkyAiJg\"><h1 class=\"_1kmEi41WiB4M_UKwNzOtG5 _3v9VCsGKsktTB7eaN70w-n\">今日の日付</h1><div class=\"_17f0xnyODgIyXzpprYD8Ot\"><p><a class=\"yMWCYupQNdgppL-NV6sMi _3sAlKGsIBCxTUbNi86oSjt\" href=\"https://calendar.yahoo.co.jp\" data-ylk=\"rsec:today;slk:date;pos:0\" aria-label=\"今日の日付は2020年8月16日\\u3000日曜日\"><span class=\"fQMqQTGJTbIMxjQwZA2zk _3tGRl6x9iIWRiFTkKl3kcR\"><time class=\"_39pIdCsxycrMrZfr-69cAP\" dateTime=\"2020-08-16T08:42:03.000Z\">2020年8月16日(日)</time></span></a></p></div></header></div></article></div></div></div></article></div></main><footer id=\"Footer\" role=\"contentinfo\" class=\"_2GpKo0TlJwonmUj2nqQxuE ult__mods\"><ul><li class=\"_2dqDKArI6iGaA3nS7xNUmE\"><dl><dt class=\"_2X2lsrA-jZqBKb6bsA9Vnr\"><span class=\"fQMqQTGJTbIMxjQwZA2zk _3tGRl6x9iIWRiFTkKl3kcR\">ヤフー株式会社</span></dt><dd><ul class=\"_3I3C2VL0OPEm7Iyt-OCFz0\"><li class=\"_3b1WmJCwznSYqqf7ptd54g\"><a class=\"yMWCYupQNdgppL-NV6sMi _3sAlKGsIBCxTUbNi86oSjt\" href=\"https://about.yahoo.co.jp/\" data-ylk=\"rsec:footer;slk:comp;pos:0\">会社概要</a></li><li class=\"_3b1WmJCwznSYqqf7ptd54g\"><a class=\"yMWCYupQNdgppL-NV6sMi _3sAlKGsIBCxTUbNi86oSjt\" href=\"https://about.yahoo.co.jp/csr/\" data-ylk=\"rsec:footer;slk:soc;pos:0\">社会的責任</a></li><li class=\"_3b1WmJCwznSYqqf7ptd54g\"><a class=\"yMWCYupQNdgppL-NV6sMi _3sAlKGsIBCxTUbNi86oSjt\" href=\"https://marketing.yahoo.co.jp/\" data-ylk=\"rsec:footer;slk:ad;pos:0\">広告掲載について</a></li><li class=\"_3b1WmJCwznSYqqf7ptd54g\"><a class=\"yMWCYupQNdgppL-NV6sMi _3sAlKGsIBCxTUbNi86oSjt\" href=\"https://about.yahoo.co.jp/hr/\" data-ylk=\"rsec:footer;slk:hr;pos:0\">採用情報</a></li></ul><ul class=\"_3I3C2VL0OPEm7Iyt-OCFz0\"><li class=\"_3b1WmJCwznSYqqf7ptd54g\"><a class=\"yMWCYupQNdgppL-NV6sMi _3sAlKGsIBCxTUbNi86oSjt\" href=\"https://about.yahoo.co.jp/common/terms/\" data-ylk=\"rsec:footer;slk:agreement;pos:0\">利用規約</a></li><li class=\"_3b1WmJCwznSYqqf7ptd54g\"><a class=\"yMWCYupQNdgppL-NV6sMi _3sAlKGsIBCxTUbNi86oSjt\" href=\"https://about.yahoo.co.jp/common/disclaimer/\" data-ylk=\"rsec:footer;slk:disc;pos:0\">免責事項</a></li><li class=\"_3b1WmJCwznSYqqf7ptd54g\"><a class=\"yMWCYupQNdgppL-NV6sMi _3sAlKGsIBCxTUbNi86oSjt\" href=\"https://about.yahoo.co.jp/common/mediastatement/\" data-ylk=\"rsec:footer;slk:state;pos:0\">メディアステートメント</a></li><li class=\"_3b1WmJCwznSYqqf7ptd54g\"><a class=\"yMWCYupQNdgppL-NV6sMi _3sAlKGsIBCxTUbNi86oSjt\" href=\"https://privacy.yahoo.co.jp/\" data-ylk=\"rsec:footer;slk:policy;pos:0\">プライバシー</a></li></ul></dd></dl></li><li class=\"_2dqDKArI6iGaA3nS7xNUmE\"><dl><dt class=\"_2X2lsrA-jZqBKb6bsA9Vnr\"><span class=\"fQMqQTGJTbIMxjQwZA2zk _3tGRl6x9iIWRiFTkKl3kcR\">Zホールディングス株式会社</span></dt><dd><ul class=\"_3I3C2VL0OPEm7Iyt-OCFz0\"><li class=\"_3b1WmJCwznSYqqf7ptd54g\"><a class=\"yMWCYupQNdgppL-NV6sMi _3sAlKGsIBCxTUbNi86oSjt\" href=\"https://www.z-holdings.co.jp/\" data-ylk=\"rsec:footer;slk:z_comp;pos:0\">会社概要</a></li><li class=\"_3b1WmJCwznSYqqf7ptd54g\"><a class=\"yMWCYupQNdgppL-NV6sMi _3sAlKGsIBCxTUbNi86oSjt\" href=\"https://www.z-holdings.co.jp/ir/\" data-ylk=\"rsec:footer;slk:ir;pos:0\">投資家情報</a></li></ul></dd></dl></li></ul><p class=\"_3rCO0-ffBAEkCS8URNYQBC\"><small class=\"_1wf30cBtHv6aK8mAYdYbuo\">Copyright (C) 2020 Yahoo Japan Corporation. All Rights Reserved.</small></p></footer></div></div><script src=\"https://pvtag.yahoo.co.jp/t?f=2079181999&amp;p=jp_toppage&amp;domain=.yahoo.co.jp&amp;js=1&amp;rnd=1597567323506\"></script><noscript><iframe title=\"PageCount\" src=\"https://pvtag.yahoo.co.jp/t?f=2079181999&amp;p=jp_toppage&amp;domain=.yahoo.co.jp&amp;js=0\" height=\"1\" width=\"1\" marginWidth=\"0\" marginHeight=\"0\" frameBorder=\"0\" scrolling=\"no\"></iframe></noscript><script src=\"https://s.yimg.jp/images/ds/ult/apj/rapid-4.4.0.js\"></script><script>(function(){\\n  var osmode = \"unknown\";\\n  if (typeof window.matchMedia !== \"undefined\") {\\n    if (window.matchMedia(\"(prefers-color-scheme: dark)\").matches) {\\n      osmode = \"dark\";\\n    } else if (window.matchMedia(\"(prefers-color-scheme: light)\").matches) {\\n      osmode = \"light\";\\n    }\\n  }\\n  var sr = new YAHOO.i13n.JP.simpleRapid();\\n  window.__rapid = sr.setSpaceid(2079181999)\\n    .trackedClass(\"ult__mods\")\\n    .trackedViewableClass(\"vult__mods\")\\n    .startViewable()\\n    .setPageParam({\"service\":\"toppage\",\"pagetype\":\"top\",\"status\":\"logout\",\"device\":\"pc\",\"os\":\"other\",\"apptype\":\"web\",\"opttype\":\"pc\",\"mtestid\":\"\",\"ybb\":\"0\",\"premium\":\"0\",\"paypay\":\"0\",\"tpoint\":\"0\"})\\n    .setPageParam({ \"osmode\": osmode })\\n    .initRapid();\\n})();</script><script src=\"https://s.yimg.jp/images/ds/yas/ual-2.10.2.min.js\"></script><script>(function(){\\n  window.ualcmds = window.ualcmds || [];\\n  window.ual = window.ual || function() {\\n    ualcmds.push(arguments);\\n  };\\n\\n  ual(\\'config\\', \\'token\\', \\'4465a92c-f0fd-406f-b519-efd409cc9849\\');\\n\\n  ual(\\'hit\\', \\'pageview\\', {\\n    service: \"toppage\",\\n    apptype: \"web\",\\n    mtestid: \"\",\\n    opttype: \"pc\",\\n    hierarchy_id: \"2079181999\"\\n  });\\n\\n  ual(\\'global\\', {\\n    service: \"toppage\",\\n    apptype: \"web\",\\n    mtestid: \"\",\\n    opttype: \"pc\"\\n  });\\n  ual(\\'offset\\', {\\n    auto: true\\n  });\\n  ual(\\'ctrl\\', \\'start\\');\\n})();</script><noscript><iframe title=\"PageCount\" src=\"https://b.yjtag.jp/iframe?c=2wzBV9u\" width=\"1\" height=\"1\" frameBorder=\"0\" scrolling=\"no\" marginHeight=\"0\" marginWidth=\"0\"></iframe></noscript></body></html>'"
      ]
     },
     "execution_count": 102,
     "metadata": {},
     "output_type": "execute_result"
    }
   ],
   "source": [
    "res.text"
   ]
  },
  {
   "cell_type": "code",
   "execution_count": 103,
   "metadata": {},
   "outputs": [],
   "source": [
    "# BeatuifulSoupに必要なデータを渡す\n",
    "soup = BeautifulSoup(res.text, 'html.parser')"
   ]
  },
  {
   "cell_type": "code",
   "execution_count": 104,
   "metadata": {},
   "outputs": [],
   "source": [
    "# selectメソッドで取得\n",
    "elems = soup.find_all('a')"
   ]
  },
  {
   "cell_type": "code",
   "execution_count": 106,
   "metadata": {},
   "outputs": [],
   "source": [
    "# 正規表現モジュールをインポート\n",
    "import re"
   ]
  },
  {
   "cell_type": "code",
   "execution_count": 107,
   "metadata": {},
   "outputs": [],
   "source": [
    "# 正規表現を使って条件絞り込み\n",
    "elems = soup.find_all(href=re.compile('news.yahoo.co.jp/pickup'))"
   ]
  },
  {
   "cell_type": "code",
   "execution_count": 108,
   "metadata": {},
   "outputs": [
    {
     "data": {
      "text/plain": [
       "[<a class=\"yMWCYupQNdgppL-NV6sMi _3sAlKGsIBCxTUbNi86oSjt\" data-ual-gotocontent=\"true\" data-ylk=\"rsec:tpto;slk:title;pos:1;tpid:6368462;imgsize:s;cmt_num:904\" href=\"https://news.yahoo.co.jp/pickup/6368462\"><div class=\"_2cXD1uC4eaOih4-zkRgqjU\"><div class=\"TRuzXRRZHRqbqgLUCCco9\"><h1 class=\"_3cl937Zpn1ce8mDKd5kp7u\"><span class=\"fQMqQTGJTbIMxjQwZA2zk _3tGRl6x9iIWRiFTkKl3kcR\">奈良 天理大でクラスター発生</span></h1><span class=\"_2obRU_TgAxzHaYqOXrZYlv\"><span class=\"h4yLXygiSc5wwNlJOQEdz _1dr5aVDbNPF63JCS2bJhij _2M3AyDfFaeJl3Uo7lUPMAp\" style=\"width:30px;height:12px\">NEW</span></span></div></div></a>,\n",
       " <a class=\"yMWCYupQNdgppL-NV6sMi _3sAlKGsIBCxTUbNi86oSjt\" data-ual-gotocontent=\"true\" data-ylk=\"rsec:tpto;slk:title;pos:2;tpid:6368457;imgsize:s;cmt_num:535\" href=\"https://news.yahoo.co.jp/pickup/6368457\"><div class=\"_2cXD1uC4eaOih4-zkRgqjU\"><div class=\"TRuzXRRZHRqbqgLUCCco9\"><h1 class=\"_3cl937Zpn1ce8mDKd5kp7u\"><span class=\"fQMqQTGJTbIMxjQwZA2zk _3tGRl6x9iIWRiFTkKl3kcR\">テスラがEV主導 日本勢の覚悟</span></h1></div></div></a>,\n",
       " <a class=\"yMWCYupQNdgppL-NV6sMi _3sAlKGsIBCxTUbNi86oSjt\" data-ual-gotocontent=\"true\" data-ylk=\"rsec:tpto;slk:title;pos:3;tpid:6368463;imgsize:s;cmt_num:0\" href=\"https://news.yahoo.co.jp/pickup/6368463\"><div class=\"_2cXD1uC4eaOih4-zkRgqjU\"><div class=\"TRuzXRRZHRqbqgLUCCco9\"><h1 class=\"_3cl937Zpn1ce8mDKd5kp7u\"><span class=\"fQMqQTGJTbIMxjQwZA2zk _3tGRl6x9iIWRiFTkKl3kcR\">マヌカハニー 一部除草剤検出</span></h1><span class=\"_2obRU_TgAxzHaYqOXrZYlv\"><span class=\"h4yLXygiSc5wwNlJOQEdz _1dr5aVDbNPF63JCS2bJhij _2M3AyDfFaeJl3Uo7lUPMAp\" style=\"width:30px;height:12px\">NEW</span></span></div></div></a>,\n",
       " <a class=\"yMWCYupQNdgppL-NV6sMi _3sAlKGsIBCxTUbNi86oSjt\" data-ual-gotocontent=\"true\" data-ylk=\"rsec:tpto;slk:title;pos:4;tpid:6368459;imgsize:s;cmt_num:487\" href=\"https://news.yahoo.co.jp/pickup/6368459\"><div class=\"_2cXD1uC4eaOih4-zkRgqjU\"><div class=\"TRuzXRRZHRqbqgLUCCco9\"><h1 class=\"_3cl937Zpn1ce8mDKd5kp7u\"><span class=\"fQMqQTGJTbIMxjQwZA2zk _3tGRl6x9iIWRiFTkKl3kcR\">マダニに刺され 85歳女性死亡</span></h1></div></div></a>,\n",
       " <a class=\"yMWCYupQNdgppL-NV6sMi _3sAlKGsIBCxTUbNi86oSjt\" data-ual-gotocontent=\"true\" data-ylk=\"rsec:tpto;slk:title;pos:5;tpid:6368454;imgsize:s;cmt_num:313\" href=\"https://news.yahoo.co.jp/pickup/6368454\"><div class=\"_2cXD1uC4eaOih4-zkRgqjU\"><div class=\"TRuzXRRZHRqbqgLUCCco9\"><h1 class=\"_3cl937Zpn1ce8mDKd5kp7u\"><span class=\"fQMqQTGJTbIMxjQwZA2zk _3tGRl6x9iIWRiFTkKl3kcR\">コロナ 無料食堂180日の抵抗</span></h1><span class=\"_2obRU_TgAxzHaYqOXrZYlv\"><span class=\"h4yLXygiSc5wwNlJOQEdz _1dr5aVDbNPF63JCS2bJhij _2M3AyDfFaeJl3Uo7lUPMAp\" style=\"width:30px;height:12px\">NEW</span></span></div></div></a>,\n",
       " <a class=\"yMWCYupQNdgppL-NV6sMi _3sAlKGsIBCxTUbNi86oSjt\" data-ual-gotocontent=\"true\" data-ylk=\"rsec:tpto;slk:title;pos:6;tpid:6368464;imgsize:s;cmt_num:236\" href=\"https://news.yahoo.co.jp/pickup/6368464\"><div class=\"_2cXD1uC4eaOih4-zkRgqjU\"><div class=\"TRuzXRRZHRqbqgLUCCco9\"><h1 class=\"_3cl937Zpn1ce8mDKd5kp7u\"><span class=\"fQMqQTGJTbIMxjQwZA2zk _3tGRl6x9iIWRiFTkKl3kcR\">帯広農「初勝利」強豪を撃破</span></h1><span class=\"_2obRU_TgAxzHaYqOXrZYlv\"><span class=\"h4yLXygiSc5wwNlJOQEdz _1dr5aVDbNPF63JCS2bJhij _2M3AyDfFaeJl3Uo7lUPMAp\" style=\"width:30px;height:12px\">NEW</span></span></div></div></a>,\n",
       " <a class=\"yMWCYupQNdgppL-NV6sMi _3sAlKGsIBCxTUbNi86oSjt\" data-ual-gotocontent=\"true\" data-ylk=\"rsec:tpto;slk:title;pos:7;tpid:6368450;imgsize:s;cmt_num:1472\" href=\"https://news.yahoo.co.jp/pickup/6368450\"><div class=\"_2cXD1uC4eaOih4-zkRgqjU\"><div class=\"TRuzXRRZHRqbqgLUCCco9\"><h1 class=\"_3cl937Zpn1ce8mDKd5kp7u\"><span class=\"fQMqQTGJTbIMxjQwZA2zk _3tGRl6x9iIWRiFTkKl3kcR\">庄司が入院 対策の甘さを謝罪</span></h1></div></div></a>,\n",
       " <a class=\"yMWCYupQNdgppL-NV6sMi _3sAlKGsIBCxTUbNi86oSjt\" data-ual-gotocontent=\"true\" data-ylk=\"rsec:tpto;slk:title;pos:8;tpid:6368446;imgsize:s;cmt_num:1058\" href=\"https://news.yahoo.co.jp/pickup/6368446\"><div class=\"_2cXD1uC4eaOih4-zkRgqjU\"><div class=\"TRuzXRRZHRqbqgLUCCco9\"><h1 class=\"_3cl937Zpn1ce8mDKd5kp7u\"><span class=\"fQMqQTGJTbIMxjQwZA2zk _3tGRl6x9iIWRiFTkKl3kcR\">アッコ おまかせ12年ぶり欠席</span></h1></div></div></a>]"
      ]
     },
     "execution_count": 108,
     "metadata": {},
     "output_type": "execute_result"
    }
   ],
   "source": [
    "elems"
   ]
  },
  {
   "cell_type": "code",
   "execution_count": 109,
   "metadata": {},
   "outputs": [
    {
     "data": {
      "text/plain": [
       "'奈良 天理大でクラスター発生'"
      ]
     },
     "execution_count": 109,
     "metadata": {},
     "output_type": "execute_result"
    }
   ],
   "source": [
    "# ニュースのタイトルを表示\n",
    "elems[0].span.string"
   ]
  },
  {
   "cell_type": "code",
   "execution_count": 110,
   "metadata": {},
   "outputs": [
    {
     "data": {
      "text/plain": [
       "'https://news.yahoo.co.jp/pickup/6368462'"
      ]
     },
     "execution_count": 110,
     "metadata": {},
     "output_type": "execute_result"
    }
   ],
   "source": [
    "# URLを取得\n",
    "elems[0].attrs['href']"
   ]
  },
  {
   "cell_type": "code",
   "execution_count": 111,
   "metadata": {},
   "outputs": [
    {
     "name": "stdout",
     "output_type": "stream",
     "text": [
      "奈良 天理大でクラスター発生\n",
      "https://news.yahoo.co.jp/pickup/6368462\n",
      "\n",
      "テスラがEV主導 日本勢の覚悟\n",
      "https://news.yahoo.co.jp/pickup/6368457\n",
      "\n",
      "マヌカハニー 一部除草剤検出\n",
      "https://news.yahoo.co.jp/pickup/6368463\n",
      "\n",
      "マダニに刺され 85歳女性死亡\n",
      "https://news.yahoo.co.jp/pickup/6368459\n",
      "\n",
      "コロナ 無料食堂180日の抵抗\n",
      "https://news.yahoo.co.jp/pickup/6368454\n",
      "\n",
      "帯広農「初勝利」強豪を撃破\n",
      "https://news.yahoo.co.jp/pickup/6368464\n",
      "\n",
      "庄司が入院 対策の甘さを謝罪\n",
      "https://news.yahoo.co.jp/pickup/6368450\n",
      "\n",
      "アッコ おまかせ12年ぶり欠席\n",
      "https://news.yahoo.co.jp/pickup/6368446\n",
      "\n"
     ]
    }
   ],
   "source": [
    "# for文を使って全部を取得\n",
    "for elem in elems:\n",
    "    print(elem.span.string)\n",
    "    print(elem.attrs['href'], end='\\n\\n')"
   ]
  },
  {
   "cell_type": "markdown",
   "metadata": {},
   "source": [
    "## 53. 要約ページからニュースページへのリンクの取得\n",
    "## 54. リンクを辿って複数ページを遷移する方法"
   ]
  },
  {
   "cell_type": "code",
   "execution_count": 113,
   "metadata": {},
   "outputs": [
    {
     "data": {
      "text/plain": [
       "['https://news.yahoo.co.jp/pickup/6368462',\n",
       " 'https://news.yahoo.co.jp/pickup/6368457',\n",
       " 'https://news.yahoo.co.jp/pickup/6368463',\n",
       " 'https://news.yahoo.co.jp/pickup/6368459',\n",
       " 'https://news.yahoo.co.jp/pickup/6368454',\n",
       " 'https://news.yahoo.co.jp/pickup/6368464',\n",
       " 'https://news.yahoo.co.jp/pickup/6368450',\n",
       " 'https://news.yahoo.co.jp/pickup/6368446']"
      ]
     },
     "execution_count": 113,
     "metadata": {},
     "output_type": "execute_result"
    }
   ],
   "source": [
    "# リスト内包表記を使ってtopページのリンクをリストに入れる\n",
    "pickup_links= [elem.attrs['href'] for elem in elems]\n",
    "pickup_links"
   ]
  },
  {
   "cell_type": "code",
   "execution_count": 116,
   "metadata": {},
   "outputs": [
    {
     "name": "stdout",
     "output_type": "stream",
     "text": [
      "https://headlines.yahoo.co.jp/hl?a=20200816-15592201-kantelev-l29\n",
      "https://headlines.yahoo.co.jp/hl?a=20200816-00010001-newswitch-bus_all\n",
      "https://news.yahoo.co.jp/byline/inosehijiri/20200816-00193587/\n",
      "https://headlines.yahoo.co.jp/hl?a=20200816-00010005-chibatopi-l12\n",
      "https://headlines.yahoo.co.jp/hl?a=20200816-00010000-hokkaibunv-hok\n",
      "https://headlines.yahoo.co.jp/hl?a=20200816-00242840-baseballk-base\n",
      "https://headlines.yahoo.co.jp/hl?a=20200816-00000324-oric-ent\n",
      "https://headlines.yahoo.co.jp/hl?a=20200816-00000121-spnannex-ent\n"
     ]
    }
   ],
   "source": [
    "# for文を使って先ほどリストから次のURLを取得する\n",
    "for pickup_link in pickup_links:\n",
    "    pickup_res = requests.get(pickup_link)\n",
    "    pickup_soup = BeautifulSoup(pickup_res.text, 'html.parser')\n",
    "    \n",
    "    pickup_elem = pickup_soup.find('p', class_='pickupMain_detailLink')\n",
    "    news_link = pickup_elem.a.attrs['href']\n",
    "    print(news_link)"
   ]
  },
  {
   "cell_type": "code",
   "execution_count": 126,
   "metadata": {},
   "outputs": [
    {
     "name": "stdout",
     "output_type": "stream",
     "text": [
      "新型コロナ・奈良県で過去最多の２４人感染確認　天理大ラグビー部ではクラスター発生（関西テレビ） - Yahoo!ニュース\n",
      "https://headlines.yahoo.co.jp/hl?a=20200816-15592201-kantelev-l29\n",
      "奈良県は１６日、新たに２４人の新型コロナウイルスへの感染が確認されたと発表しました。\n",
      "\n",
      "１日の感染者数としては過去最多です。\n",
      "\n",
      "２４人のうち１９人は、既に１人の感染が確認されている天理大学ラグビー部の部員で、奈良県はクラスターと認定しました。\n",
      "\n",
      "\n",
      "テスラを追随できるのか？日本勢が新型EVで挑む「世界市場」への覚悟（ニュースイッチ） - Yahoo!ニュース\n",
      "https://headlines.yahoo.co.jp/hl?a=20200816-00010001-newswitch-bus_all\n",
      "　日系自動車メーカー各社が電気自動車（EV）に本腰を入れている。日産自動車が新型EVを2021年に日本や欧州、中国などで販売するほか、トヨタ自動車は4月に高級車ブランド「レクサス」で初となるEVを中国で発売。ホンダやマツダは年内に欧州市場へ投入する。欧州や中国などでの環境規制の厳格化を受け、EVは今後も市場が拡大する見通し。同分野では米テスラを筆頭に欧州大手や中国メーカーも触手を伸ばしており、心臓部である車載電池の確保を含め、世界的な競争激化が見込まれる。\n",
      "\n",
      "存在感なき日産の電動車、「リーフ」はSUV化で名称変更も\n",
      "\n",
      "　日産のアリアはスポーツ多目的車（SUV）タイプのEVで、10年に発売した「リーフ」以来約10年ぶりの新型モデルとなる。フル充電からの航続距離は最大610キロメートルと、リーフの最上級モデルに比べて30％以上伸びる。補助金を含めた実質価格は500万円からと、テスラに引けを取らない価格競争力を実現した。\n",
      "\n",
      "　先進の運転支援技術も惜しみなく盛り込んだ。高速道路の同一車線内でハンドルから手を離した状態で運転できる「プロパイロット2・0」を搭載。準天頂衛星システムを活用して自車の位置を高精度に把握でき、運転支援の質を高めた。日産の内田誠社長兼最高経営責任者（CEO）は「アリアには日産の魅力がすべて詰まっている。日産の歴史の新たな扉を開くモデルだ」と期待をかける。\n",
      "\n",
      "\n",
      "新型コロナで人気沸騰の高級蜂蜜から発がん性疑惑農薬(猪瀬聖) - 個人 - Yahoo!ニュース\n",
      "https://news.yahoo.co.jp/byline/inosehijiri/20200816-00193587/\n",
      "\n",
      "\n",
      "\n",
      "マダニに刺され感染　日本紅斑熱で女性死亡　君津市（千葉日報オンライン） - Yahoo!ニュース\n",
      "https://headlines.yahoo.co.jp/hl?a=20200816-00010005-chibatopi-l12\n",
      "　千葉県は15日、君津市の無職女性（85）が、右足首をマダニに刺され日本紅斑熱に感染し、14日に死亡したと発表した。日本紅斑熱による県内の死者は、2006年に国の感染症集計システムが導入されて以来、初めてという。\n",
      "\n",
      "　県によると、日本紅斑熱は、野山や畑に入り病原体を保有したマダニにかまれると感染する。女性は、8月3日に37度台の熱が出て、6日に木更津市内の医療機関を受診。11日に別の医療機関に救急搬送され入院したが、回復しなかった。入院時はショック状態で、意識障害があったという。\n",
      "\n",
      "　県内では今年、日本紅斑熱の感染例が女性を含め6人確認されている。全国では19年に静岡県と茨城県で死亡例があるという。\n",
      "\n",
      "\n",
      "ホームレスに「ひもじい思いさせない」 無料食堂 新型コロナで閉鎖 必死の抵抗180日　札幌市（北海道ニュースUHB） - Yahoo!ニュース\n",
      "https://headlines.yahoo.co.jp/hl?a=20200816-00010000-hokkaibunv-hok\n",
      "　北海道で新型コロナウイルスの感染が拡大した2月、札幌の無料食堂は窮地に立たされていた。感染拡大を防ぐため食堂は閉鎖。それでも「憩いの場」をなんとか維持しようと奮闘した牧師がいる。長年、生計を立てるための仕事をしながら牧師を続けてきて、子どもに食事をさせるのにも苦労した。その経験から、ひもじい思いをしている人たちには定期的に食事があることが大切だと訴え、スタッフとともに食堂が閉鎖になっても弁当を作り、なんとか食事の提供を続けている。\n",
      "\n",
      "　コロナ禍、”接触できない”世界での「共生」のあり方とは。記者が見つめた180日の現場から考える。\n",
      "\n",
      "\n",
      "選抜・選手権の記録には残らないけれど…帯広農がたしかに刻んだ“甲子園初勝利”（ベースボールキング） - Yahoo!ニュース\n",
      "https://headlines.yahoo.co.jp/hl?a=20200816-00242840-baseballk-base\n",
      "◆ 秋の関東王者を撃破！\n",
      "\n",
      "　8月10日に開幕した『2020年甲子園 高校野球交流試合』も、このあとの第3試合と17日の3試合を残すのみ。残念ながら中止となってしまった今年の「春のセンバツ」への出場を決めていた32校が、1試合限りの夢舞台に挑んでいる。\n",
      "\n",
      "☆【特集】ドラフト候補2020　～Road to 10.26～\n",
      "\n",
      "\n",
      "　大会5日目の第2試合は、21世紀枠でセンバツ初出場を決めていた帯広農（北海道）が登場。農業高校ということで、部員の大半はこの一戦をもって野球を引退、農業の道へ進むというチームが、1試合限りの夢の舞台で躍動した。\n",
      "\n",
      "　相手は昨秋の関東王者・健大高崎。甲子園で数々の実績を残し、“機動破壊”というチームカラーを定着させた強豪校だが、帯広農はそんな相手のお株を奪うような攻撃で襲い掛かる。\n",
      "\n",
      "　2回、一死から水上流暢が四球を選んで出塁すると、つづく菅結汰は追い込まれながらもバスターでレフトに弾き返す安打を放ち、村中滉貴も安打で続いて一死満塁。外野フライで二死となるも、9番の2年生・谷口純也がしぶとく一二塁間を破る適時打。二者を還し、2－0と先制に成功した。\n",
      "\n",
      "\n",
      "　直後に1点を返されたものの、3回表は先頭の佐伯柊が内野安打で出塁。続く打者は三振に倒れるも、4番・前田愛都の打席で佐伯が果敢にスチール。ここで相手捕手の二塁送球が逸れ、外野へと抜ける間に走者は三塁へ。一死三塁とチャンスを拡大する。\n",
      "\n",
      "　すると、前田は直後の3球目をスクイズ。見事に投手前へ転がし、すぐさま点差を2点差に。足を使った攻め、そこから相手のミスに乗じて小技で1点。流れるような攻撃で主導権を渡さない。\n",
      "\n",
      "\n",
      "　その後、5回にもラッキーボーイ・谷口の安打から一死二塁のチャンスを作ると、佐伯がこの日3本目となる安打をセンター前に運び、二塁から谷口が生還。ノッている2人のバットでさらに点差を広げていく。\n",
      "\n",
      "　投げてはエースの井村塁が、6回まで1点でしのぐ力投。被安打6、与四死は2つも、味方の堅守にも助けられながら相手にやりたい攻撃をさせず、ゼロを並べた。\n",
      "\n",
      "　4－1の7回からは背番号9の水上流暢へと繋ぎ、右腕もピンチを背負いながら、ゆるいカーブなどを有効的に駆使して健大高崎打線を翻弄。3回を投げて被安打2、三振も4つ奪う好投で9つのアウトをゲット。灼熱の聖地で終始落ち着いたプレーを見せた帯広農が、うれしい甲子園初勝利を掴んだ。\n",
      "\n",
      "\n",
      "　今年は新型コロナウイルスの影響で春のセンバツ・夏の選手権はともに中止に。帯広農のこの勝利も、どちらの大会の記録にも載ることのない“幻の1勝”になるが、聖地で強豪に立ち向かい、もぎ取ったこの1勝は多くのファンの心に刻まれたはずだ。\n",
      "\n",
      "　試合後、前田康晴監督も「生徒を褒めてあげたい。みんなで元気よく、熱中症に負けず、コロナに負けずを合言葉に戦うことができたと思います。相手が健大高崎さんということで、不安の方が大きかったんですが、選手たちが本当によく頑張ってくれました」と、最後まで堂々と、勇敢に戦い抜いた選手たちを讃えた。\n",
      "\n",
      "\n",
      "文＝尾崎直也\n",
      "\n",
      "\n",
      "新型コロナ感染の庄司智春、入院報告　YouTubeは「事務所の判断で非公開」（オリコン） - Yahoo!ニュース\n",
      "https://headlines.yahoo.co.jp/hl?a=20200816-00000324-oric-ent\n",
      "　新型コロナウイルスに感染したお笑いコンビ・品川庄司の庄司智春（44）が16日、公式ツイッターを更新。極楽とんぼの山本圭壱（52）やココリコの遠藤章造（49）らと今月8日に生配信したYouTubeが「非公開」になったことを説明するとともに、きのう15日から入院したことを報告した。\n",
      "\n",
      "【写真】庄司＆ミキティが　喜びの“キス”でアツアツぶり披露\n",
      "\n",
      "　庄司は「改めてご報告です。この度は8日のYouTubeの生配信の時に感染予防対策が不完全だった為集団感染を引き起こした可能性があります」と伝え「問題となるYouTube動画に関しては所属事務所の判断で非公開となりました」と報告。\n",
      "\n",
      "　自身については「症状が出た12日からは検査以外で人との接触を断って自宅内でも隔離生活をし家族と距離をとって生活しました」とし「そして保健所の迅速な対応、判断により昨日から入院しております。自分たちの対策の甘さから集団感染を引き起こした可能性があります。本当に申し訳ありませんでした」と侘びた。\n",
      "\n",
      "　同日には、遠藤も自身のインスタグラムを通じて「この度は、YouTubeの撮影の際、感染対策が不完全だった為に、集団感染が起こってしまった可能性があります。感染予防、拡大防止に適してなかったYouTube動画に関しては、所属事務所の判断で非公開としております」と記した。\n",
      "\n",
      "　続けて「12日に症状が出てからは、検査以外で人との接触を断って生活してます。現在、家族はPCR検査結果を待ってる状況です。自分たちの対策の甘さからこの様な事になり本当に本当に申し訳ありませんでした」とつづっている。\n",
      "\n",
      "\n",
      "和田アキ子「アッコにおまかせ」12年ぶり欠席　等身大パネルに峰竜太「こんなに大きかったかな？」（スポニチアネックス） - Yahoo!ニュース\n",
      "https://headlines.yahoo.co.jp/hl?a=20200816-00000121-spnannex-ent\n",
      "　歌手でタレントの和田アキ子（70）が16日、TBS系「アッコにおまかせ」（日曜前11・45）の生放送を12年ぶりに欠席した。体調不良を理由に、前日にニッポン放送「ゴッドアフタヌーン　アッコのいいかげんに1000回」のスタジオ出演を見合わせており、この日も大事をとってスタジオには登場しなかった。\n",
      "\n",
      "【写真】17年、映画イベントでのキアヌ・リーブスと和田アキ子\n",
      "\n",
      "　オープニングとともに、セットの中央から元気に登場する和田の代わりに、この日は峰竜太（68）が和田の等身大パネルを持って登場。ゲスト陣が「あれ？あれ？」と驚く中、峰は「等身大のアッコさん、こんなに大きかったかな」と、自分より頭1つ分ほど大きなパネルを見上げてひとボケ。その後に「アッコさん、木曜日に倦怠感がありまして、金曜日にPCRの検査をしましたら、なんと、陰性ということでございまして。良かったなということなんですけど、念のためお休み。ということで、皆さん元気よくやって頂きたいと思います」と呼びかけた。\n",
      "\n",
      "　和田の体調について、「－いいかげんに1000回」では、フリーアナウンサー垣花正（48）が「梅雨明けしてから猛暑が続いていまして、その影響からかアッコさんが体調を崩されたという情報が入りました」と説明していた。13日夜にだるさを感じたため、14日に念のためPCR検査を受けたが結果は陰性だったという。同番組に電話出演した和田は「今日はこんな形でお休みすることになりました。体調も回復して元気なんですけど、だから来週はいつも通り出演します」とリスナーに報告していた。\n",
      "\n",
      "\n"
     ]
    }
   ],
   "source": [
    "# for文を使ってさらにリストから次のURLを取得\n",
    "for pickup_link in pickup_links:\n",
    "    pickup_res = requests.get(pickup_link)\n",
    "    pickup_soup = BeautifulSoup(pickup_res.text, 'html.parser')\n",
    "\n",
    "    # 3階層目のリンクを取得 \n",
    "    pickup_elem = pickup_soup.find('p', class_='pickupMain_detailLink')\n",
    "    news_link = pickup_elem.a.attrs['href']\n",
    "    \n",
    "    # 3階層目のHTMLを解析\n",
    "    news_res = requests.get(news_link)\n",
    "    news_soup = BeautifulSoup(news_res.text, 'html.parser')\n",
    "    \n",
    "    print(news_soup.title.text)\n",
    "    print(news_link)\n",
    "    \n",
    "    detail_text = news_soup.find(class_ = re.compile('DirectSLinkTarget'))\n",
    "    print(detail_text.text if hasattr(detail_text,'text') else'', end ='\\n\\n\\n')\n",
    "    \n",
    "    # 記事を取っている間隔を1秒とる\n",
    "    time.sleep(1)   "
   ]
  },
  {
   "cell_type": "code",
   "execution_count": null,
   "metadata": {},
   "outputs": [],
   "source": []
  }
 ],
 "metadata": {
  "kernelspec": {
   "display_name": "Python 3",
   "language": "python",
   "name": "python3"
  },
  "language_info": {
   "codemirror_mode": {
    "name": "ipython",
    "version": 3
   },
   "file_extension": ".py",
   "mimetype": "text/x-python",
   "name": "python",
   "nbconvert_exporter": "python",
   "pygments_lexer": "ipython3",
   "version": "3.7.4"
  }
 },
 "nbformat": 4,
 "nbformat_minor": 4
}
