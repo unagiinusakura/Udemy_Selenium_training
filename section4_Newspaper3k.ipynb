{
 "cells": [
  {
   "cell_type": "code",
   "execution_count": 1,
   "metadata": {},
   "outputs": [],
   "source": [
    "# anacondaにはデフォルトでインストールされていない\n",
    "# conda install -c conda -forge newspaper3k でインストールする"
   ]
  },
  {
   "cell_type": "markdown",
   "metadata": {},
   "source": [
    "## 19. 単一のニュース記事の取得"
   ]
  },
  {
   "cell_type": "code",
   "execution_count": 21,
   "metadata": {},
   "outputs": [],
   "source": [
    "# モジュールをインポート\n",
    "from newspaper import Article"
   ]
  },
  {
   "cell_type": "code",
   "execution_count": 17,
   "metadata": {},
   "outputs": [],
   "source": [
    "URL =\"https://www.reuters.com/article/us-health-coronavirus-usa-economy/u-s-deficit-could-quadruple-to-3-7-trillion-in-coronavirus-crisis-cbo-idUSKCN22633M\""
   ]
  },
  {
   "cell_type": "code",
   "execution_count": 18,
   "metadata": {},
   "outputs": [],
   "source": [
    "# URLを渡す\n",
    "article= Article(URL)"
   ]
  },
  {
   "cell_type": "code",
   "execution_count": 19,
   "metadata": {},
   "outputs": [],
   "source": [
    "# 記事をDLする\n",
    "article.download()"
   ]
  },
  {
   "cell_type": "code",
   "execution_count": 20,
   "metadata": {},
   "outputs": [],
   "source": [
    "# 記事を解析する\n",
    "article.parse()"
   ]
  },
  {
   "cell_type": "code",
   "execution_count": 22,
   "metadata": {},
   "outputs": [
    {
     "data": {
      "text/plain": [
       "datetime.datetime(2020, 4, 24, 21, 29, 44, tzinfo=tzutc())"
      ]
     },
     "execution_count": 22,
     "metadata": {},
     "output_type": "execute_result"
    }
   ],
   "source": [
    "# 記事の発行した日付を表示\n",
    "article.publish_date"
   ]
  },
  {
   "cell_type": "code",
   "execution_count": 24,
   "metadata": {},
   "outputs": [
    {
     "data": {
      "text/plain": [
       "['Reuters Editorial', 'Min Read']"
      ]
     },
     "execution_count": 24,
     "metadata": {},
     "output_type": "execute_result"
    }
   ],
   "source": [
    "# 記事の作成者を確認\n",
    "article.authors"
   ]
  },
  {
   "cell_type": "code",
   "execution_count": 25,
   "metadata": {},
   "outputs": [
    {
     "data": {
      "text/plain": [
       "'WASHINGTON (Reuters) - A nationwide business shutdown and surge in U.S. government spending will nearly quadruple the federal deficit to a record $3.7 trillion this fiscal year as the country combats the coronavirus pandemic, congressional forecasters said on Friday.\\n\\nFILE PHOTO: A bicyclist rides through Times Square during evening rush hour, during the outbreak of the coronavirus disease (COVID-19) in New York City, New York, U.S., April 15, 2020. REUTERS/Bryan R Smith\\n\\nU.S. gross domestic product will plunge by nearly 40% on an annualized basis in the second quarter, according to the nonpartisan Congressional Budget Office. But the CBO forecast an economic resurgence in the second half of the year, and said unemployment would crest at 16% but remain in double digits throughout 2021.\\n\\nThe CBO report illustrated the fiscal pressures lawmakers in Congress face as they prepare to craft new legislation to respond to the pandemic. Congress has already passed $3 trillion in spending on healthcare, small businesses and other measures to combat the outbreak and its economic effects.\\n\\n“If the laws currently in place governing spending and revenues generally remained unchanged and no significant additional emergency funding was provided, the federal deficit would be roughly $3.7 trillion in fiscal year 2020 and $2.1 trillion next year,” the CBO said. In March, the CBO projected deficits of just over $1 trillion in each of those years.\\n\\nThe federal debt would equal 101% of GDP by Sept. 30, when the 2020 federal fiscal year ends, and would grow to 108% by the end of fiscal 2021, CBO said.\\n\\nThe agency predicted real GDP will decline 5.6% in 2020 and then grow 2.8% in 2021. But economic activity for 2021 would still be 6.7% below a projection the CBO issued in late January.\\n\\nThe CBO’s Jan. 28 forecast, before coronavirus roared through the United States, saw the economy remaining vibrant through this presidential election year, partially due to strong consumer spending.\\n\\nNow, some experts see an even more dire landscape than the CBO.\\n\\nWilliam Hoagland, senior vice president at the Bipartisan Policy Center, a Washington think-tank focused on fiscal policy and other issues, said he thought the economy will recover slower in the second half of 2020 than the CBO’s outlook.\\n\\nHoagland added that the 2020 budget deficit could exceed $4 trillion when taking into consideration possible additional economic stimulus legislation.\\n\\nIndeed, House of Representatives Democrats already are crafting a new coronavirus aid bill. Speaker Nancy Pelosi on Friday warned it will be “expensive.”\\n\\nFurther ahead, Hoagland said in an email the next fiscal challenge facing policymakers will be how they “unwind the level of debt and deficits post-crisis without significant inflationary pressures.”'"
      ]
     },
     "execution_count": 25,
     "metadata": {},
     "output_type": "execute_result"
    }
   ],
   "source": [
    "# 記事の本文を表示\n",
    "article.text"
   ]
  },
  {
   "cell_type": "code",
   "execution_count": 26,
   "metadata": {},
   "outputs": [
    {
     "data": {
      "text/plain": [
       "'U.S. deficit could quadruple to $3.7 trillion in coronavirus crisis: CBO'"
      ]
     },
     "execution_count": 26,
     "metadata": {},
     "output_type": "execute_result"
    }
   ],
   "source": [
    "# 記事のタイトルを取得\n",
    "article.title"
   ]
  },
  {
   "cell_type": "markdown",
   "metadata": {},
   "source": [
    "## 20.自然言語処理による要約の取得"
   ]
  },
  {
   "cell_type": "code",
   "execution_count": 27,
   "metadata": {},
   "outputs": [
    {
     "name": "stderr",
     "output_type": "stream",
     "text": [
      "[nltk_data] Downloading package punkt to\n",
      "[nltk_data]     C:\\Users\\mikam\\AppData\\Roaming\\nltk_data...\n",
      "[nltk_data]   Unzipping tokenizers\\punkt.zip.\n"
     ]
    },
    {
     "data": {
      "text/plain": [
       "True"
      ]
     },
     "execution_count": 27,
     "metadata": {},
     "output_type": "execute_result"
    }
   ],
   "source": [
    "# 自然言語処理のライブラリをインポート\n",
    "import nltk\n",
    "nltk.download('punkt')"
   ]
  },
  {
   "cell_type": "code",
   "execution_count": 28,
   "metadata": {},
   "outputs": [],
   "source": [
    "# 自然言語処理を実行する\n",
    "article.nlp()"
   ]
  },
  {
   "cell_type": "code",
   "execution_count": 29,
   "metadata": {},
   "outputs": [
    {
     "data": {
      "text/plain": [
       "['quadruple',\n",
       " 'deficit',\n",
       " '37',\n",
       " 'fiscal',\n",
       " '2020',\n",
       " 'second',\n",
       " 'trillion',\n",
       " 'coronavirus',\n",
       " 'crisis',\n",
       " 'economic',\n",
       " 'spending',\n",
       " 'cbo',\n",
       " 'federal']"
      ]
     },
     "execution_count": 29,
     "metadata": {},
     "output_type": "execute_result"
    }
   ],
   "source": [
    "# キーワードの確認(記事の中でよく使われるキーワード)\n",
    "article.keywords"
   ]
  },
  {
   "cell_type": "code",
   "execution_count": 30,
   "metadata": {},
   "outputs": [
    {
     "data": {
      "text/plain": [
       "'WASHINGTON (Reuters) - A nationwide business shutdown and surge in U.S. government spending will nearly quadruple the federal deficit to a record $3.7 trillion this fiscal year as the country combats the coronavirus pandemic, congressional forecasters said on Friday.\\n“If the laws currently in place governing spending and revenues generally remained unchanged and no significant additional emergency funding was provided, the federal deficit would be roughly $3.7 trillion in fiscal year 2020 and $2.1 trillion next year,” the CBO said.\\nIn March, the CBO projected deficits of just over $1 trillion in each of those years.\\nThe federal debt would equal 101% of GDP by Sept. 30, when the 2020 federal fiscal year ends, and would grow to 108% by the end of fiscal 2021, CBO said.\\nHoagland added that the 2020 budget deficit could exceed $4 trillion when taking into consideration possible additional economic stimulus legislation.'"
      ]
     },
     "execution_count": 30,
     "metadata": {},
     "output_type": "execute_result"
    }
   ],
   "source": [
    "# 記事の要約が表示される\n",
    "article.summary"
   ]
  },
  {
   "cell_type": "code",
   "execution_count": 31,
   "metadata": {},
   "outputs": [
    {
     "data": {
      "text/plain": [
       "'WASHINGTON (Reuters) - A nationwide business shutdown and surge in U.S. government spending will nearly quadruple the federal deficit to a record $3.7 trillion this fiscal year as the country combats the coronavirus pandemic, congressional forecasters said on Friday.“If the laws currently in place governing spending and revenues generally remained unchanged and no significant additional emergency funding was provided, the federal deficit would be roughly $3.7 trillion in fiscal year 2020 and $2.1 trillion next year,” the CBO said.In March, the CBO projected deficits of just over $1 trillion in each of those years.The federal debt would equal 101% of GDP by Sept. 30, when the 2020 federal fiscal year ends, and would grow to 108% by the end of fiscal 2021, CBO said.Hoagland added that the 2020 budget deficit could exceed $4 trillion when taking into consideration possible additional economic stimulus legislation.'"
      ]
     },
     "execution_count": 31,
     "metadata": {},
     "output_type": "execute_result"
    }
   ],
   "source": [
    "# 改行文字を置き換える\n",
    "article.summary.replace(\"\\n\",\"\")"
   ]
  },
  {
   "cell_type": "markdown",
   "metadata": {},
   "source": [
    "## 21. 複数のニュース記事の取得"
   ]
  },
  {
   "cell_type": "code",
   "execution_count": 33,
   "metadata": {},
   "outputs": [],
   "source": [
    "# 日本語で自然言語処理するにはtinysegmenterをインストールする\n",
    "# pip install tinysegmenter==0.3\n",
    "# Newspaper3Kのバージョンからtinysegmenterもバージョン指定あり"
   ]
  },
  {
   "cell_type": "code",
   "execution_count": 34,
   "metadata": {},
   "outputs": [],
   "source": [
    "import newspaper"
   ]
  },
  {
   "cell_type": "code",
   "execution_count": 35,
   "metadata": {},
   "outputs": [],
   "source": [
    "URL=\"https://www.bloomberg.co.jp/\""
   ]
  },
  {
   "cell_type": "code",
   "execution_count": 36,
   "metadata": {},
   "outputs": [],
   "source": [
    "# 複数を取得する場合、buildを使う\n",
    "website = newspaper.build(URL)"
   ]
  },
  {
   "cell_type": "code",
   "execution_count": 39,
   "metadata": {},
   "outputs": [
    {
     "name": "stdout",
     "output_type": "stream",
     "text": [
      "記事 0 : ４-６月ＧＤＰは年率27％減見通し､最大の落ち込み-コロナ直撃 (訂正)\n",
      "https://www.bloomberg.co.jp/news/articles/2020-08-13/QEZ4ELDWX2R701?srnd=cojp-v2\n",
      "Photographer: Soichiro Koriyama/Bloomberg Photographer: Soichiro Koriyama/Bloomberg４－６月期の日本経済は戦後最悪のマイナス成長が見込まれている。新型コロナウイルス感染拡大に伴い４月に緊急事態宣言が発令され、外出自粛や休業要請の影響で個人消費が急減。国内外の経済活動が停滞し、企業の設備投資や外需も悪化した。内閣府が17日発表する４ー６月期の実質国内総生産（ＧＤＰ）について、ブルームバーグのエコノミスト調査では、全員が３四半期連続のマイナス成長を予想。中央値は前期比7.6％減、年率27.0％減と、ＧＤＰ統計をさかのぼれる1955年以降で最大の落ち込みとなる見通し。個人消費は前期比７％減、設備投資は同4.1％減が見込まれている。戦後最大のマイナス成長へ 新型コロナで社会経済活動が停滞 出所：内閣府、20年４－６月期はブルームバーグ集計のエコノミスト予想中央値国内では５月の消費支出が前年同月比16.2％減と比較可能な2001年１月以降で最大の落ち込みとなったほか、鉱工業生産指数も比較可能な13年１月以降の最低を更新、輸出は同28.3％減とリーマンショック後の09年９月以来の落ち込みとなった。海外でもロックダウン（都市封鎖）を行った英国の４－６月期ＧＤＰが前期比年率59.8％減、米国は同 32.9％減と、いずれも過去最大の落ち込みを記録した。みずほ証券の小林俊介チーフエコノミストは、大幅マイナスの中身は「一つの柱は消費、もう一つ厄介なのは純輸出」と指摘。「４－５月をボトムに経済活動は戻ってきているが、ワクチンや治療薬が出てくるまでコロナ以前に戻ることはなく、７割経済で天井が低い状態が続く」との見方を示した。さらなる下振れ要因として、雇用調整助成金の特例や10万円給付などの政策サポートが途切れることによる財政の崖や、冬場の第３波襲来を懸念する。日本政府は、雇調金特例や資金繰り支援など国内ＧＤＰの４割に相当する経済対策を講じ、失業者数や倒産件数の増加抑制に取り組んでいる。さらに消費刺激策の一環として７月には観光促進策「ＧｏＴｏトラベル」事業を感染が再拡大している東京発着を除いて開始した。ＳＭＢＣ日興証券の丸山義正チーフマーケットエコノミストは、「資金繰りの手当てや雇調金で、経済基盤は一応維持できるようになっている」と指摘。それでも経済活動の水準が戻ってこないならば、「景気を押し上げるため秋の経済対策も考えていかないといけない」と語った。\n",
      "\n",
      "記事 1 : アップルが55億ドル規模の起債実施へ、低金利の機会活用－関係者\n",
      "https://www.bloomberg.co.jp/news/articles/2020-08-13/QF05FFT0G1KX01?srnd=cojp-v2\n",
      "Photographer: Chris Ratcliffe/Bloomberg Photographer: Chris Ratcliffe/Bloomberg米 アップルは起債を実施する。借り入れコストが極めて低い状況を受けて大手テクノロジー企業による起債が相次ぐ中、アップルもこの流れに乗った格好だ。アップルが今年、投資適格債市場で資金を調達するのは５月に続いて２回目となる。今回の起債の規模は55億ドル（約5890億円）相当。同社は2017年以降、暦年の１年間に２回以上ドル建ての借り入れを行ったことはない。17年当時も起債コストは低かったが、現在はそれをさらに下回る。アマゾン・ドット・コムやグーグルの親会社アルファベットなど手元資金が豊富な企業が大型起債に動いており、利率を押し下げている。事情に詳しい関係者によれば、アップルの起債は４本立て。最も長い年限は40年で、利回りは米国債を135ベーシスポイント（ｂｐ、１ｂｐ＝0.01％）程度上回る水準となる可能性があるという。関係者は起債の詳細が非公開だとして匿名を条件に語った。アップルはこれまでと同様に調達資金を自社株買いや配当支払いなどに利用するという。起債の幹事はＪＰモルガン・チェースとバークレイズ、ゴールドマン・サックス・グループが務める。原題： Apple to Sell $5.5 Billion of Bonds in Tech Borrowing Boom (3)（抜粋）\n",
      "\n",
      "記事 2 : 日本株は小幅続伸、米ハイテク株高や円安で－ハイテク株高い\n",
      "https://www.bloomberg.co.jp/news/articles/2020-08-13/QF0U3XDWX2PW01?srnd=cojp-v2\n",
      "14日の東京株式相場は小幅続伸。下げる場面もあったが、前日の米国株式市場でナスダック総合指数が上昇して終わったことを受けて、ハイテク株に買いが集まっている。一方で米国の景気対策を巡る協議が行き詰まっていることへの警戒がくすぶる。ブルームバーグの計算による日経平均オプション８月限ＳＱ値は２万3350円79銭。ＴＯＰＩＸの前場終値は前日比2.61ポイント（0.2％）高の1626.76日経平均株価は25円66銭（0.1％）高の２万3275円27銭〈きょうのポイント〉みずほ証券の三浦豊エクイティ調査部シニアテクニカルアナリストは、前日の米国市場でＳ＆Ｐ500種株価指数やダウ工業株30種平均が下落する中、ナスダック総合指数がプラスを維持したことから、「日本市場でもハイテク株などのグロース株がやや強い動きとなる可能性がある」と話していた。日経平均は２万3000円を超えたところで上値の重い値動きとなっている。三井住友信託銀行の瀬良礼子マーケット・ストラテジストは、「経済回復のペースと株価の回復ペースにかい離が生じてきている」とみる。新型コロナのワクチンに関する実際の効果など市場に安心感をもたらすニュースがない限り、株価は調整する可能性はあるという。\n",
      "\n",
      "記事 3 : フェイスブック、1.6億人の米ユーザー狙い選挙情報サイトを特設\n",
      "https://www.bloomberg.co.jp/news/articles/2020-08-13/QEZQ62T0G1LN01?srnd=cojp-v2\n",
      "米 フェイスブックは、11月の選挙に向けて投票情報サイトを立ち上げた。投票登録のリンクや、投票所でのボランティア活動に申し込む方法など、選挙に関連した情報をまとめて提供する。この特設サイトはマーク・ザッカーバーグ最高経営責任者（ＣＥＯ）が６月に発表していたもので、今秋には米国内ユーザーのフェイスブックとインスタグラムのフィード最上部に表示される。フェイスブックのソーシャルインパクト担当ディレクター、エミリー・ダルトン・スミス氏によれば、同社ではこのサイトが11月の選挙までに米国のユーザー１億6000万人の目に触れると見込む。フェイスブックは州当局のほか、 超党派政策センターや 連邦投票支援プログラムなどの団体から情報を集め、同サイトに集積する考え。フェイスブックの投票情報サイト 出典： フェイスブックフェイスブックは先月、投票に関する情報が含まれる全ての投稿に ラベル付けを開始しており、新たな情報サイトにユーザーを誘導する計画。同社は400万人の投票登録を支援することを目指している。ダルトン・スミス氏によると、同サイトを用いて開票結果を共有することも予定している。郵便投票が多くなると予想される中で、開票結果がすぐに出ないシナリオにも備えている。原題：Facebook Aims to Reach 160 Million With U.S. Election Hub (1)（抜粋）\n",
      "\n",
      "記事 4 : インド、５Ｇの試験運用でファーウェイとＺＴＥを排除へ－関係者\n",
      "https://www.bloomberg.co.jp/news/articles/2020-08-13/QF050PT0AFB701?srnd=cojp-v2\n",
      "Photographer: Qilai Shen/Bloomberg Photographer: Qilai Shen/Bloombergインドは第５世代（５Ｇ）移動通信網の導入計画から、中国の華為技術（ ファーウェイ）と中興通訊（ ＺＴＥ）を排除する方針だ。国境付近での衝突で死者が出るなど、両国の関係は大きく冷え込んでいる。インドは７月23日に投資規制を改正。陸の国境を接する国の企業を対象に、国家安全保障上の懸念を理由に入札での参入を制限すると定めた。匿名を条件に語った複数の関係者によれば、インドは今回この新規制を適用する。関係者らによれば、インドの電子・情報技術省は民間企業による５Ｇ試験運用での認可に向けた協議を再開する。バーティ・エアテルやリライアンス・ジオ・インフォコム、ボーダフォン・アイデアなどと協議が行われていたが、新型コロナウイルス感染拡大に伴う全国的なロックダウン（都市封鎖）で遅れが生じていた。ファーウェイとＺＴＥの排除決定は、首相府の承認を受けた後、１－２週間で発表される見通しだという。電子・情報技術省の報道官ならびに首相府からは、コメントを得られていない。原題： China’s Huawei, ZTE Set to be Shut Out of India’s 5G Trials（抜粋）\n",
      "\n",
      "記事 5 : ソフトバンクＧ出資の中国ＡＩ企業、香港と本土でＩＰＯ検討－関係者\n",
      "https://www.bloomberg.co.jp/news/articles/2020-08-13/QF02SUDWX2QY01?srnd=cojp-v2\n",
      "ソフトバンクグループが出資する中国の人工知能（ＡＩ）大手、商湯科技（ センスタイム・グループ）は香港と中国本土で同時に新規株式公開（ＩＰＯ）することを検討していると、事情に詳しい関係者が明らかにした。同社はこれに先立ち、15億ドル（約1600億円）を近く調達する。非公開の情報だとして匿名で語った関係者によると、同社はＩＰＯの前に企業評価額を約85億ドルとした資金調達を行いたい考え。ＩＰＯは香港と中国本土での重複上場に傾いているが、時間的なスケジュールは最終決定していないという。計画はまだ暫定で、今後変更される可能性もあると、関係者はくぎを刺した。センスタイムの担当者はコメントを控えた。センスタイムは2018年に25億ドル近くを調達し、世界で最も企業評価額の高いＡＩスタートアップとなった。当時の評価額は75億ドル余りで、ソフトバンクＧやシンガポールの政府系投資会社テマセク・ホールディングスなどが出資に応じたと、関係者が述べていた。トランプ米政権は昨年、センスタイムを米国の重要なテクノロジーへのアクセスを制限するブラックリストの 対象とした。原題：SoftBank-Backed AI Startup Is Said to Eye Hong Kong, China IPO（抜粋）\n",
      "\n",
      "記事 6 : ソフトバンクＧ、ウィーワークに11億ドル追加資金コミットメント\n",
      "https://www.bloomberg.co.jp/news/articles/2020-08-13/QF0SW4T0G1KZ01?srnd=cojp-v2\n",
      "ソフトバンクグループはシェアオフィス事業を手掛ける米ウィーワークへの資金コミットメントを11億ドル（約1180億円）増やす。ブルームバーグ・ニュースが入手したスタッフ向けメモで明らかになった。ウィーワークは契約件数の減少をもたらしている新型コロナウイルス危機を乗り越えようと取り組んでいる。メモはウィーワークのキンバリー・ロス最高財務責任者（ＣＦＯ）が書いたもので、広報担当者によって内容が確認された。今回の投資は担保付きシニア債の形で行われる。これによってウィーワークの手元現金および未実行の現金コミットメントは41億ドルに増加するという。ロスＣＦＯは「ソフトバンクが当社ビジネスを引き続き支援していることをあらためて示すものだ」と説明。「新型コロナウイルス感染症（ＣＯＶＩＤ１９）はわれわれのビジネスに影響している」と指摘した。ウィーワークの４－６月（第２四半期）売上高は８億8200万ドルと、前年同期比９％増加したものの、 １－３月（第１四半期）の11億ドルから減少した。４－６月期の契約件数は前期比12％減の61万2000件だった。明るい兆しもある。ロス氏は「世界規模で柔軟性を目指している複数の主要企業から新たな需要が見られている」と指摘した。ソフトバンクＧのビジョン・ファンドはウィーワークの株式評価損が響き、多額の損失を 計上している。原題： SoftBank Commits $1.1 Billion to WeWork With Membership Sliding（抜粋）\n",
      "\n",
      "記事 7 : 英、イングランドの劇場や美容室を15日から再開－都市封鎖再び緩和へ\n",
      "https://www.bloomberg.co.jp/news/articles/2020-08-13/QF0USZDWLU6E01?srnd=cojp-v2\n",
      "ジョンソン英政権は13日遅く、イングランドのロックダウン（都市封鎖）規則を再び緩和し、劇場やカジノ、ビューティーサロンなどの再開を認めると発表した。一方、ソーシャルディスタンス（社会的距離）違反者については罰則を強化すると警告した。英政府が発表した15日以降に予定する規制緩和は次の通り。イングランド北部の一部はより厳しい規制の下に引き続き置かれる。屋内の公演会場は再開可能結婚披露宴はゲストを最大30人に限定し、着席して食事すれば開催できる屋内遊戯施設、ボーリング場、スケートリンク、カジノも再開可能ビューティーサロン、タトゥーパーラー、スパ、理髪店も「濃厚接触」を伴うサービスを提供できる原題： Johnson Resumes England Lockdown Easing With Fines for Breaches（抜粋）\n",
      "\n",
      "記事 8 : 中国の動画配信サービス愛奇芸、米ＳＥＣが調査－時間外でＡＤＲ急落\n",
      "https://www.bloomberg.co.jp/news/articles/2020-08-14/QF0TPZDWRGG101?srnd=cojp-v2\n",
      "Photographer: Da qing/AP Photographer: Da qing/AP中国の 百度（バイドゥ）が出資するネットフリックス型の動画配信サービスを手掛ける 愛奇芸（ｉＱｉｙｉ）の米国預託証券（ＡＤＲ）は13日、時間外取引で一時19％下落。同社は米証券取引委員会（ＳＥＣ）による調査を受けていることを４－６月（第２四半期）決算の発表資料の中で明らかにした。愛奇芸は調査に協力しているとしたうえで、ＳＥＣから2018年１月までさかのぼる財政・営業記録の提出を求められていると説明。ＳＥＣの調査担当者は、空売り投資家ウルフパック・リサーチが４月のリポートで言及していた買収や投資を巡る文書の提出も求めているという。愛奇芸は社内調査を実施するためにアドバイザーを起用したことも明らかにした。同社のＡＤＲは時間外取引で一時17.50ドルまで値下がり。年初から13日の通常取引終了までは2.7％上昇していた。備考： 中国は対米協議でウィーチャット、ティックトック取り上げへ原題：China’s Iqiyi Tumbles on News SEC Is Probing Streaming Company（抜粋）\n",
      "\n",
      "記事 9 : 組み入れトップは「テスラ」、１年で資産規模５倍－日本の個人魅了\n",
      "https://www.bloomberg.co.jp/news/articles/2020-08-13/QEMIB7DWLU6801?srnd=cojp-v2\n",
      "電気自動（ＥＶ）メーカーの テスラや決済サービスの スクエア、遺伝子検査の インビテなど、グローバルで成長期待の高い銘柄群を集めた日本のファンドが発足１年余りで資産総額を５倍弱に拡大させている。日興アセットマネジメントが運用する「 グローバル・プロスペクティブ・ファンド」の純資産総額が5000億円を突破した。2019年６月の設定時は1136億円だったが、現在はＥＴＦ（上場投資信託）を除いた資産総額で10位となり、日興ＡＭの単独ファンドでも最大規模。ブルームバーグ・データによると、過去１年のリターンは10億ドル超の日本のファンドとしては首位となった。資産運用サポート部の副部長、先山哲也氏は、ファンドの狙いを「将来の『ウィンテル（マイクロソフトやインテル）』や『ＦＡＮＧ』を買いにいく」と語る。投資先は破壊的イノベーションを起こし得る企業で、大半が米国であるほか、スイスやイスラエルなどが続き、日本企業の影は薄い。銘柄発掘には米運用会社アーク・インベストメントの調査力を活用する。好パフォーマンスの代表例がテスラだ。株価200ドル台で赤字企業だった同社は、ファンド設定時から組み入れトップ。当初は疑問の声も上がったが、「見立て通りに販売台数と利益を伸ばしていく現実をみて、予想通りになったことが改めて評価された」と先山氏は振り返る。アーク社は人工頭脳など複数のイノベーションで有望企業を発掘しているが、このファンドは「横断的に確信度の高い銘柄を集めたベスト・オブ・ベスト的存在」と言う。同氏は、「大事なのはイノベーションに着目した投資。５年、10年かけてイノベーションをけん引する企業はバリュエーションで測れない」と語る。そこで重視するのはタイムラグの存在だ。アーク社によると、イノベーションは「新しモノ好き」を中心に初期ブームが起きた後、一般に普及する前に踊り場が訪れることが多い。パソコン時代を築いたウィンテル、スマートフォン時代を到来させたアップルなど、踊り場で売却していたら大きな果実を得られなかった例を反面教師にする。もっとも、新型コロナウイルスの感染収束が見えず、経済環境は不透明。先山氏は、「どこかの時点で市場のボラティリティー（変動性）が高まる場面もありそう」とみる。中小型株の組み入れが多く、「上昇場面、下落場面ともに変動は大きくなりやすい」。ことし春には基準価格が１万2000円台から7000円台に急落した。ウィンテルなどもＩＴバブル崩壊でボラティリティーは大きかったが、「持ち続けることができるとポテンシャルにもつながる」と同氏は話す。\n",
      "\n",
      "記事 10 : 中国は破壊的な勢力、「注意深い監視」必要－クドロー氏\n",
      "https://www.bloomberg.co.jp/news/articles/2020-08-13/QF0QO2T0AFBC01?srnd=cojp-v2\n",
      "米国家経済会議（ＮＥＣ）のクドロー委員長は米州評議会の ウェブキャストで、中南米諸国は中国による域内への影響について「目を光らせておく」方が良いと述べた。クドロー氏は中国のインフラ投資は世界の他の地域で「良い結果を出していない」と指摘。トランプ政権は米国企業に対するスパイ活動やハッキング、人権、香港、新型コロナウイルスのパンデミック（世界的大流行）下での行動などの問題について中国に不満を抱いていると付け加えた。米経済については、改善しているが「困難を脱してはいない」との認識を示しつつも、「明らかに回復が進んでいる。需要の高まりと在庫の縮小を踏まえれば、自律的回復だと思う」と語った。原題：Kudlow: China Is a Subverting Force, Must Be ‘Watched Carefully’（抜粋）\n",
      "\n"
     ]
    }
   ],
   "source": [
    "# 記事はarticlsにある\n",
    "\n",
    "i = 0\n",
    "for article in website.articles:\n",
    "    article.download()\n",
    "    article.parse()\n",
    "    article.nlp()\n",
    "    print(\"記事\",str(i),':', article.title)\n",
    "    print(article.url)\n",
    "    print(article.summary, end='\\n\\n')\n",
    "    \n",
    "    if i > 9:\n",
    "        break\n",
    "    i +=1    "
   ]
  },
  {
   "cell_type": "markdown",
   "metadata": {},
   "source": [
    "## 22.csvファイルへの保存1(ヘッダデータ)"
   ]
  },
  {
   "cell_type": "code",
   "execution_count": 40,
   "metadata": {},
   "outputs": [],
   "source": [
    "# python標準モジュールのcsvをインポート\n",
    "import csv\n",
    "\n",
    "# 日付を処理するライブラリをインポート\n",
    "import datetime"
   ]
  },
  {
   "cell_type": "code",
   "execution_count": 43,
   "metadata": {},
   "outputs": [],
   "source": [
    "# 当日の日時を取得,strfimeで文字に変換\n",
    "csv_data = datetime.datetime.today().strftime('%Y%m%d')\n",
    "\n",
    "# csvファイル格納変数を作成\n",
    "csv_file_name = 'bloomberg_' + csv_data + '.csv'"
   ]
  },
  {
   "cell_type": "code",
   "execution_count": 47,
   "metadata": {},
   "outputs": [
    {
     "data": {
      "text/plain": [
       "19"
      ]
     },
     "execution_count": 47,
     "metadata": {},
     "output_type": "execute_result"
    }
   ],
   "source": [
    "# csvファイルへの書き込み処理\n",
    "f = open(csv_file_name, 'w', encoding='cp932', errors='ignore')\n",
    "writer = csv.writer(f, lineterminator='\\n')\n",
    "csv_header = ['記事番号', 'タイトル', 'URL', 'サマリー']\n",
    "writer.writerow(csv_header)"
   ]
  },
  {
   "cell_type": "markdown",
   "metadata": {},
   "source": [
    "### 23. csvファイルへの保存2(明細データ)"
   ]
  },
  {
   "cell_type": "code",
   "execution_count": 49,
   "metadata": {},
   "outputs": [],
   "source": [
    "i = 0\n",
    "for article in website.articles:\n",
    "    csvlist=[]\n",
    "    article.download()\n",
    "    article.parse()\n",
    "    article.nlp()\n",
    "#    print(\"記事\",str(i),':', article.title)\n",
    "#    print(article.url)\n",
    "#    print(article.summary, end='\\n\\n')\n",
    "    csvlist.append(str(i))\n",
    "    csvlist.append(article.title)\n",
    "    csvlist.append(article.url)\n",
    "    csvlist.append(article.summary)\n",
    "    writer.writerow(csvlist)\n",
    "    \n",
    "    if i > 9:\n",
    "        break\n",
    "    i +=1  \n",
    "    \n",
    "f.close()    "
   ]
  },
  {
   "cell_type": "markdown",
   "metadata": {},
   "source": [
    "## 演習問題\n",
    "### 読売オンラインから記事を読む\n",
    "https://www.yomiuri.co.jp/"
   ]
  },
  {
   "cell_type": "code",
   "execution_count": 4,
   "metadata": {},
   "outputs": [],
   "source": [
    "# newspaperからArticleをインポートする\n",
    "from newspaper import Article"
   ]
  },
  {
   "cell_type": "code",
   "execution_count": 5,
   "metadata": {},
   "outputs": [
    {
     "data": {
      "text/plain": [
       "datetime.datetime(2020, 8, 15, 0, 0)"
      ]
     },
     "execution_count": 5,
     "metadata": {},
     "output_type": "execute_result"
    }
   ],
   "source": [
    "# 記事を解析して記事の発行日を表示\n",
    "URL =\"https://www.yomiuri.co.jp/politics/20200815-OYT1T50129/\"\n",
    "\n",
    "article= Article(URL)\n",
    "article.download()\n",
    "article.parse()\n",
    "\n",
    "# 記事の発行した日付を表示\n",
    "article.publish_date"
   ]
  },
  {
   "cell_type": "code",
   "execution_count": 6,
   "metadata": {},
   "outputs": [
    {
     "data": {
      "text/plain": [
       "[]"
      ]
     },
     "execution_count": 6,
     "metadata": {},
     "output_type": "execute_result"
    }
   ],
   "source": [
    "# 記事の作成者を確認\n",
    "article.authors"
   ]
  },
  {
   "cell_type": "code",
   "execution_count": 7,
   "metadata": {},
   "outputs": [
    {
     "data": {
      "text/plain": [
       "'小泉環境相は終戦記念日の１５日、東京・九段北の靖国神社を参拝した。小泉氏は例年、終戦記念日に合わせて参拝している。'"
      ]
     },
     "execution_count": 7,
     "metadata": {},
     "output_type": "execute_result"
    }
   ],
   "source": [
    "# 記事の本文を表示\n",
    "article.text"
   ]
  },
  {
   "cell_type": "code",
   "execution_count": null,
   "metadata": {},
   "outputs": [],
   "source": []
  }
 ],
 "metadata": {
  "kernelspec": {
   "display_name": "Python 3",
   "language": "python",
   "name": "python3"
  },
  "language_info": {
   "codemirror_mode": {
    "name": "ipython",
    "version": 3
   },
   "file_extension": ".py",
   "mimetype": "text/x-python",
   "name": "python",
   "nbconvert_exporter": "python",
   "pygments_lexer": "ipython3",
   "version": "3.7.4"
  }
 },
 "nbformat": 4,
 "nbformat_minor": 4
}
