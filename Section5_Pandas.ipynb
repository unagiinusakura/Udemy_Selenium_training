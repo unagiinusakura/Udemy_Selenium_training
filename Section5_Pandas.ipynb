{
 "cells": [
  {
   "cell_type": "markdown",
   "metadata": {},
   "source": [
    "## 27.read_htmlによるデータの取得と表示"
   ]
  },
  {
   "cell_type": "markdown",
   "metadata": {},
   "source": [
    "### Pandas read_html\n",
    "- 指定されたURL上の表(tableタグ)を取得する"
   ]
  },
  {
   "cell_type": "code",
   "execution_count": 2,
   "metadata": {},
   "outputs": [],
   "source": [
    "# pandasをインポート\n",
    "import pandas as pd"
   ]
  },
  {
   "cell_type": "code",
   "execution_count": 3,
   "metadata": {},
   "outputs": [],
   "source": [
    "url='https://finance.yahoo.com/quote/AAPL/history?p=AAPL'"
   ]
  },
  {
   "cell_type": "code",
   "execution_count": 4,
   "metadata": {},
   "outputs": [],
   "source": [
    "# データを取得,データはlistに格納される\n",
    "data = pd.read_html(url, header=0)"
   ]
  },
  {
   "cell_type": "code",
   "execution_count": 9,
   "metadata": {},
   "outputs": [
    {
     "data": {
      "text/html": [
       "<div>\n",
       "<style scoped>\n",
       "    .dataframe tbody tr th:only-of-type {\n",
       "        vertical-align: middle;\n",
       "    }\n",
       "\n",
       "    .dataframe tbody tr th {\n",
       "        vertical-align: top;\n",
       "    }\n",
       "\n",
       "    .dataframe thead th {\n",
       "        text-align: right;\n",
       "    }\n",
       "</style>\n",
       "<table border=\"1\" class=\"dataframe\">\n",
       "  <thead>\n",
       "    <tr style=\"text-align: right;\">\n",
       "      <th></th>\n",
       "      <th>Date</th>\n",
       "      <th>Open</th>\n",
       "      <th>High</th>\n",
       "      <th>Low</th>\n",
       "      <th>Close*</th>\n",
       "      <th>Adj Close**</th>\n",
       "      <th>Volume</th>\n",
       "    </tr>\n",
       "  </thead>\n",
       "  <tbody>\n",
       "    <tr>\n",
       "      <td>0</td>\n",
       "      <td>Aug 14, 2020</td>\n",
       "      <td>459.32</td>\n",
       "      <td>460.00</td>\n",
       "      <td>452.18</td>\n",
       "      <td>459.63</td>\n",
       "      <td>459.63</td>\n",
       "      <td>41391302</td>\n",
       "    </tr>\n",
       "    <tr>\n",
       "      <td>1</td>\n",
       "      <td>Aug 13, 2020</td>\n",
       "      <td>457.72</td>\n",
       "      <td>464.17</td>\n",
       "      <td>455.71</td>\n",
       "      <td>460.04</td>\n",
       "      <td>460.04</td>\n",
       "      <td>52420000</td>\n",
       "    </tr>\n",
       "    <tr>\n",
       "      <td>2</td>\n",
       "      <td>Aug 12, 2020</td>\n",
       "      <td>441.99</td>\n",
       "      <td>453.10</td>\n",
       "      <td>441.19</td>\n",
       "      <td>452.04</td>\n",
       "      <td>452.04</td>\n",
       "      <td>41486200</td>\n",
       "    </tr>\n",
       "    <tr>\n",
       "      <td>3</td>\n",
       "      <td>Aug 11, 2020</td>\n",
       "      <td>447.88</td>\n",
       "      <td>449.93</td>\n",
       "      <td>436.43</td>\n",
       "      <td>437.50</td>\n",
       "      <td>437.50</td>\n",
       "      <td>46975600</td>\n",
       "    </tr>\n",
       "    <tr>\n",
       "      <td>4</td>\n",
       "      <td>Aug 10, 2020</td>\n",
       "      <td>450.40</td>\n",
       "      <td>455.10</td>\n",
       "      <td>440.00</td>\n",
       "      <td>450.91</td>\n",
       "      <td>450.91</td>\n",
       "      <td>53100900</td>\n",
       "    </tr>\n",
       "  </tbody>\n",
       "</table>\n",
       "</div>"
      ],
      "text/plain": [
       "           Date    Open    High     Low  Close* Adj Close**    Volume\n",
       "0  Aug 14, 2020  459.32  460.00  452.18  459.63      459.63  41391302\n",
       "1  Aug 13, 2020  457.72  464.17  455.71  460.04      460.04  52420000\n",
       "2  Aug 12, 2020  441.99  453.10  441.19  452.04      452.04  41486200\n",
       "3  Aug 11, 2020  447.88  449.93  436.43  437.50      437.50  46975600\n",
       "4  Aug 10, 2020  450.40  455.10  440.00  450.91      450.91  53100900"
      ]
     },
     "execution_count": 9,
     "metadata": {},
     "output_type": "execute_result"
    }
   ],
   "source": [
    "# 先頭の5行を表示\n",
    "data[0].head()"
   ]
  },
  {
   "cell_type": "code",
   "execution_count": 10,
   "metadata": {},
   "outputs": [
    {
     "data": {
      "text/html": [
       "<div>\n",
       "<style scoped>\n",
       "    .dataframe tbody tr th:only-of-type {\n",
       "        vertical-align: middle;\n",
       "    }\n",
       "\n",
       "    .dataframe tbody tr th {\n",
       "        vertical-align: top;\n",
       "    }\n",
       "\n",
       "    .dataframe thead th {\n",
       "        text-align: right;\n",
       "    }\n",
       "</style>\n",
       "<table border=\"1\" class=\"dataframe\">\n",
       "  <thead>\n",
       "    <tr style=\"text-align: right;\">\n",
       "      <th></th>\n",
       "      <th>Date</th>\n",
       "      <th>Open</th>\n",
       "      <th>High</th>\n",
       "      <th>Low</th>\n",
       "      <th>Close*</th>\n",
       "      <th>Adj Close**</th>\n",
       "      <th>Volume</th>\n",
       "    </tr>\n",
       "  </thead>\n",
       "  <tbody>\n",
       "    <tr>\n",
       "      <td>96</td>\n",
       "      <td>Apr 01, 2020</td>\n",
       "      <td>246.50</td>\n",
       "      <td>248.72</td>\n",
       "      <td>239.13</td>\n",
       "      <td>240.91</td>\n",
       "      <td>239.83</td>\n",
       "      <td>44054600</td>\n",
       "    </tr>\n",
       "    <tr>\n",
       "      <td>97</td>\n",
       "      <td>Mar 31, 2020</td>\n",
       "      <td>255.60</td>\n",
       "      <td>262.49</td>\n",
       "      <td>252.00</td>\n",
       "      <td>254.29</td>\n",
       "      <td>253.15</td>\n",
       "      <td>49250500</td>\n",
       "    </tr>\n",
       "    <tr>\n",
       "      <td>98</td>\n",
       "      <td>Mar 30, 2020</td>\n",
       "      <td>250.74</td>\n",
       "      <td>255.52</td>\n",
       "      <td>249.40</td>\n",
       "      <td>254.81</td>\n",
       "      <td>253.66</td>\n",
       "      <td>41994100</td>\n",
       "    </tr>\n",
       "    <tr>\n",
       "      <td>99</td>\n",
       "      <td>Mar 27, 2020</td>\n",
       "      <td>252.75</td>\n",
       "      <td>255.87</td>\n",
       "      <td>247.05</td>\n",
       "      <td>247.74</td>\n",
       "      <td>246.63</td>\n",
       "      <td>51054200</td>\n",
       "    </tr>\n",
       "    <tr>\n",
       "      <td>100</td>\n",
       "      <td>*Close price adjusted for splits.**Adjusted cl...</td>\n",
       "      <td>*Close price adjusted for splits.**Adjusted cl...</td>\n",
       "      <td>*Close price adjusted for splits.**Adjusted cl...</td>\n",
       "      <td>*Close price adjusted for splits.**Adjusted cl...</td>\n",
       "      <td>*Close price adjusted for splits.**Adjusted cl...</td>\n",
       "      <td>*Close price adjusted for splits.**Adjusted cl...</td>\n",
       "      <td>*Close price adjusted for splits.**Adjusted cl...</td>\n",
       "    </tr>\n",
       "  </tbody>\n",
       "</table>\n",
       "</div>"
      ],
      "text/plain": [
       "                                                  Date  \\\n",
       "96                                        Apr 01, 2020   \n",
       "97                                        Mar 31, 2020   \n",
       "98                                        Mar 30, 2020   \n",
       "99                                        Mar 27, 2020   \n",
       "100  *Close price adjusted for splits.**Adjusted cl...   \n",
       "\n",
       "                                                  Open  \\\n",
       "96                                              246.50   \n",
       "97                                              255.60   \n",
       "98                                              250.74   \n",
       "99                                              252.75   \n",
       "100  *Close price adjusted for splits.**Adjusted cl...   \n",
       "\n",
       "                                                  High  \\\n",
       "96                                              248.72   \n",
       "97                                              262.49   \n",
       "98                                              255.52   \n",
       "99                                              255.87   \n",
       "100  *Close price adjusted for splits.**Adjusted cl...   \n",
       "\n",
       "                                                   Low  \\\n",
       "96                                              239.13   \n",
       "97                                              252.00   \n",
       "98                                              249.40   \n",
       "99                                              247.05   \n",
       "100  *Close price adjusted for splits.**Adjusted cl...   \n",
       "\n",
       "                                                Close*  \\\n",
       "96                                              240.91   \n",
       "97                                              254.29   \n",
       "98                                              254.81   \n",
       "99                                              247.74   \n",
       "100  *Close price adjusted for splits.**Adjusted cl...   \n",
       "\n",
       "                                           Adj Close**  \\\n",
       "96                                              239.83   \n",
       "97                                              253.15   \n",
       "98                                              253.66   \n",
       "99                                              246.63   \n",
       "100  *Close price adjusted for splits.**Adjusted cl...   \n",
       "\n",
       "                                                Volume  \n",
       "96                                            44054600  \n",
       "97                                            49250500  \n",
       "98                                            41994100  \n",
       "99                                            51054200  \n",
       "100  *Close price adjusted for splits.**Adjusted cl...  "
      ]
     },
     "execution_count": 10,
     "metadata": {},
     "output_type": "execute_result"
    }
   ],
   "source": [
    "# 末尾の5行を表示\n",
    "data[0].tail()"
   ]
  },
  {
   "cell_type": "markdown",
   "metadata": {},
   "source": [
    "## 28. 取得データの変換1(数値)"
   ]
  },
  {
   "cell_type": "code",
   "execution_count": 12,
   "metadata": {},
   "outputs": [],
   "source": [
    "# 文字列を数値型に変換、エラー発生時(数値に変換できないもの）はNaNとする(errors='coerce')\n",
    "data[0]['Adj Close**'] = pd.to_numeric(data[0]['Adj Close**'],errors='coerce')"
   ]
  },
  {
   "cell_type": "code",
   "execution_count": 14,
   "metadata": {},
   "outputs": [
    {
     "data": {
      "text/html": [
       "<div>\n",
       "<style scoped>\n",
       "    .dataframe tbody tr th:only-of-type {\n",
       "        vertical-align: middle;\n",
       "    }\n",
       "\n",
       "    .dataframe tbody tr th {\n",
       "        vertical-align: top;\n",
       "    }\n",
       "\n",
       "    .dataframe thead th {\n",
       "        text-align: right;\n",
       "    }\n",
       "</style>\n",
       "<table border=\"1\" class=\"dataframe\">\n",
       "  <thead>\n",
       "    <tr style=\"text-align: right;\">\n",
       "      <th></th>\n",
       "      <th>Date</th>\n",
       "      <th>Open</th>\n",
       "      <th>High</th>\n",
       "      <th>Low</th>\n",
       "      <th>Close*</th>\n",
       "      <th>Adj Close**</th>\n",
       "      <th>Volume</th>\n",
       "    </tr>\n",
       "  </thead>\n",
       "  <tbody>\n",
       "    <tr>\n",
       "      <td>96</td>\n",
       "      <td>Apr 01, 2020</td>\n",
       "      <td>246.50</td>\n",
       "      <td>248.72</td>\n",
       "      <td>239.13</td>\n",
       "      <td>240.91</td>\n",
       "      <td>239.83</td>\n",
       "      <td>44054600</td>\n",
       "    </tr>\n",
       "    <tr>\n",
       "      <td>97</td>\n",
       "      <td>Mar 31, 2020</td>\n",
       "      <td>255.60</td>\n",
       "      <td>262.49</td>\n",
       "      <td>252.00</td>\n",
       "      <td>254.29</td>\n",
       "      <td>253.15</td>\n",
       "      <td>49250500</td>\n",
       "    </tr>\n",
       "    <tr>\n",
       "      <td>98</td>\n",
       "      <td>Mar 30, 2020</td>\n",
       "      <td>250.74</td>\n",
       "      <td>255.52</td>\n",
       "      <td>249.40</td>\n",
       "      <td>254.81</td>\n",
       "      <td>253.66</td>\n",
       "      <td>41994100</td>\n",
       "    </tr>\n",
       "    <tr>\n",
       "      <td>99</td>\n",
       "      <td>Mar 27, 2020</td>\n",
       "      <td>252.75</td>\n",
       "      <td>255.87</td>\n",
       "      <td>247.05</td>\n",
       "      <td>247.74</td>\n",
       "      <td>246.63</td>\n",
       "      <td>51054200</td>\n",
       "    </tr>\n",
       "    <tr>\n",
       "      <td>100</td>\n",
       "      <td>*Close price adjusted for splits.**Adjusted cl...</td>\n",
       "      <td>*Close price adjusted for splits.**Adjusted cl...</td>\n",
       "      <td>*Close price adjusted for splits.**Adjusted cl...</td>\n",
       "      <td>*Close price adjusted for splits.**Adjusted cl...</td>\n",
       "      <td>*Close price adjusted for splits.**Adjusted cl...</td>\n",
       "      <td>NaN</td>\n",
       "      <td>*Close price adjusted for splits.**Adjusted cl...</td>\n",
       "    </tr>\n",
       "  </tbody>\n",
       "</table>\n",
       "</div>"
      ],
      "text/plain": [
       "                                                  Date  \\\n",
       "96                                        Apr 01, 2020   \n",
       "97                                        Mar 31, 2020   \n",
       "98                                        Mar 30, 2020   \n",
       "99                                        Mar 27, 2020   \n",
       "100  *Close price adjusted for splits.**Adjusted cl...   \n",
       "\n",
       "                                                  Open  \\\n",
       "96                                              246.50   \n",
       "97                                              255.60   \n",
       "98                                              250.74   \n",
       "99                                              252.75   \n",
       "100  *Close price adjusted for splits.**Adjusted cl...   \n",
       "\n",
       "                                                  High  \\\n",
       "96                                              248.72   \n",
       "97                                              262.49   \n",
       "98                                              255.52   \n",
       "99                                              255.87   \n",
       "100  *Close price adjusted for splits.**Adjusted cl...   \n",
       "\n",
       "                                                   Low  \\\n",
       "96                                              239.13   \n",
       "97                                              252.00   \n",
       "98                                              249.40   \n",
       "99                                              247.05   \n",
       "100  *Close price adjusted for splits.**Adjusted cl...   \n",
       "\n",
       "                                                Close*  Adj Close**  \\\n",
       "96                                              240.91       239.83   \n",
       "97                                              254.29       253.15   \n",
       "98                                              254.81       253.66   \n",
       "99                                              247.74       246.63   \n",
       "100  *Close price adjusted for splits.**Adjusted cl...          NaN   \n",
       "\n",
       "                                                Volume  \n",
       "96                                            44054600  \n",
       "97                                            49250500  \n",
       "98                                            41994100  \n",
       "99                                            51054200  \n",
       "100  *Close price adjusted for splits.**Adjusted cl...  "
      ]
     },
     "execution_count": 14,
     "metadata": {},
     "output_type": "execute_result"
    }
   ],
   "source": [
    "data[0].tail()"
   ]
  },
  {
   "cell_type": "code",
   "execution_count": 15,
   "metadata": {},
   "outputs": [],
   "source": [
    "# 欠損値を削除（NaN)を削除\n",
    "data[0].dropna(inplace=True)"
   ]
  },
  {
   "cell_type": "code",
   "execution_count": 17,
   "metadata": {},
   "outputs": [
    {
     "data": {
      "text/html": [
       "<div>\n",
       "<style scoped>\n",
       "    .dataframe tbody tr th:only-of-type {\n",
       "        vertical-align: middle;\n",
       "    }\n",
       "\n",
       "    .dataframe tbody tr th {\n",
       "        vertical-align: top;\n",
       "    }\n",
       "\n",
       "    .dataframe thead th {\n",
       "        text-align: right;\n",
       "    }\n",
       "</style>\n",
       "<table border=\"1\" class=\"dataframe\">\n",
       "  <thead>\n",
       "    <tr style=\"text-align: right;\">\n",
       "      <th></th>\n",
       "      <th>Date</th>\n",
       "      <th>Open</th>\n",
       "      <th>High</th>\n",
       "      <th>Low</th>\n",
       "      <th>Close*</th>\n",
       "      <th>Adj Close**</th>\n",
       "      <th>Volume</th>\n",
       "    </tr>\n",
       "  </thead>\n",
       "  <tbody>\n",
       "    <tr>\n",
       "      <td>95</td>\n",
       "      <td>Apr 02, 2020</td>\n",
       "      <td>240.34</td>\n",
       "      <td>245.15</td>\n",
       "      <td>236.90</td>\n",
       "      <td>244.93</td>\n",
       "      <td>243.83</td>\n",
       "      <td>41483500</td>\n",
       "    </tr>\n",
       "    <tr>\n",
       "      <td>96</td>\n",
       "      <td>Apr 01, 2020</td>\n",
       "      <td>246.50</td>\n",
       "      <td>248.72</td>\n",
       "      <td>239.13</td>\n",
       "      <td>240.91</td>\n",
       "      <td>239.83</td>\n",
       "      <td>44054600</td>\n",
       "    </tr>\n",
       "    <tr>\n",
       "      <td>97</td>\n",
       "      <td>Mar 31, 2020</td>\n",
       "      <td>255.60</td>\n",
       "      <td>262.49</td>\n",
       "      <td>252.00</td>\n",
       "      <td>254.29</td>\n",
       "      <td>253.15</td>\n",
       "      <td>49250500</td>\n",
       "    </tr>\n",
       "    <tr>\n",
       "      <td>98</td>\n",
       "      <td>Mar 30, 2020</td>\n",
       "      <td>250.74</td>\n",
       "      <td>255.52</td>\n",
       "      <td>249.40</td>\n",
       "      <td>254.81</td>\n",
       "      <td>253.66</td>\n",
       "      <td>41994100</td>\n",
       "    </tr>\n",
       "    <tr>\n",
       "      <td>99</td>\n",
       "      <td>Mar 27, 2020</td>\n",
       "      <td>252.75</td>\n",
       "      <td>255.87</td>\n",
       "      <td>247.05</td>\n",
       "      <td>247.74</td>\n",
       "      <td>246.63</td>\n",
       "      <td>51054200</td>\n",
       "    </tr>\n",
       "  </tbody>\n",
       "</table>\n",
       "</div>"
      ],
      "text/plain": [
       "            Date    Open    High     Low  Close*  Adj Close**    Volume\n",
       "95  Apr 02, 2020  240.34  245.15  236.90  244.93       243.83  41483500\n",
       "96  Apr 01, 2020  246.50  248.72  239.13  240.91       239.83  44054600\n",
       "97  Mar 31, 2020  255.60  262.49  252.00  254.29       253.15  49250500\n",
       "98  Mar 30, 2020  250.74  255.52  249.40  254.81       253.66  41994100\n",
       "99  Mar 27, 2020  252.75  255.87  247.05  247.74       246.63  51054200"
      ]
     },
     "execution_count": 17,
     "metadata": {},
     "output_type": "execute_result"
    }
   ],
   "source": [
    "data[0].tail()"
   ]
  },
  {
   "cell_type": "markdown",
   "metadata": {},
   "source": [
    "## 29. 取得データの変換2(日付)"
   ]
  },
  {
   "cell_type": "code",
   "execution_count": 18,
   "metadata": {},
   "outputs": [],
   "source": [
    "# 文字列を日付型に変換にはdatetime.strptime(文字列、日付の書式)\n",
    "# 日付の書式は変換する文字列がどのような書式で書かれているかを指定\n",
    "\n",
    "from datetime import datetime as dt"
   ]
  },
  {
   "cell_type": "code",
   "execution_count": 21,
   "metadata": {},
   "outputs": [],
   "source": [
    "# リスト内包表記でfor文から取得した要素をリストに格納する\n",
    "data[0]['Date2'] = [dt.strptime(i, '%b %d, %Y') for i in data[0]['Date']]"
   ]
  },
  {
   "cell_type": "code",
   "execution_count": 23,
   "metadata": {},
   "outputs": [
    {
     "data": {
      "text/plain": [
       "0    2020-08-14\n",
       "1    2020-08-13\n",
       "2    2020-08-12\n",
       "3    2020-08-11\n",
       "4    2020-08-10\n",
       "        ...    \n",
       "95   2020-04-02\n",
       "96   2020-04-01\n",
       "97   2020-03-31\n",
       "98   2020-03-30\n",
       "99   2020-03-27\n",
       "Name: Date2, Length: 98, dtype: datetime64[ns]"
      ]
     },
     "execution_count": 23,
     "metadata": {},
     "output_type": "execute_result"
    }
   ],
   "source": [
    "data[0]['Date2']"
   ]
  },
  {
   "cell_type": "code",
   "execution_count": 24,
   "metadata": {},
   "outputs": [
    {
     "data": {
      "text/html": [
       "<div>\n",
       "<style scoped>\n",
       "    .dataframe tbody tr th:only-of-type {\n",
       "        vertical-align: middle;\n",
       "    }\n",
       "\n",
       "    .dataframe tbody tr th {\n",
       "        vertical-align: top;\n",
       "    }\n",
       "\n",
       "    .dataframe thead th {\n",
       "        text-align: right;\n",
       "    }\n",
       "</style>\n",
       "<table border=\"1\" class=\"dataframe\">\n",
       "  <thead>\n",
       "    <tr style=\"text-align: right;\">\n",
       "      <th></th>\n",
       "      <th>Date</th>\n",
       "      <th>Open</th>\n",
       "      <th>High</th>\n",
       "      <th>Low</th>\n",
       "      <th>Close*</th>\n",
       "      <th>Adj Close**</th>\n",
       "      <th>Volume</th>\n",
       "      <th>Date2</th>\n",
       "    </tr>\n",
       "  </thead>\n",
       "  <tbody>\n",
       "    <tr>\n",
       "      <td>0</td>\n",
       "      <td>Aug 14, 2020</td>\n",
       "      <td>459.32</td>\n",
       "      <td>460.00</td>\n",
       "      <td>452.18</td>\n",
       "      <td>459.63</td>\n",
       "      <td>459.63</td>\n",
       "      <td>41391302</td>\n",
       "      <td>2020-08-14</td>\n",
       "    </tr>\n",
       "    <tr>\n",
       "      <td>1</td>\n",
       "      <td>Aug 13, 2020</td>\n",
       "      <td>457.72</td>\n",
       "      <td>464.17</td>\n",
       "      <td>455.71</td>\n",
       "      <td>460.04</td>\n",
       "      <td>460.04</td>\n",
       "      <td>52420000</td>\n",
       "      <td>2020-08-13</td>\n",
       "    </tr>\n",
       "    <tr>\n",
       "      <td>2</td>\n",
       "      <td>Aug 12, 2020</td>\n",
       "      <td>441.99</td>\n",
       "      <td>453.10</td>\n",
       "      <td>441.19</td>\n",
       "      <td>452.04</td>\n",
       "      <td>452.04</td>\n",
       "      <td>41486200</td>\n",
       "      <td>2020-08-12</td>\n",
       "    </tr>\n",
       "    <tr>\n",
       "      <td>3</td>\n",
       "      <td>Aug 11, 2020</td>\n",
       "      <td>447.88</td>\n",
       "      <td>449.93</td>\n",
       "      <td>436.43</td>\n",
       "      <td>437.50</td>\n",
       "      <td>437.50</td>\n",
       "      <td>46975600</td>\n",
       "      <td>2020-08-11</td>\n",
       "    </tr>\n",
       "    <tr>\n",
       "      <td>4</td>\n",
       "      <td>Aug 10, 2020</td>\n",
       "      <td>450.40</td>\n",
       "      <td>455.10</td>\n",
       "      <td>440.00</td>\n",
       "      <td>450.91</td>\n",
       "      <td>450.91</td>\n",
       "      <td>53100900</td>\n",
       "      <td>2020-08-10</td>\n",
       "    </tr>\n",
       "  </tbody>\n",
       "</table>\n",
       "</div>"
      ],
      "text/plain": [
       "           Date    Open    High     Low  Close*  Adj Close**    Volume  \\\n",
       "0  Aug 14, 2020  459.32  460.00  452.18  459.63       459.63  41391302   \n",
       "1  Aug 13, 2020  457.72  464.17  455.71  460.04       460.04  52420000   \n",
       "2  Aug 12, 2020  441.99  453.10  441.19  452.04       452.04  41486200   \n",
       "3  Aug 11, 2020  447.88  449.93  436.43  437.50       437.50  46975600   \n",
       "4  Aug 10, 2020  450.40  455.10  440.00  450.91       450.91  53100900   \n",
       "\n",
       "       Date2  \n",
       "0 2020-08-14  \n",
       "1 2020-08-13  \n",
       "2 2020-08-12  \n",
       "3 2020-08-11  \n",
       "4 2020-08-10  "
      ]
     },
     "execution_count": 24,
     "metadata": {},
     "output_type": "execute_result"
    }
   ],
   "source": [
    "data[0].head()"
   ]
  },
  {
   "cell_type": "markdown",
   "metadata": {},
   "source": [
    "## 30. 株価グラフの描画"
   ]
  },
  {
   "cell_type": "code",
   "execution_count": 29,
   "metadata": {},
   "outputs": [],
   "source": [
    "# Date2をindexに変更する\n",
    "data[0].set_index('Date2', inplace=True)"
   ]
  },
  {
   "cell_type": "code",
   "execution_count": 30,
   "metadata": {},
   "outputs": [
    {
     "data": {
      "text/html": [
       "<div>\n",
       "<style scoped>\n",
       "    .dataframe tbody tr th:only-of-type {\n",
       "        vertical-align: middle;\n",
       "    }\n",
       "\n",
       "    .dataframe tbody tr th {\n",
       "        vertical-align: top;\n",
       "    }\n",
       "\n",
       "    .dataframe thead th {\n",
       "        text-align: right;\n",
       "    }\n",
       "</style>\n",
       "<table border=\"1\" class=\"dataframe\">\n",
       "  <thead>\n",
       "    <tr style=\"text-align: right;\">\n",
       "      <th></th>\n",
       "      <th>Date</th>\n",
       "      <th>Open</th>\n",
       "      <th>High</th>\n",
       "      <th>Low</th>\n",
       "      <th>Close*</th>\n",
       "      <th>Adj Close**</th>\n",
       "      <th>Volume</th>\n",
       "    </tr>\n",
       "    <tr>\n",
       "      <th>Date2</th>\n",
       "      <th></th>\n",
       "      <th></th>\n",
       "      <th></th>\n",
       "      <th></th>\n",
       "      <th></th>\n",
       "      <th></th>\n",
       "      <th></th>\n",
       "    </tr>\n",
       "  </thead>\n",
       "  <tbody>\n",
       "    <tr>\n",
       "      <td>2020-08-14</td>\n",
       "      <td>Aug 14, 2020</td>\n",
       "      <td>459.32</td>\n",
       "      <td>460.00</td>\n",
       "      <td>452.18</td>\n",
       "      <td>459.63</td>\n",
       "      <td>459.63</td>\n",
       "      <td>41391302</td>\n",
       "    </tr>\n",
       "    <tr>\n",
       "      <td>2020-08-13</td>\n",
       "      <td>Aug 13, 2020</td>\n",
       "      <td>457.72</td>\n",
       "      <td>464.17</td>\n",
       "      <td>455.71</td>\n",
       "      <td>460.04</td>\n",
       "      <td>460.04</td>\n",
       "      <td>52420000</td>\n",
       "    </tr>\n",
       "    <tr>\n",
       "      <td>2020-08-12</td>\n",
       "      <td>Aug 12, 2020</td>\n",
       "      <td>441.99</td>\n",
       "      <td>453.10</td>\n",
       "      <td>441.19</td>\n",
       "      <td>452.04</td>\n",
       "      <td>452.04</td>\n",
       "      <td>41486200</td>\n",
       "    </tr>\n",
       "    <tr>\n",
       "      <td>2020-08-11</td>\n",
       "      <td>Aug 11, 2020</td>\n",
       "      <td>447.88</td>\n",
       "      <td>449.93</td>\n",
       "      <td>436.43</td>\n",
       "      <td>437.50</td>\n",
       "      <td>437.50</td>\n",
       "      <td>46975600</td>\n",
       "    </tr>\n",
       "    <tr>\n",
       "      <td>2020-08-10</td>\n",
       "      <td>Aug 10, 2020</td>\n",
       "      <td>450.40</td>\n",
       "      <td>455.10</td>\n",
       "      <td>440.00</td>\n",
       "      <td>450.91</td>\n",
       "      <td>450.91</td>\n",
       "      <td>53100900</td>\n",
       "    </tr>\n",
       "  </tbody>\n",
       "</table>\n",
       "</div>"
      ],
      "text/plain": [
       "                    Date    Open    High     Low  Close*  Adj Close**  \\\n",
       "Date2                                                                   \n",
       "2020-08-14  Aug 14, 2020  459.32  460.00  452.18  459.63       459.63   \n",
       "2020-08-13  Aug 13, 2020  457.72  464.17  455.71  460.04       460.04   \n",
       "2020-08-12  Aug 12, 2020  441.99  453.10  441.19  452.04       452.04   \n",
       "2020-08-11  Aug 11, 2020  447.88  449.93  436.43  437.50       437.50   \n",
       "2020-08-10  Aug 10, 2020  450.40  455.10  440.00  450.91       450.91   \n",
       "\n",
       "              Volume  \n",
       "Date2                 \n",
       "2020-08-14  41391302  \n",
       "2020-08-13  52420000  \n",
       "2020-08-12  41486200  \n",
       "2020-08-11  46975600  \n",
       "2020-08-10  53100900  "
      ]
     },
     "execution_count": 30,
     "metadata": {},
     "output_type": "execute_result"
    }
   ],
   "source": [
    "# dfで確認\n",
    "data[0].head()"
   ]
  },
  {
   "cell_type": "code",
   "execution_count": 34,
   "metadata": {},
   "outputs": [
    {
     "data": {
      "text/plain": [
       "dtype('float64')"
      ]
     },
     "execution_count": 34,
     "metadata": {},
     "output_type": "execute_result"
    }
   ],
   "source": [
    "# Adj Close**が数値型になっているか確認\n",
    "data[0]['Adj Close**'].dtype"
   ]
  },
  {
   "cell_type": "code",
   "execution_count": 39,
   "metadata": {},
   "outputs": [
    {
     "data": {
      "text/plain": [
       "<matplotlib.axes._subplots.AxesSubplot at 0x1586d469948>"
      ]
     },
     "execution_count": 39,
     "metadata": {},
     "output_type": "execute_result"
    },
    {
     "data": {
      "image/png": "[encoded data removed]",
      "text/plain": [
       "<Figure size 432x288 with 1 Axes>"
      ]
     },
     "metadata": {
      "needs_background": "light"
     },
     "output_type": "display_data"
    }
   ],
   "source": [
    "# グラフを描画\n",
    "data[0]['Adj Close**'].plot(title='AAPL Stock Price',grid=True)"
   ]
  },
  {
   "cell_type": "markdown",
   "metadata": {},
   "source": [
    "## 31. 株価データの保存"
   ]
  },
  {
   "cell_type": "code",
   "execution_count": 40,
   "metadata": {},
   "outputs": [],
   "source": [
    "data[0].to_csv('AAPL_Stock.csv')"
   ]
  },
  {
   "cell_type": "code",
   "execution_count": null,
   "metadata": {},
   "outputs": [],
   "source": []
  }
 ],
 "metadata": {
  "kernelspec": {
   "display_name": "Python 3",
   "language": "python",
   "name": "python3"
  },
  "language_info": {
   "codemirror_mode": {
    "name": "ipython",
    "version": 3
   },
   "file_extension": ".py",
   "mimetype": "text/x-python",
   "name": "python",
   "nbconvert_exporter": "python",
   "pygments_lexer": "ipython3",
   "version": "3.7.4"
  }
 },
 "nbformat": 4,
 "nbformat_minor": 4
}
