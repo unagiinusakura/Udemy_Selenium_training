{
 "cells": [
  {
   "cell_type": "markdown",
   "metadata": {},
   "source": [
    "## 39. BeautifulSoupの基本"
   ]
  },
  {
   "cell_type": "code",
   "execution_count": 1,
   "metadata": {},
   "outputs": [],
   "source": [
    "# BeautifulSoupをインポート\n",
    "from bs4 import BeautifulSoup"
   ]
  },
  {
   "cell_type": "code",
   "execution_count": 2,
   "metadata": {},
   "outputs": [],
   "source": [
    "# サンプルのhtmlを読み込む\n",
    "html = \"\"\"\n",
    "<html>\n",
    "    <head>\n",
    "        <title>清水義孝の著書</title>\n",
    "    </head>\n",
    "    <body>\n",
    "        <p class=\"title\">\n",
    "            <b>清水義孝の最新の著書には、次の本があります。</b>\n",
    "        </p>\n",
    "        <p class=\"recent books\">\n",
    "            <a class=\"book\" href=\"https://www.amazon.co.jp/dp/B07TN4D3HG\" id=\"link1\">Python3によるビジネスに役立つデータ分析入門</a>、\n",
    "            <a class=\"book\" href=\"http://www.amazon.co.jp/dp/B07SRLRS4M\" id=\"link2\">よくわかるPython3入門2.NumPy・Matplotlib編</a>、\n",
    "            <a class=\"book\" href=\"http://www.amazon.co.jp/dp/B07T9SZ96B\" id=\"link3\">よくわかるPython3入門4.Pandasでデータ分析編</a>\n",
    "        </p>\n",
    "        <p class=\"end\">\n",
    "            <b>そして、これらの本は好評発売中です。</b>\n",
    "        </p>\n",
    "    </body>\n",
    "</html>\n",
    "\"\"\""
   ]
  },
  {
   "cell_type": "markdown",
   "metadata": {},
   "source": [
    "### BeautifulSoupの基本的な使い方\n",
    "- BeautifulSoup(解析対象のHTML/XML,利用するパーサー)"
   ]
  },
  {
   "cell_type": "markdown",
   "metadata": {},
   "source": [
    "#### パーサー（解析）の種類\n",
    "1. html.parser &emsp;:追加ライブラリが不要\n",
    "2. lxml &emsp;&emsp;&emsp;:高速に処理か\n",
    "3. xml  &emsp;&emsp;&emsp;:xmlに対応し、高速に処理可\n",
    "4. thml5lib  &emsp;&emsp;:正しくHTML5を処理可"
   ]
  },
  {
   "cell_type": "code",
   "execution_count": 3,
   "metadata": {},
   "outputs": [],
   "source": [
    "soup = BeautifulSoup(html, 'html.parser')"
   ]
  },
  {
   "cell_type": "code",
   "execution_count": 4,
   "metadata": {},
   "outputs": [
    {
     "name": "stdout",
     "output_type": "stream",
     "text": [
      "\n",
      "<html>\n",
      "<head>\n",
      "<title>清水義孝の著書</title>\n",
      "</head>\n",
      "<body>\n",
      "<p class=\"title\">\n",
      "<b>清水義孝の最新の著書には、次の本があります。</b>\n",
      "</p>\n",
      "<p class=\"recent books\">\n",
      "<a class=\"book\" href=\"https://www.amazon.co.jp/dp/B07TN4D3HG\" id=\"link1\">Python3によるビジネスに役立つデータ分析入門</a>、\n",
      "            <a class=\"book\" href=\"http://www.amazon.co.jp/dp/B07SRLRS4M\" id=\"link2\">よくわかるPython3入門2.NumPy・Matplotlib編</a>、\n",
      "            <a class=\"book\" href=\"http://www.amazon.co.jp/dp/B07T9SZ96B\" id=\"link3\">よくわかるPython3入門4.Pandasでデータ分析編</a>\n",
      "</p>\n",
      "<p class=\"end\">\n",
      "<b>そして、これらの本は好評発売中です。</b>\n",
      "</p>\n",
      "</body>\n",
      "</html>\n",
      "\n"
     ]
    }
   ],
   "source": [
    "print(soup)"
   ]
  },
  {
   "cell_type": "code",
   "execution_count": 5,
   "metadata": {},
   "outputs": [
    {
     "name": "stdout",
     "output_type": "stream",
     "text": [
      "<html>\n",
      " <head>\n",
      "  <title>\n",
      "   清水義孝の著書\n",
      "  </title>\n",
      " </head>\n",
      " <body>\n",
      "  <p class=\"title\">\n",
      "   <b>\n",
      "    清水義孝の最新の著書には、次の本があります。\n",
      "   </b>\n",
      "  </p>\n",
      "  <p class=\"recent books\">\n",
      "   <a class=\"book\" href=\"https://www.amazon.co.jp/dp/B07TN4D3HG\" id=\"link1\">\n",
      "    Python3によるビジネスに役立つデータ分析入門\n",
      "   </a>\n",
      "   、\n",
      "   <a class=\"book\" href=\"http://www.amazon.co.jp/dp/B07SRLRS4M\" id=\"link2\">\n",
      "    よくわかるPython3入門2.NumPy・Matplotlib編\n",
      "   </a>\n",
      "   、\n",
      "   <a class=\"book\" href=\"http://www.amazon.co.jp/dp/B07T9SZ96B\" id=\"link3\">\n",
      "    よくわかるPython3入門4.Pandasでデータ分析編\n",
      "   </a>\n",
      "  </p>\n",
      "  <p class=\"end\">\n",
      "   <b>\n",
      "    そして、これらの本は好評発売中です。\n",
      "   </b>\n",
      "  </p>\n",
      " </body>\n",
      "</html>\n",
      "\n"
     ]
    }
   ],
   "source": [
    "# 階層化された状態で表示\n",
    "print(soup.prettify())"
   ]
  },
  {
   "cell_type": "markdown",
   "metadata": {},
   "source": [
    "## 40. BeautifulSoupでHTMLの階層を移動してタグ取得"
   ]
  },
  {
   "cell_type": "markdown",
   "metadata": {},
   "source": [
    "### Beautiful Soupの必要な情報の抽出方法\n",
    "- HTMLの階層を移動してHTMLタグの該当する箇所を検索\n",
    "- find,find_allメソッドにより、HTMLタグの該当する箇所を検索\n",
    "- selectメソッドにより、cssセレクタで該当する箇所を指定"
   ]
  },
  {
   "cell_type": "code",
   "execution_count": 6,
   "metadata": {},
   "outputs": [
    {
     "name": "stdout",
     "output_type": "stream",
     "text": [
      "<title>清水義孝の著書</title>\n"
     ]
    }
   ],
   "source": [
    "# html階層を移動する\n",
    "print(soup.html.head.title)"
   ]
  },
  {
   "cell_type": "code",
   "execution_count": 7,
   "metadata": {},
   "outputs": [
    {
     "name": "stdout",
     "output_type": "stream",
     "text": [
      "<title>清水義孝の著書</title>\n"
     ]
    }
   ],
   "source": [
    "# titleだけでも表示される\n",
    "print(soup.title)"
   ]
  },
  {
   "cell_type": "code",
   "execution_count": 8,
   "metadata": {},
   "outputs": [
    {
     "name": "stdout",
     "output_type": "stream",
     "text": [
      "清水義孝の著書\n"
     ]
    }
   ],
   "source": [
    "# 文字を取得\n",
    "print(soup.title.string)"
   ]
  },
  {
   "cell_type": "code",
   "execution_count": 9,
   "metadata": {},
   "outputs": [
    {
     "name": "stdout",
     "output_type": "stream",
     "text": [
      "title\n"
     ]
    }
   ],
   "source": [
    "# タグの名前を表示する\n",
    "print(soup.title.name)"
   ]
  },
  {
   "cell_type": "code",
   "execution_count": 10,
   "metadata": {},
   "outputs": [
    {
     "name": "stdout",
     "output_type": "stream",
     "text": [
      "<class 'bs4.element.Tag'>\n"
     ]
    }
   ],
   "source": [
    "# 型の確認\n",
    "print(type(soup.title))"
   ]
  },
  {
   "cell_type": "code",
   "execution_count": 11,
   "metadata": {},
   "outputs": [
    {
     "name": "stdout",
     "output_type": "stream",
     "text": [
      "<class 'bs4.BeautifulSoup'>\n"
     ]
    }
   ],
   "source": [
    "# 型の確認\n",
    "print(type(soup))"
   ]
  },
  {
   "cell_type": "code",
   "execution_count": 12,
   "metadata": {},
   "outputs": [
    {
     "name": "stdout",
     "output_type": "stream",
     "text": [
      "<p class=\"title\">\n",
      "<b>清水義孝の最新の著書には、次の本があります。</b>\n",
      "</p>\n"
     ]
    }
   ],
   "source": [
    "# body要素の最初を取得\n",
    "print(soup.body.p)"
   ]
  },
  {
   "cell_type": "code",
   "execution_count": 13,
   "metadata": {},
   "outputs": [
    {
     "name": "stdout",
     "output_type": "stream",
     "text": [
      "<p class=\"recent books\">\n",
      "<a class=\"book\" href=\"https://www.amazon.co.jp/dp/B07TN4D3HG\" id=\"link1\">Python3によるビジネスに役立つデータ分析入門</a>、\n",
      "            <a class=\"book\" href=\"http://www.amazon.co.jp/dp/B07SRLRS4M\" id=\"link2\">よくわかるPython3入門2.NumPy・Matplotlib編</a>、\n",
      "            <a class=\"book\" href=\"http://www.amazon.co.jp/dp/B07T9SZ96B\" id=\"link3\">よくわかるPython3入門4.Pandasでデータ分析編</a>\n",
      "</p>\n"
     ]
    }
   ],
   "source": [
    "# 次の要素を取得する場合\n",
    "print(soup.body.p.next_sibling.next_sibling)"
   ]
  },
  {
   "cell_type": "code",
   "execution_count": 14,
   "metadata": {},
   "outputs": [
    {
     "name": "stdout",
     "output_type": "stream",
     "text": [
      "<a class=\"book\" href=\"https://www.amazon.co.jp/dp/B07TN4D3HG\" id=\"link1\">Python3によるビジネスに役立つデータ分析入門</a>\n"
     ]
    }
   ],
   "source": [
    "# 上記の1つ目の要素を取得\n",
    "print(soup.body.p.next_sibling.next_sibling.a)"
   ]
  },
  {
   "cell_type": "code",
   "execution_count": 15,
   "metadata": {},
   "outputs": [
    {
     "name": "stdout",
     "output_type": "stream",
     "text": [
      "Python3によるビジネスに役立つデータ分析入門\n"
     ]
    }
   ],
   "source": [
    "# textを取得\n",
    "print(soup.body.p.next_sibling.next_sibling.a.string)"
   ]
  },
  {
   "cell_type": "code",
   "execution_count": 17,
   "metadata": {},
   "outputs": [
    {
     "name": "stdout",
     "output_type": "stream",
     "text": [
      "https://www.amazon.co.jp/dp/B07TN4D3HG\n"
     ]
    }
   ],
   "source": [
    "# URLを取得\n",
    "print(soup.body.p.next_sibling.next_sibling.a['href'])"
   ]
  },
  {
   "cell_type": "markdown",
   "metadata": {},
   "source": [
    "## 41. BeatutifulSoupのfind, find_allメソッドの使い方"
   ]
  },
  {
   "cell_type": "markdown",
   "metadata": {},
   "source": [
    "### メソッド概要\n",
    "- find() : 引数に検索するHTMLタグ　←引数に一致する最初の１つの要素を取得\n",
    "- find_all() : 引数に検索するHTMLタグ　←引数に一致する全ての要素を取得"
   ]
  },
  {
   "cell_type": "markdown",
   "metadata": {},
   "source": [
    "#### find_allメソッドの概要\n",
    "- 戻り値\n",
    "1. 取得出来たタグをリストで返す\n",
    "2. 何も取得できない場合、空のリストを返す\n",
    "\n",
    "#### findメソッドの概要\n",
    "- 戻り値\n",
    "1. 取得出来たタグを返す\n",
    "2. 何も取得できない場合、Noneを返す\n",
    "\n"
   ]
  },
  {
   "cell_type": "code",
   "execution_count": 20,
   "metadata": {},
   "outputs": [
    {
     "name": "stdout",
     "output_type": "stream",
     "text": [
      "[<a class=\"book\" href=\"https://www.amazon.co.jp/dp/B07TN4D3HG\" id=\"link1\">Python3によるビジネスに役立つデータ分析入門</a>, <a class=\"book\" href=\"http://www.amazon.co.jp/dp/B07SRLRS4M\" id=\"link2\">よくわかるPython3入門2.NumPy・Matplotlib編</a>, <a class=\"book\" href=\"http://www.amazon.co.jp/dp/B07T9SZ96B\" id=\"link3\">よくわかるPython3入門4.Pandasでデータ分析編</a>]\n"
     ]
    }
   ],
   "source": [
    "# find_allでaタグを検索\n",
    "print(soup.find_all('a'))"
   ]
  },
  {
   "cell_type": "code",
   "execution_count": 21,
   "metadata": {},
   "outputs": [
    {
     "name": "stdout",
     "output_type": "stream",
     "text": [
      "<a class=\"book\" href=\"https://www.amazon.co.jp/dp/B07TN4D3HG\" id=\"link1\">Python3によるビジネスに役立つデータ分析入門</a>\n"
     ]
    }
   ],
   "source": [
    "# findだと最初のa要素だけが取得\n",
    "print(soup.find('a'))"
   ]
  },
  {
   "cell_type": "code",
   "execution_count": 24,
   "metadata": {},
   "outputs": [
    {
     "name": "stdout",
     "output_type": "stream",
     "text": [
      "<a class=\"book\" href=\"https://www.amazon.co.jp/dp/B07TN4D3HG\" id=\"link1\">Python3によるビジネスに役立つデータ分析入門</a>\n",
      "\n",
      "<a class=\"book\" href=\"http://www.amazon.co.jp/dp/B07SRLRS4M\" id=\"link2\">よくわかるPython3入門2.NumPy・Matplotlib編</a>\n",
      "\n",
      "<a class=\"book\" href=\"http://www.amazon.co.jp/dp/B07T9SZ96B\" id=\"link3\">よくわかるPython3入門4.Pandasでデータ分析編</a>\n",
      "\n"
     ]
    }
   ],
   "source": [
    "# for文でタグリストを表示\n",
    "for tag_a in soup.find_all('a'):\n",
    "    print(tag_a,end='\\n\\n')"
   ]
  },
  {
   "cell_type": "code",
   "execution_count": 27,
   "metadata": {},
   "outputs": [
    {
     "name": "stdout",
     "output_type": "stream",
     "text": [
      "Python3によるビジネスに役立つデータ分析入門\n",
      "https://www.amazon.co.jp/dp/B07TN4D3HG\n",
      "よくわかるPython3入門2.NumPy・Matplotlib編\n",
      "http://www.amazon.co.jp/dp/B07SRLRS4M\n",
      "よくわかるPython3入門4.Pandasでデータ分析編\n",
      "http://www.amazon.co.jp/dp/B07T9SZ96B\n"
     ]
    }
   ],
   "source": [
    "# 本のタイトルとURLを取得\n",
    "for tag_a in soup.find_all('a'):\n",
    "    print(tag_a.string)\n",
    "    print(tag_a['href'])"
   ]
  },
  {
   "cell_type": "markdown",
   "metadata": {},
   "source": [
    "## 42. BeatutifulSoupのselectメソッドの使い方"
   ]
  },
  {
   "cell_type": "markdown",
   "metadata": {},
   "source": [
    "#### selectメソッドの概要\n",
    "- soup.selct('CSSセレクタ')\n",
    "\n",
    "- 戻り値\n",
    "1. 取得出来たタグをリストで返す\n",
    "2. 何も取得できない場合、空のリストを返す"
   ]
  },
  {
   "cell_type": "markdown",
   "metadata": {},
   "source": [
    "### google chromeでcssセレクタを確認する方法\n",
    "1. htmlで該当箇所で右クリックする\n",
    "2. 検証をクリック\n",
    "3. 該当箇所のhtml文を右クリックしCopy→Copy selecterを選択"
   ]
  },
  {
   "cell_type": "code",
   "execution_count": 28,
   "metadata": {},
   "outputs": [
    {
     "name": "stdout",
     "output_type": "stream",
     "text": [
      "[<b>そして、これらの本は好評発売中です。</b>]\n"
     ]
    }
   ],
   "source": [
    "# selectで抽出\n",
    "print(soup.select('body > p.end > b'))"
   ]
  },
  {
   "cell_type": "code",
   "execution_count": 30,
   "metadata": {},
   "outputs": [
    {
     "name": "stdout",
     "output_type": "stream",
     "text": [
      "そして、これらの本は好評発売中です。\n"
     ]
    }
   ],
   "source": [
    "# リストからスライスで抽出して、stringで文字を抜き出し\n",
    "print(soup.select('body > p.end > b')[0].string)"
   ]
  },
  {
   "cell_type": "markdown",
   "metadata": {},
   "source": [
    "## 課題2.BeutifulSoupの基本演習"
   ]
  },
  {
   "cell_type": "markdown",
   "metadata": {},
   "source": [
    "1. まずはBeautifulSoupをインポートし、サンプルのHTMLをBeautifulSoupで読み込んでください"
   ]
  },
  {
   "cell_type": "code",
   "execution_count": 32,
   "metadata": {},
   "outputs": [],
   "source": [
    "# BeatuifulSoupをインポート\n",
    "\n",
    "from bs4 import BeautifulSoup\n",
    "\n",
    "html= \"\"\"\n",
    "<html>\n",
    "    <head>\n",
    "        <title>清水義孝の著書</title>\n",
    "    </head>\n",
    "    <body>\n",
    "        <p class=\"title\">\n",
    "            <b>清水義孝の最新の著書には、次の本があります。</b>\n",
    "        </p>\n",
    "        <p class=\"recent books\">\n",
    "            <a class=\"book\" href=\"https://www.amazon.co.jp/dp/B07TN4D3HG\" id=\"link1\">Python3によるビジネスに役立つデータ分析入門</a>、\n",
    "            <a class=\"book\" href=\"http://www.amazon.co.jp/dp/B07SRLRS4M\" id=\"link2\">よくわかるPython3入門2.NumPy・Matplotlib編</a>、\n",
    "            <a class=\"book\" href=\"http://www.amazon.co.jp/dp/B07T9SZ96B\" id=\"link3\">よくわかるPython3入門4.Pandasでデータ分析編</a>\n",
    "        </p>\n",
    "        <p class=\"end\">\n",
    "            <b>そして、これらの本は好評発売中です。</b>\n",
    "        </p>\n",
    "    </body>\n",
    "</html>\n",
    "\"\"\"\n",
    "\n",
    "soup = BeautifulSoup(html, 'html.parser')"
   ]
  },
  {
   "cell_type": "markdown",
   "metadata": {},
   "source": [
    "2. 読み込んだHTMLを整形したかたちで表示してください。"
   ]
  },
  {
   "cell_type": "code",
   "execution_count": 33,
   "metadata": {},
   "outputs": [
    {
     "name": "stdout",
     "output_type": "stream",
     "text": [
      "<html>\n",
      " <head>\n",
      "  <title>\n",
      "   清水義孝の著書\n",
      "  </title>\n",
      " </head>\n",
      " <body>\n",
      "  <p class=\"title\">\n",
      "   <b>\n",
      "    清水義孝の最新の著書には、次の本があります。\n",
      "   </b>\n",
      "  </p>\n",
      "  <p class=\"recent books\">\n",
      "   <a class=\"book\" href=\"https://www.amazon.co.jp/dp/B07TN4D3HG\" id=\"link1\">\n",
      "    Python3によるビジネスに役立つデータ分析入門\n",
      "   </a>\n",
      "   、\n",
      "   <a class=\"book\" href=\"http://www.amazon.co.jp/dp/B07SRLRS4M\" id=\"link2\">\n",
      "    よくわかるPython3入門2.NumPy・Matplotlib編\n",
      "   </a>\n",
      "   、\n",
      "   <a class=\"book\" href=\"http://www.amazon.co.jp/dp/B07T9SZ96B\" id=\"link3\">\n",
      "    よくわかるPython3入門4.Pandasでデータ分析編\n",
      "   </a>\n",
      "  </p>\n",
      "  <p class=\"end\">\n",
      "   <b>\n",
      "    そして、これらの本は好評発売中です。\n",
      "   </b>\n",
      "  </p>\n",
      " </body>\n",
      "</html>\n",
      "\n"
     ]
    }
   ],
   "source": [
    "# 階層化された状態で表示\n",
    "print(soup.prettify())"
   ]
  },
  {
   "cell_type": "markdown",
   "metadata": {},
   "source": [
    "3. title要素を取得し、表示してください。"
   ]
  },
  {
   "cell_type": "code",
   "execution_count": 39,
   "metadata": {},
   "outputs": [
    {
     "name": "stdout",
     "output_type": "stream",
     "text": [
      "清水義孝の著書\n"
     ]
    }
   ],
   "source": [
    "print(soup.title.string)"
   ]
  },
  {
   "cell_type": "markdown",
   "metadata": {},
   "source": [
    "4. find_allメソッドで全てのa要素を取得し、表示してください。結果はリスト型で表示されます"
   ]
  },
  {
   "cell_type": "code",
   "execution_count": 42,
   "metadata": {},
   "outputs": [
    {
     "name": "stdout",
     "output_type": "stream",
     "text": [
      "[<a class=\"book\" href=\"https://www.amazon.co.jp/dp/B07TN4D3HG\" id=\"link1\">Python3によるビジネスに役立つデータ分析入門</a>, <a class=\"book\" href=\"http://www.amazon.co.jp/dp/B07SRLRS4M\" id=\"link2\">よくわかるPython3入門2.NumPy・Matplotlib編</a>, <a class=\"book\" href=\"http://www.amazon.co.jp/dp/B07T9SZ96B\" id=\"link3\">よくわかるPython3入門4.Pandasでデータ分析編</a>]\n"
     ]
    }
   ],
   "source": [
    "print(soup.find_all('a'))"
   ]
  },
  {
   "cell_type": "markdown",
   "metadata": {},
   "source": [
    "5. 問4で取得した全てのa要素から、①href属性の値と②配下のテキストを表示してください"
   ]
  },
  {
   "cell_type": "code",
   "execution_count": 46,
   "metadata": {},
   "outputs": [
    {
     "name": "stdout",
     "output_type": "stream",
     "text": [
      "https://www.amazon.co.jp/dp/B07TN4D3HG\n",
      "Python3によるビジネスに役立つデータ分析入門\n",
      "http://www.amazon.co.jp/dp/B07SRLRS4M\n",
      "よくわかるPython3入門2.NumPy・Matplotlib編\n",
      "http://www.amazon.co.jp/dp/B07T9SZ96B\n",
      "よくわかるPython3入門4.Pandasでデータ分析編\n"
     ]
    }
   ],
   "source": [
    "for tag_a in soup.find_all('a'):\n",
    "    print(tag_a['href'])\n",
    "    print(tag_a.string)"
   ]
  },
  {
   "cell_type": "code",
   "execution_count": null,
   "metadata": {},
   "outputs": [],
   "source": []
  }
 ],
 "metadata": {
  "kernelspec": {
   "display_name": "Python 3",
   "language": "python",
   "name": "python3"
  },
  "language_info": {
   "codemirror_mode": {
    "name": "ipython",
    "version": 3
   },
   "file_extension": ".py",
   "mimetype": "text/x-python",
   "name": "python",
   "nbconvert_exporter": "python",
   "pygments_lexer": "ipython3",
   "version": "3.7.4"
  }
 },
 "nbformat": 4,
 "nbformat_minor": 4
}
