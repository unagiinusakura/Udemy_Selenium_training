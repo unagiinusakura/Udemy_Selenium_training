{
 "cells": [
  {
   "cell_type": "markdown",
   "metadata": {},
   "source": [
    "## 60. 正規表現の書き方と使い方"
   ]
  },
  {
   "cell_type": "code",
   "execution_count": 1,
   "metadata": {},
   "outputs": [],
   "source": [
    "# 正規表現のモジュールをインポート\n",
    "import re"
   ]
  },
  {
   "cell_type": "code",
   "execution_count": 19,
   "metadata": {},
   "outputs": [],
   "source": [
    "URL = 'http://www.amazon.co.jp/dp/B07T9TCPZX'"
   ]
  },
  {
   "cell_type": "code",
   "execution_count": 20,
   "metadata": {},
   "outputs": [],
   "source": [
    "pattern = \"https?://[^/]+/\""
   ]
  },
  {
   "cell_type": "code",
   "execution_count": 21,
   "metadata": {},
   "outputs": [],
   "source": [
    "m = re.match(pattern, URL)"
   ]
  },
  {
   "cell_type": "code",
   "execution_count": 22,
   "metadata": {},
   "outputs": [
    {
     "data": {
      "text/plain": [
       "'http://www.amazon.co.jp/'"
      ]
     },
     "execution_count": 22,
     "metadata": {},
     "output_type": "execute_result"
    }
   ],
   "source": [
    "m.group()"
   ]
  },
  {
   "cell_type": "markdown",
   "metadata": {},
   "source": [
    "### matchオブジェクトのメソッド\n",
    "- group() : マッチした文字列を取得する\n",
    "- span() : マッチした文字列の開始、終了位置を取得する\n",
    "- start() : マッチした文字列の開始位置を取得する\n",
    "- end() : マッチした文字列の終了位置を取得する"
   ]
  },
  {
   "cell_type": "code",
   "execution_count": 23,
   "metadata": {},
   "outputs": [
    {
     "data": {
      "text/plain": [
       "(0, 24)"
      ]
     },
     "execution_count": 23,
     "metadata": {},
     "output_type": "execute_result"
    }
   ],
   "source": [
    "m.span()"
   ]
  },
  {
   "cell_type": "markdown",
   "metadata": {},
   "source": [
    "## 61. 正規表現で使う関数(match, search)"
   ]
  },
  {
   "cell_type": "markdown",
   "metadata": {},
   "source": [
    "### 正規表現の関数\n",
    "- match : 先頭の文字列からパターンに一致するものを検索\n",
    "- search: 先頭に限らずパターンに一致するのがあるか確認。ただし、複数一致しても1つ目を返す\n",
    "- findall: パターンに一致するのもを全てリストで返す。位置情報は取得不可\n",
    "- finditer: パターンに一致するものを全てmatchオブジェクトで取得できる。位置情報も取得可\n",
    "- fullmatch: 文字列全体が一致しているかを確認する\n",
    "- sub: パターンに一致した文字列を別の文字列に置き換える"
   ]
  },
  {
   "cell_type": "markdown",
   "metadata": {},
   "source": [
    "#### match関数\n",
    "- re.match(正規表現のパターン、検索対象の文字列)\n",
    "- 戻り値\n",
    " - matchオブジェクトを返す\n",
    " - 何も取得できない場合はNoneを返す"
   ]
  },
  {
   "cell_type": "code",
   "execution_count": 24,
   "metadata": {},
   "outputs": [
    {
     "name": "stdout",
     "output_type": "stream",
     "text": [
      "<re.Match object; span=(0, 3), match='xyz'>\n"
     ]
    }
   ],
   "source": [
    "m = re.match('x.z', 'xyz')\n",
    "print(m)"
   ]
  },
  {
   "cell_type": "code",
   "execution_count": 25,
   "metadata": {},
   "outputs": [
    {
     "name": "stdout",
     "output_type": "stream",
     "text": [
      "None\n"
     ]
    }
   ],
   "source": [
    "# matchは先頭からの検索なのでNoneになる\n",
    "m = re.match('x.z', 'vwxyz')\n",
    "print(m)"
   ]
  },
  {
   "cell_type": "code",
   "execution_count": 27,
   "metadata": {},
   "outputs": [
    {
     "name": "stdout",
     "output_type": "stream",
     "text": [
      "<re.Match object; span=(2, 5), match='xyz'>\n"
     ]
    }
   ],
   "source": [
    "# searchだと検索できる\n",
    "m = re.search('x.z', 'vwxyz')\n",
    "print(m)"
   ]
  },
  {
   "cell_type": "code",
   "execution_count": 30,
   "metadata": {},
   "outputs": [
    {
     "name": "stdout",
     "output_type": "stream",
     "text": [
      "<re.Match object; span=(2, 5), match='xyz'>\n"
     ]
    }
   ],
   "source": [
    "m = re.search('x.z', 'vwxyz vwxyz')\n",
    "print(m)"
   ]
  },
  {
   "cell_type": "markdown",
   "metadata": {},
   "source": [
    "## 62. 正規表現で使う関数(findall, finditer, fullmatch, sub)"
   ]
  },
  {
   "cell_type": "markdown",
   "metadata": {},
   "source": [
    "#### findall関数\n",
    "- re.findall(正規表現のパターン、検索対象の文字列)\n",
    "- 戻り値\n",
    " - リストを返す\n",
    " - 何も取得できない場合は空のリストを返す"
   ]
  },
  {
   "cell_type": "code",
   "execution_count": 34,
   "metadata": {},
   "outputs": [
    {
     "name": "stdout",
     "output_type": "stream",
     "text": [
      "['xyz', 'xyz', 'xcz', 'xgz']\n"
     ]
    }
   ],
   "source": [
    "m = re.findall('x.z', 'vwxyz vwxyz xcz xgz')\n",
    "print(m)"
   ]
  },
  {
   "cell_type": "markdown",
   "metadata": {},
   "source": [
    "#### finditer関数\n",
    "- re.finditer(正規表現のパターン、検索対象の文字列)\n",
    "- 戻り値\n",
    " - イテレータを返す(要素はmatchオブジェクト)\n",
    " - 何も取得できない場合は空のイテレータを返す"
   ]
  },
  {
   "cell_type": "code",
   "execution_count": 35,
   "metadata": {},
   "outputs": [
    {
     "name": "stdout",
     "output_type": "stream",
     "text": [
      "<re.Match object; span=(2, 5), match='xyz'>\n",
      "<re.Match object; span=(8, 11), match='xyz'>\n",
      "<re.Match object; span=(12, 15), match='xcz'>\n",
      "<re.Match object; span=(16, 19), match='xgz'>\n"
     ]
    }
   ],
   "source": [
    "m = re.finditer('x.z', 'vwxyz vwxyz xcz xgz')\n",
    "for s in m:\n",
    "    print(s)"
   ]
  },
  {
   "cell_type": "markdown",
   "metadata": {},
   "source": [
    "#### fullmatch関数\n",
    "- re.fullmatch(正規表現のパターン、検索対象の文字列)\n",
    "- 戻り値\n",
    " - matchオブジェクトを返す\n",
    " - 何も取得できない場合はNoneを返す"
   ]
  },
  {
   "cell_type": "code",
   "execution_count": 36,
   "metadata": {},
   "outputs": [
    {
     "name": "stdout",
     "output_type": "stream",
     "text": [
      "None\n"
     ]
    }
   ],
   "source": [
    "# 完全一致の為Noneになる\n",
    "m = re.fullmatch('x.z', 'vwxyz')\n",
    "print(m)"
   ]
  },
  {
   "cell_type": "code",
   "execution_count": 38,
   "metadata": {},
   "outputs": [
    {
     "name": "stdout",
     "output_type": "stream",
     "text": [
      "<re.Match object; span=(0, 3), match='xyz'>\n"
     ]
    }
   ],
   "source": [
    "m = re.fullmatch('x.z', 'xyz')\n",
    "print(m)"
   ]
  },
  {
   "cell_type": "markdown",
   "metadata": {},
   "source": [
    "#### sub関数\n",
    "- re.sub(正規表現のパターン,置換後の文字列,検索対象の文字列)\n",
    "- 戻り値\n",
    " - 置換処理をした後の文字列を返す\n",
    " - 一致しない場合、置換せずに文字列を返す "
   ]
  },
  {
   "cell_type": "code",
   "execution_count": 39,
   "metadata": {},
   "outputs": [
    {
     "name": "stdout",
     "output_type": "stream",
     "text": [
      "vwabc\n"
     ]
    }
   ],
   "source": [
    "m = re.sub('x.z','abc','vwxyz')\n",
    "print(m)"
   ]
  },
  {
   "cell_type": "markdown",
   "metadata": {},
   "source": [
    "## 63. 文字列の先頭・末尾を指定する記号"
   ]
  },
  {
   "cell_type": "markdown",
   "metadata": {},
   "source": [
    "- ^ : 文字列の先頭からパターンに一致するかを判定\n",
    "- $ : 文字列の末尾からパターンに一致するかを判定"
   ]
  },
  {
   "cell_type": "code",
   "execution_count": 2,
   "metadata": {},
   "outputs": [
    {
     "name": "stdout",
     "output_type": "stream",
     "text": [
      "<re.Match object; span=(0, 2), match='ab'>\n"
     ]
    }
   ],
   "source": [
    "# ^の確認\n",
    "m = re.search('^ab', 'abcde')\n",
    "print(m)"
   ]
  },
  {
   "cell_type": "code",
   "execution_count": 3,
   "metadata": {},
   "outputs": [
    {
     "name": "stdout",
     "output_type": "stream",
     "text": [
      "None\n"
     ]
    }
   ],
   "source": [
    "# 先頭にabがない場合\n",
    "m = re.search('^ab', 'xyz abcde')\n",
    "print(m)"
   ]
  },
  {
   "cell_type": "code",
   "execution_count": 6,
   "metadata": {},
   "outputs": [
    {
     "name": "stdout",
     "output_type": "stream",
     "text": [
      "<re.Match object; span=(7, 9), match='de'>\n"
     ]
    }
   ],
   "source": [
    "# $で末尾から検索\n",
    "m = re.search('de$', 'xyz abcde')\n",
    "print(m)"
   ]
  },
  {
   "cell_type": "code",
   "execution_count": 7,
   "metadata": {},
   "outputs": [
    {
     "name": "stdout",
     "output_type": "stream",
     "text": [
      "None\n"
     ]
    }
   ],
   "source": [
    "# $で末尾から検索\n",
    "m = re.search('de$', 'abcde　xyz')\n",
    "print(m)"
   ]
  },
  {
   "cell_type": "markdown",
   "metadata": {},
   "source": [
    "## 64. 繰り返し回数を指定する記号"
   ]
  },
  {
   "cell_type": "markdown",
   "metadata": {},
   "source": [
    "- ? : 0回もしくは1回\n",
    "- ＊ : 0回以上\n",
    "- ＋ : 1回以上\n",
    "- {m}: m回\n",
    "- {m,}: m回以上\n",
    "- {m,n}: m回以上,n回まで "
   ]
  },
  {
   "cell_type": "code",
   "execution_count": 2,
   "metadata": {},
   "outputs": [
    {
     "name": "stdout",
     "output_type": "stream",
     "text": [
      "<re.Match object; span=(0, 1), match='x'>\n"
     ]
    }
   ],
   "source": [
    "# ?のケース\n",
    "m = re.search('xy?', 'x')\n",
    "print(m)"
   ]
  },
  {
   "cell_type": "code",
   "execution_count": 3,
   "metadata": {},
   "outputs": [
    {
     "name": "stdout",
     "output_type": "stream",
     "text": [
      "<re.Match object; span=(0, 2), match='xy'>\n"
     ]
    }
   ],
   "source": [
    "m = re.search('xy?', 'xyyy')\n",
    "print(m)"
   ]
  },
  {
   "cell_type": "code",
   "execution_count": 4,
   "metadata": {},
   "outputs": [
    {
     "name": "stdout",
     "output_type": "stream",
     "text": [
      "<re.Match object; span=(0, 1), match='x'>\n"
     ]
    }
   ],
   "source": [
    "m = re.search('xy?', 'xlyyy')\n",
    "print(m)"
   ]
  },
  {
   "cell_type": "code",
   "execution_count": 7,
   "metadata": {},
   "outputs": [
    {
     "name": "stdout",
     "output_type": "stream",
     "text": [
      "<re.Match object; span=(0, 4), match='xyyy'>\n"
     ]
    }
   ],
   "source": [
    "# *の場合\n",
    "m = re.search('xy*', 'xyyy')\n",
    "print(m)"
   ]
  },
  {
   "cell_type": "code",
   "execution_count": 8,
   "metadata": {},
   "outputs": [
    {
     "name": "stdout",
     "output_type": "stream",
     "text": [
      "<re.Match object; span=(0, 1), match='x'>\n"
     ]
    }
   ],
   "source": [
    "m = re.search('xy*', 'x')\n",
    "print(m)"
   ]
  },
  {
   "cell_type": "code",
   "execution_count": 10,
   "metadata": {},
   "outputs": [
    {
     "name": "stdout",
     "output_type": "stream",
     "text": [
      "None\n"
     ]
    }
   ],
   "source": [
    "# +の場合\n",
    "m = re.search('xy+', 'x')\n",
    "print(m)"
   ]
  },
  {
   "cell_type": "code",
   "execution_count": 11,
   "metadata": {},
   "outputs": [
    {
     "name": "stdout",
     "output_type": "stream",
     "text": [
      "<re.Match object; span=(0, 2), match='xy'>\n"
     ]
    }
   ],
   "source": [
    "m = re.search('xy+', 'xy')\n",
    "print(m)"
   ]
  },
  {
   "cell_type": "code",
   "execution_count": 12,
   "metadata": {},
   "outputs": [
    {
     "name": "stdout",
     "output_type": "stream",
     "text": [
      "<re.Match object; span=(0, 4), match='xyyy'>\n"
     ]
    }
   ],
   "source": [
    "m = re.search('xy+', 'xyyy')\n",
    "print(m)"
   ]
  },
  {
   "cell_type": "code",
   "execution_count": 13,
   "metadata": {},
   "outputs": [
    {
     "name": "stdout",
     "output_type": "stream",
     "text": [
      "<re.Match object; span=(0, 3), match='xxx'>\n"
     ]
    }
   ],
   "source": [
    "# {}の場合\n",
    "m = re.search('x{3}', 'xxx')\n",
    "print(m)"
   ]
  },
  {
   "cell_type": "code",
   "execution_count": 14,
   "metadata": {},
   "outputs": [
    {
     "name": "stdout",
     "output_type": "stream",
     "text": [
      "<re.Match object; span=(0, 3), match='xxx'>\n"
     ]
    }
   ],
   "source": [
    "m = re.search('x{3}', 'xxxx')\n",
    "print(m)"
   ]
  },
  {
   "cell_type": "code",
   "execution_count": 15,
   "metadata": {},
   "outputs": [
    {
     "name": "stdout",
     "output_type": "stream",
     "text": [
      "<re.Match object; span=(0, 6), match='xxxxxx'>\n"
     ]
    }
   ],
   "source": [
    "# {m,}の場合\n",
    "m = re.search('x{3,}', 'xxxxxx')\n",
    "print(m)"
   ]
  },
  {
   "cell_type": "code",
   "execution_count": 16,
   "metadata": {},
   "outputs": [
    {
     "name": "stdout",
     "output_type": "stream",
     "text": [
      "None\n"
     ]
    }
   ],
   "source": [
    "# {m,}の場合\n",
    "m = re.search('x{3,}', 'xx')\n",
    "print(m)"
   ]
  },
  {
   "cell_type": "code",
   "execution_count": 17,
   "metadata": {},
   "outputs": [
    {
     "name": "stdout",
     "output_type": "stream",
     "text": [
      "<re.Match object; span=(0, 3), match='xxx'>\n"
     ]
    }
   ],
   "source": [
    "# {m,n}の場合\n",
    "m = re.search('x{3,5}', 'xxx')\n",
    "print(m)"
   ]
  },
  {
   "cell_type": "code",
   "execution_count": 18,
   "metadata": {},
   "outputs": [
    {
     "name": "stdout",
     "output_type": "stream",
     "text": [
      "<re.Match object; span=(0, 5), match='xxxxx'>\n"
     ]
    }
   ],
   "source": [
    "# {m,n}の場合\n",
    "m = re.search('x{3,5}', 'xxxxx')\n",
    "print(m)"
   ]
  },
  {
   "cell_type": "code",
   "execution_count": 19,
   "metadata": {},
   "outputs": [
    {
     "name": "stdout",
     "output_type": "stream",
     "text": [
      "<re.Match object; span=(0, 5), match='xxxxx'>\n"
     ]
    }
   ],
   "source": [
    "# {m,n}の場合\n",
    "m = re.search('x{3,5}', 'xxxxxx')\n",
    "print(m)"
   ]
  },
  {
   "cell_type": "markdown",
   "metadata": {},
   "source": [
    "#### グルーピング\n",
    "- （ ）: ( )で囲われた文字列をグルーピングし、パターンに一致するかを判定"
   ]
  },
  {
   "cell_type": "code",
   "execution_count": 21,
   "metadata": {},
   "outputs": [
    {
     "name": "stdout",
     "output_type": "stream",
     "text": [
      "<re.Match object; span=(0, 6), match='xyxyxy'>\n"
     ]
    }
   ],
   "source": [
    "# xyを3回～5回ｍで繰り返した時にmatch\n",
    "m = re.search('(xy){3,5}', 'xyxyxy')\n",
    "print(m)"
   ]
  },
  {
   "cell_type": "code",
   "execution_count": 22,
   "metadata": {},
   "outputs": [
    {
     "name": "stdout",
     "output_type": "stream",
     "text": [
      "None\n"
     ]
    }
   ],
   "source": [
    "# xyを3回～5回ｍで繰り返した時にmatch\n",
    "m = re.search('(xy){3,5}', 'xyxy')\n",
    "print(m)"
   ]
  },
  {
   "cell_type": "code",
   "execution_count": 23,
   "metadata": {},
   "outputs": [
    {
     "name": "stdout",
     "output_type": "stream",
     "text": [
      "<re.Match object; span=(0, 4), match='xyxy'>\n"
     ]
    }
   ],
   "source": [
    "m = re.search('(xy)*', 'xyxy')\n",
    "print(m)"
   ]
  },
  {
   "cell_type": "markdown",
   "metadata": {},
   "source": [
    "## 65. 集合（否定を含む）・　ORを指定する記号"
   ]
  },
  {
   "cell_type": "markdown",
   "metadata": {},
   "source": [
    "#### 集合(否定含む)の記号\n",
    "- [0-9]: 全ての数字\n",
    "- [a-zA-Z]:全てのアルファベット\n",
    "- [a-zA-Z0-9]:全てのアルファベットと数字\n",
    "- [^a-zA-Z0-9]:全てのアルファベットと数字以外、集合に^を付けると集合の条件否定となる"
   ]
  },
  {
   "cell_type": "code",
   "execution_count": 24,
   "metadata": {},
   "outputs": [
    {
     "name": "stdout",
     "output_type": "stream",
     "text": [
      "None\n"
     ]
    }
   ],
   "source": [
    "# [0-9の場合]\n",
    "m = re.search('[0-9]', 'a')\n",
    "print(m)"
   ]
  },
  {
   "cell_type": "code",
   "execution_count": 25,
   "metadata": {},
   "outputs": [
    {
     "name": "stdout",
     "output_type": "stream",
     "text": [
      "<re.Match object; span=(0, 1), match='3'>\n"
     ]
    }
   ],
   "source": [
    "m = re.search('[0-9]', '333')\n",
    "print(m)"
   ]
  },
  {
   "cell_type": "code",
   "execution_count": 26,
   "metadata": {},
   "outputs": [
    {
     "name": "stdout",
     "output_type": "stream",
     "text": [
      "None\n"
     ]
    }
   ],
   "source": [
    "# [a-zA-Zの場合]\n",
    "m = re.search('[a-zA-Z]', '333')\n",
    "print(m)"
   ]
  },
  {
   "cell_type": "code",
   "execution_count": 27,
   "metadata": {},
   "outputs": [
    {
     "name": "stdout",
     "output_type": "stream",
     "text": [
      "<re.Match object; span=(0, 1), match='z'>\n"
     ]
    }
   ],
   "source": [
    "m = re.search('[a-zA-Z]', 'z')\n",
    "print(m)"
   ]
  },
  {
   "cell_type": "code",
   "execution_count": 28,
   "metadata": {},
   "outputs": [
    {
     "name": "stdout",
     "output_type": "stream",
     "text": [
      "<re.Match object; span=(0, 1), match='Z'>\n"
     ]
    }
   ],
   "source": [
    "m = re.search('[a-zA-Z]', 'Z')\n",
    "print(m)"
   ]
  },
  {
   "cell_type": "code",
   "execution_count": 29,
   "metadata": {},
   "outputs": [
    {
     "name": "stdout",
     "output_type": "stream",
     "text": [
      "None\n"
     ]
    }
   ],
   "source": [
    "m = re.search('[a-z]', 'Z')\n",
    "print(m)"
   ]
  },
  {
   "cell_type": "code",
   "execution_count": 34,
   "metadata": {},
   "outputs": [
    {
     "name": "stdout",
     "output_type": "stream",
     "text": [
      "<re.Match object; span=(0, 1), match='3'>\n"
     ]
    }
   ],
   "source": [
    "m = re.search('[a-z0-9]', '3')\n",
    "print(m)"
   ]
  },
  {
   "cell_type": "code",
   "execution_count": 35,
   "metadata": {},
   "outputs": [
    {
     "name": "stdout",
     "output_type": "stream",
     "text": [
      "None\n"
     ]
    }
   ],
   "source": [
    "# [^の場合]\n",
    "m = re.search('[^a-z0-9]', '3')\n",
    "print(m)"
   ]
  },
  {
   "cell_type": "code",
   "execution_count": 36,
   "metadata": {},
   "outputs": [
    {
     "name": "stdout",
     "output_type": "stream",
     "text": [
      "<re.Match object; span=(0, 1), match='/'>\n"
     ]
    }
   ],
   "source": [
    "# [^の場合]\n",
    "m = re.search('[^a-z0-9]', '/')\n",
    "print(m)"
   ]
  },
  {
   "cell_type": "markdown",
   "metadata": {},
   "source": [
    "#### ORを指定する記号"
   ]
  },
  {
   "cell_type": "markdown",
   "metadata": {},
   "source": [
    "- | : a|bはa or b\n",
    "- [ ]: [ab]はa or b"
   ]
  },
  {
   "cell_type": "code",
   "execution_count": 37,
   "metadata": {},
   "outputs": [
    {
     "name": "stdout",
     "output_type": "stream",
     "text": [
      "<re.Match object; span=(0, 1), match='a'>\n"
     ]
    }
   ],
   "source": [
    "# [|の場合]\n",
    "m = re.search('a|b', 'a')\n",
    "print(m)"
   ]
  },
  {
   "cell_type": "code",
   "execution_count": 38,
   "metadata": {},
   "outputs": [
    {
     "name": "stdout",
     "output_type": "stream",
     "text": [
      "<re.Match object; span=(0, 1), match='b'>\n"
     ]
    }
   ],
   "source": [
    "m = re.search('a|b', 'b')\n",
    "print(m)"
   ]
  },
  {
   "cell_type": "code",
   "execution_count": 39,
   "metadata": {},
   "outputs": [
    {
     "name": "stdout",
     "output_type": "stream",
     "text": [
      "None\n"
     ]
    }
   ],
   "source": [
    "m = re.search('a|b', 'c')\n",
    "print(m)"
   ]
  },
  {
   "cell_type": "code",
   "execution_count": 40,
   "metadata": {},
   "outputs": [
    {
     "name": "stdout",
     "output_type": "stream",
     "text": [
      "<re.Match object; span=(0, 2), match='bc'>\n"
     ]
    }
   ],
   "source": [
    "m = re.search('(a|b)c', 'bc')\n",
    "print(m)"
   ]
  },
  {
   "cell_type": "code",
   "execution_count": 41,
   "metadata": {},
   "outputs": [
    {
     "name": "stdout",
     "output_type": "stream",
     "text": [
      "<re.Match object; span=(0, 2), match='ac'>\n"
     ]
    }
   ],
   "source": [
    "m = re.search('(a|b)c', 'ac')\n",
    "print(m)"
   ]
  },
  {
   "cell_type": "code",
   "execution_count": 42,
   "metadata": {},
   "outputs": [
    {
     "name": "stdout",
     "output_type": "stream",
     "text": [
      "<re.Match object; span=(0, 2), match='ac'>\n"
     ]
    }
   ],
   "source": [
    "m = re.search('[ab]c', 'ac')\n",
    "print(m)"
   ]
  },
  {
   "cell_type": "markdown",
   "metadata": {},
   "source": [
    "## 66. 特殊シーケンス"
   ]
  },
  {
   "cell_type": "markdown",
   "metadata": {},
   "source": [
    "#### 特殊シーケンス\n",
    "- \\d:全ての数字　[0-9]と同じ\n",
    "- \\D:全ての数字意外　[^0-9]と同じ\n",
    "- \\w:全ての英数字と_　[a-zA-Z0-9_]と同じ\n",
    "- \\W:全ての英数字と_意外　[^a-zA-Z0-9_]と同じ\n",
    "- \\s:空白\n",
    "- \\S:空白以外\n",
    "- \\A:文字列の先頭　^と同じ\n",
    "- \\Z:文字列の末尾　$と同じ\n"
   ]
  },
  {
   "cell_type": "code",
   "execution_count": 44,
   "metadata": {},
   "outputs": [
    {
     "name": "stdout",
     "output_type": "stream",
     "text": [
      "None\n"
     ]
    }
   ],
   "source": [
    "# \\dの場合\n",
    "m = re.search('\\d', 'a')\n",
    "print(m)"
   ]
  },
  {
   "cell_type": "code",
   "execution_count": 47,
   "metadata": {},
   "outputs": [
    {
     "name": "stdout",
     "output_type": "stream",
     "text": [
      "<re.Match object; span=(0, 1), match='5'>\n"
     ]
    }
   ],
   "source": [
    "m = re.search('\\d', '5')\n",
    "print(m)"
   ]
  },
  {
   "cell_type": "code",
   "execution_count": 48,
   "metadata": {},
   "outputs": [
    {
     "name": "stdout",
     "output_type": "stream",
     "text": [
      "None\n"
     ]
    }
   ],
   "source": [
    "# \\Dの場合\n",
    "m = re.search('\\D', '5')\n",
    "print(m)"
   ]
  },
  {
   "cell_type": "code",
   "execution_count": 49,
   "metadata": {},
   "outputs": [
    {
     "name": "stdout",
     "output_type": "stream",
     "text": [
      "<re.Match object; span=(0, 1), match='b'>\n"
     ]
    }
   ],
   "source": [
    "m = re.search('\\D', 'b')\n",
    "print(m)"
   ]
  },
  {
   "cell_type": "code",
   "execution_count": 50,
   "metadata": {},
   "outputs": [
    {
     "name": "stdout",
     "output_type": "stream",
     "text": [
      "<re.Match object; span=(0, 1), match='＠'>\n"
     ]
    }
   ],
   "source": [
    "m = re.search('\\D', '＠')\n",
    "print(m)"
   ]
  },
  {
   "cell_type": "code",
   "execution_count": 51,
   "metadata": {},
   "outputs": [
    {
     "name": "stdout",
     "output_type": "stream",
     "text": [
      "<re.Match object; span=(0, 1), match='a'>\n"
     ]
    }
   ],
   "source": [
    "# \\wの場合\n",
    "m = re.search('\\w', 'a')\n",
    "print(m)"
   ]
  },
  {
   "cell_type": "code",
   "execution_count": 52,
   "metadata": {},
   "outputs": [
    {
     "name": "stdout",
     "output_type": "stream",
     "text": [
      "None\n"
     ]
    }
   ],
   "source": [
    "m = re.search('\\w', '@')\n",
    "print(m)"
   ]
  },
  {
   "cell_type": "code",
   "execution_count": 55,
   "metadata": {},
   "outputs": [
    {
     "name": "stdout",
     "output_type": "stream",
     "text": [
      "<re.Match object; span=(0, 1), match='@'>\n"
     ]
    }
   ],
   "source": [
    "# \\Wの場合\n",
    "m = re.search('\\W', '@')\n",
    "print(m)"
   ]
  },
  {
   "cell_type": "code",
   "execution_count": 56,
   "metadata": {},
   "outputs": [
    {
     "name": "stdout",
     "output_type": "stream",
     "text": [
      "None\n"
     ]
    }
   ],
   "source": [
    "m = re.search('\\W', 'a')\n",
    "print(m)"
   ]
  },
  {
   "cell_type": "code",
   "execution_count": 59,
   "metadata": {},
   "outputs": [
    {
     "name": "stdout",
     "output_type": "stream",
     "text": [
      "None\n"
     ]
    }
   ],
   "source": [
    "# \\sの場合\n",
    "m = re.search('\\s','_')\n",
    "print(m)              "
   ]
  },
  {
   "cell_type": "code",
   "execution_count": 60,
   "metadata": {},
   "outputs": [
    {
     "name": "stdout",
     "output_type": "stream",
     "text": [
      "<re.Match object; span=(0, 1), match=' '>\n"
     ]
    }
   ],
   "source": [
    "m = re.search('\\s',' ')\n",
    "print(m)     "
   ]
  },
  {
   "cell_type": "code",
   "execution_count": 62,
   "metadata": {},
   "outputs": [
    {
     "name": "stdout",
     "output_type": "stream",
     "text": [
      "<re.Match object; span=(0, 1), match='_'>\n"
     ]
    }
   ],
   "source": [
    "# \\Sの場合\n",
    "m = re.search('\\S','_')\n",
    "print(m)          "
   ]
  },
  {
   "cell_type": "code",
   "execution_count": 63,
   "metadata": {},
   "outputs": [
    {
     "name": "stdout",
     "output_type": "stream",
     "text": [
      "None\n"
     ]
    }
   ],
   "source": [
    "m = re.search('\\S',' ')\n",
    "print(m)     "
   ]
  },
  {
   "cell_type": "code",
   "execution_count": 65,
   "metadata": {},
   "outputs": [
    {
     "name": "stdout",
     "output_type": "stream",
     "text": [
      "<re.Match object; span=(0, 2), match='ab'>\n"
     ]
    }
   ],
   "source": [
    "# \\Aの場合\n",
    "m = re.search('\\Aab','abcde')\n",
    "print(m)            "
   ]
  },
  {
   "cell_type": "code",
   "execution_count": 66,
   "metadata": {},
   "outputs": [
    {
     "name": "stdout",
     "output_type": "stream",
     "text": [
      "<re.Match object; span=(7, 9), match='de'>\n"
     ]
    }
   ],
   "source": [
    "# \\Zの場合\n",
    "m = re.search('de\\Z', 'xyz abcde')\n",
    "print(m)"
   ]
  },
  {
   "cell_type": "markdown",
   "metadata": {},
   "source": [
    "## 67. コンパイル・特殊文字のエスケープ"
   ]
  },
  {
   "cell_type": "markdown",
   "metadata": {},
   "source": [
    "### コンパイルにより同じパターンを繰り返し利用できる\n",
    "- pattern = re.compile(正規表現のパターン）\n",
    "- m = pattern.match(検索対象の文字列)"
   ]
  },
  {
   "cell_type": "code",
   "execution_count": 67,
   "metadata": {},
   "outputs": [
    {
     "name": "stdout",
     "output_type": "stream",
     "text": [
      "<re.Match object; span=(0, 5), match='xyyyy'>\n"
     ]
    }
   ],
   "source": [
    "pattern = re.compile('xy+')\n",
    "m = pattern.match('xyyyy')\n",
    "print(m)"
   ]
  },
  {
   "cell_type": "code",
   "execution_count": 69,
   "metadata": {},
   "outputs": [
    {
     "name": "stdout",
     "output_type": "stream",
     "text": [
      "<re.Match object; span=(3, 8), match='xyyyy'>\n"
     ]
    }
   ],
   "source": [
    "# 同じpatternをsearch関数で使う\n",
    "m = pattern.search('abcxyyyy')\n",
    "print(m)"
   ]
  },
  {
   "cell_type": "markdown",
   "metadata": {},
   "source": [
    "### 特殊文字のエスケープ\n",
    "- *や？のような特殊文字を検索する場合、\\をつける必要がある\n",
    "- 例：?の検索　m = re.match('\\?', 'xy?')"
   ]
  },
  {
   "cell_type": "code",
   "execution_count": 71,
   "metadata": {},
   "outputs": [
    {
     "name": "stdout",
     "output_type": "stream",
     "text": [
      "<re.Match object; span=(2, 3), match='?'>\n"
     ]
    }
   ],
   "source": [
    "m = re.search('\\?', 'xy?')\n",
    "print(m)"
   ]
  },
  {
   "cell_type": "markdown",
   "metadata": {},
   "source": [
    "## 68. 貪欲マッチ・非貪欲マッチ"
   ]
  },
  {
   "cell_type": "code",
   "execution_count": 74,
   "metadata": {},
   "outputs": [
    {
     "name": "stdout",
     "output_type": "stream",
     "text": [
      "<re.Match object; span=(0, 32), match='<html><head></head><body></thml>'>\n"
     ]
    }
   ],
   "source": [
    "# 任意の一文字以上をマッチ\n",
    "m = re.search('<.*>', '<html><head></head><body></thml>')\n",
    "print(m)"
   ]
  },
  {
   "cell_type": "code",
   "execution_count": 76,
   "metadata": {},
   "outputs": [
    {
     "name": "stdout",
     "output_type": "stream",
     "text": [
      "<re.Match object; span=(0, 6), match='<hhml>'>\n"
     ]
    }
   ],
   "source": [
    "# 正規表現の後ろに?をつけると短くマッチする\n",
    "m = re.search('<.*?>', '<hhml><head></head><body></thml>')\n",
    "print(m)"
   ]
  },
  {
   "cell_type": "markdown",
   "metadata": {},
   "source": [
    "## 69. フラグ引数"
   ]
  },
  {
   "cell_type": "markdown",
   "metadata": {},
   "source": [
    "- マッチする条件を詳細にコントロールできる\n",
    "- m = re.search(正規表現のパターン,検索対象の文字列,flags=フラグ引数)\n",
    "- pattern = re.compile(正規表現のパターン,flags = フラグ引数)"
   ]
  },
  {
   "cell_type": "markdown",
   "metadata": {},
   "source": [
    "#### フラグ引数\n",
    "- re.IGNORECASE:　大文字・小文字を区別しないマッチング\n",
    "- re.MULTILINE: 各行の先頭・末尾にマッチング\n",
    "- re.VERBOSE: パターンを視覚的に分割し、コメントを付加できる"
   ]
  },
  {
   "cell_type": "code",
   "execution_count": 77,
   "metadata": {},
   "outputs": [
    {
     "name": "stdout",
     "output_type": "stream",
     "text": [
      "<re.Match object; span=(0, 3), match='xyz'>\n"
     ]
    }
   ],
   "source": [
    "m = re.search('[a-z]+', 'xyzXYZ')\n",
    "print(m)"
   ]
  },
  {
   "cell_type": "code",
   "execution_count": 78,
   "metadata": {},
   "outputs": [
    {
     "name": "stdout",
     "output_type": "stream",
     "text": [
      "<re.Match object; span=(0, 6), match='xyzXYZ'>\n"
     ]
    }
   ],
   "source": [
    "# フラグ引数にre.IGNORECASEを入れる\n",
    "m = re.search('[a-z]+', 'xyzXYZ', flags=re.IGNORECASE)\n",
    "print(m)"
   ]
  },
  {
   "cell_type": "code",
   "execution_count": 88,
   "metadata": {},
   "outputs": [],
   "source": [
    "text = \"\"\"\n",
    "abc, 789, RST\n",
    "def, 434, JDH\n",
    "hij, 845, HHD\n",
    "\"\"\""
   ]
  },
  {
   "cell_type": "code",
   "execution_count": 89,
   "metadata": {},
   "outputs": [
    {
     "name": "stdout",
     "output_type": "stream",
     "text": [
      "[]\n"
     ]
    }
   ],
   "source": [
    "m = re.findall('^[a-z]+', text)\n",
    "print(m)"
   ]
  },
  {
   "cell_type": "code",
   "execution_count": 90,
   "metadata": {},
   "outputs": [
    {
     "name": "stdout",
     "output_type": "stream",
     "text": [
      "['abc', 'def', 'hij']\n"
     ]
    }
   ],
   "source": [
    "# フラグ引数にre.MULTILINEを入れる\n",
    "m = re.findall('^[a-z]+', text, flags = re.MULTILINE)\n",
    "print(m)"
   ]
  },
  {
   "cell_type": "code",
   "execution_count": 91,
   "metadata": {},
   "outputs": [
    {
     "name": "stdout",
     "output_type": "stream",
     "text": [
      "['RST', 'JDH', 'HHD']\n"
     ]
    }
   ],
   "source": [
    "m = re.findall('[A-Z]+$', text, flags = re.MULTILINE)\n",
    "print(m)"
   ]
  },
  {
   "cell_type": "code",
   "execution_count": 94,
   "metadata": {},
   "outputs": [],
   "source": [
    "# コメントを無視させるのに、VERBOSEを使う\n",
    "pattern = re.compile(\"\"\"\n",
    "[0-9]{4}\\/      #年/\n",
    "[0-9]{1,2}\\/    #月/\n",
    "[0-9]{1,2}        #日/\n",
    "\"\"\", re.VERBOSE)"
   ]
  },
  {
   "cell_type": "code",
   "execution_count": 95,
   "metadata": {},
   "outputs": [
    {
     "name": "stdout",
     "output_type": "stream",
     "text": [
      "['2020/8/22']\n"
     ]
    }
   ],
   "source": [
    "m = pattern.findall('Today is 2020/8/22')\n",
    "print(m)"
   ]
  },
  {
   "cell_type": "markdown",
   "metadata": {},
   "source": [
    "#### パターンをグループ化し名前を付けて参照"
   ]
  },
  {
   "cell_type": "markdown",
   "metadata": {},
   "source": [
    "- パターンのグルーピングしたい単位に(?P＜name＞...)をつける"
   ]
  },
  {
   "cell_type": "code",
   "execution_count": 96,
   "metadata": {},
   "outputs": [],
   "source": [
    "pattern = re.compile(\"\"\"\n",
    "(?P<year>[0-9]{4})\\/      #年/\n",
    "(?P<month>[0-9]{1,2})\\/    #月/\n",
    "(?P<date>[0-9]{1,2})        #日/\n",
    "\"\"\", re.VERBOSE)"
   ]
  },
  {
   "cell_type": "code",
   "execution_count": 97,
   "metadata": {},
   "outputs": [
    {
     "name": "stdout",
     "output_type": "stream",
     "text": [
      "<re.Match object; span=(9, 18), match='2020/8/22'>\n"
     ]
    }
   ],
   "source": [
    "m = pattern.search('Today is 2020/8/22')\n",
    "print(m)"
   ]
  },
  {
   "cell_type": "code",
   "execution_count": 98,
   "metadata": {},
   "outputs": [
    {
     "name": "stdout",
     "output_type": "stream",
     "text": [
      "2020\n"
     ]
    }
   ],
   "source": [
    "m = pattern.search('Today is 2020/8/22')\n",
    "print(m.group('year'))"
   ]
  },
  {
   "cell_type": "code",
   "execution_count": 99,
   "metadata": {},
   "outputs": [
    {
     "name": "stdout",
     "output_type": "stream",
     "text": [
      "8\n"
     ]
    }
   ],
   "source": [
    "m = pattern.search('Today is 2020/8/22')\n",
    "print(m.group('month'))"
   ]
  }
 ],
 "metadata": {
  "kernelspec": {
   "display_name": "Python 3",
   "language": "python",
   "name": "python3"
  },
  "language_info": {
   "codemirror_mode": {
    "name": "ipython",
    "version": 3
   },
   "file_extension": ".py",
   "mimetype": "text/x-python",
   "name": "python",
   "nbconvert_exporter": "python",
   "pygments_lexer": "ipython3",
   "version": "3.7.4"
  }
 },
 "nbformat": 4,
 "nbformat_minor": 4
}
