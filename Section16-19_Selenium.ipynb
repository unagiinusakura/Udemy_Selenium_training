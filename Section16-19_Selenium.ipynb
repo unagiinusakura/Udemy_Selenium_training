{
 "cells": [
  {
   "cell_type": "markdown",
   "metadata": {},
   "source": [
    "# セクション16 Seleniumの基本的な使い方"
   ]
  },
  {
   "cell_type": "markdown",
   "metadata": {},
   "source": [
    "### 104.Google検索の自動化"
   ]
  },
  {
   "cell_type": "code",
   "execution_count": 1,
   "metadata": {},
   "outputs": [],
   "source": [
    "from selenium import webdriver\n",
    "from time import sleep"
   ]
  },
  {
   "cell_type": "code",
   "execution_count": 18,
   "metadata": {},
   "outputs": [],
   "source": [
    "driver = webdriver.Chrome('chromedriver.exe')\n",
    "driver.get('https://www.google.com/')"
   ]
  },
  {
   "cell_type": "code",
   "execution_count": 19,
   "metadata": {},
   "outputs": [],
   "source": [
    "# name属性で指定する\n",
    "search_bar = driver.find_element_by_name('q')\n",
    "search_bar.send_keys('python')"
   ]
  },
  {
   "cell_type": "code",
   "execution_count": 20,
   "metadata": {},
   "outputs": [],
   "source": [
    "# 要素を実行する\n",
    "search_bar.submit()"
   ]
  },
  {
   "cell_type": "markdown",
   "metadata": {},
   "source": [
    "### 105.Xpathによる検索結果一覧の取得(タイトルとURL)"
   ]
  },
  {
   "cell_type": "code",
   "execution_count": 13,
   "metadata": {},
   "outputs": [
    {
     "name": "stdout",
     "output_type": "stream",
     "text": [
      "プログラミング言語 Python - python.jp\n",
      "https://www.python.jp/\n",
      "(プログラミング言語) - Python - Wikipedia\n",
      "https://ja.wikipedia.org/wiki/Python\n",
      "Welcome to Python.org\n",
      "https://www.python.org/\n",
      "Python チュートリアル — Python 3.8.5 ドキュメント\n",
      "https://docs.python.org/ja/3/tutorial/\n",
      "Pythonってどんな言語なの？ (1/2)：Python入門 - ＠IT\n",
      "https://www.atmarkit.co.jp/ait/articles/1904/02/news024.html\n",
      "Python | プログラミングの入門なら基礎から学べるProgate ...\n",
      "https://prog-8.com/languages/python\n",
      "Pythonの開発環境を用意しよう！（Windows） - Progate\n",
      "https://prog-8.com/docs/python-env-win\n",
      "知っておくとPythonを早く会得できる5つのポイントを考察 ...\n",
      "https://flxy.jp/article/11337\n",
      "Python入門 ～Pythonのインストール方法やPythonを使った ...\n",
      "https://www.javadrive.jp/python/\n",
      "PyQ（パイキュー） - 本気でプログラミングを学びたい人の ...\n",
      "https://pyq.jp/\n"
     ]
    }
   ],
   "source": [
    "# 該当するxpathの要素を複数取得する\n",
    "# get_attribute(属性名)は属性名から属性値を取得\n",
    "for elem_h3 in driver.find_elements_by_xpath('//a/h3'):\n",
    "    print(elem_h3.text)\n",
    "    elem_a = elem_h3.find_element_by_xpath('..')\n",
    "    print(elem_a.get_attribute('href'))"
   ]
  },
  {
   "cell_type": "markdown",
   "metadata": {},
   "source": [
    "### 106.Seleniumのヘッドレスモード"
   ]
  },
  {
   "cell_type": "code",
   "execution_count": 14,
   "metadata": {},
   "outputs": [],
   "source": [
    "# 画面を表示させずに実行するモード\n",
    "from selenium.webdriver.chrome.options import Options\n",
    "options = Options()\n",
    "options.add_argument('--headless')"
   ]
  },
  {
   "cell_type": "code",
   "execution_count": 17,
   "metadata": {},
   "outputs": [
    {
     "name": "stdout",
     "output_type": "stream",
     "text": [
      "プログラミング言語 Python - python.jp\n",
      "https://www.python.jp/\n",
      "(プログラミング言語) - Python - Wikipedia\n",
      "https://ja.wikipedia.org/wiki/Python\n",
      "Welcome to Python.org\n",
      "https://www.python.org/\n",
      "Python チュートリアル — Python 3.8.5 ドキュメント\n",
      "https://docs.python.org/ja/3/tutorial/\n",
      "Pythonってどんな言語なの？ (1/2)：Python入門 - ＠IT\n",
      "https://www.atmarkit.co.jp/ait/articles/1904/02/news024.html\n",
      "Python | プログラミングの入門なら基礎から学べるProgate ...\n",
      "https://prog-8.com/languages/python\n",
      "Pythonの開発環境を用意しよう！（Windows） - Progate\n",
      "https://prog-8.com/docs/python-env-win\n",
      "知っておくとPythonを早く会得できる5つのポイントを考察 ...\n",
      "https://flxy.jp/article/11337\n",
      "Python入門 ～Pythonのインストール方法やPythonを使った ...\n",
      "https://www.javadrive.jp/python/\n",
      "PyQ（パイキュー） - 本気でプログラミングを学びたい人の ...\n",
      "https://pyq.jp/\n"
     ]
    }
   ],
   "source": [
    "driver = webdriver.Chrome('chromedriver.exe',options=options)\n",
    "driver.get('https://www.google.com/')\n",
    "\n",
    "search_bar = driver.find_element_by_name('q')\n",
    "search_bar.send_keys('python')\n",
    "search_bar.submit()\n",
    "\n",
    "for elem_h3 in driver.find_elements_by_xpath('//a/h3'):\n",
    "    print(elem_h3.text)\n",
    "    elem_a = elem_h3.find_element_by_xpath('..')\n",
    "    print(elem_a.get_attribute('href'))"
   ]
  },
  {
   "cell_type": "markdown",
   "metadata": {},
   "source": [
    "### 107.次のページへ遷移"
   ]
  },
  {
   "cell_type": "code",
   "execution_count": 22,
   "metadata": {},
   "outputs": [
    {
     "name": "stdout",
     "output_type": "stream",
     "text": [
      "プログラミング言語 Python - python.jp\n",
      "https://www.python.jp/\n",
      "(プログラミング言語) - Python - Wikipedia\n",
      "https://ja.wikipedia.org/wiki/Python\n",
      "Welcome to Python.org\n",
      "https://www.python.org/\n",
      "Python チュートリアル — Python 3.8.5 ドキュメント\n",
      "https://docs.python.org/ja/3/tutorial/\n",
      "Pythonってどんな言語なの？ (1/2)：Python入門 - ＠IT\n",
      "https://www.atmarkit.co.jp/ait/articles/1904/02/news024.html\n",
      "Python | プログラミングの入門なら基礎から学べるProgate ...\n",
      "https://prog-8.com/languages/python\n",
      "Pythonの開発環境を用意しよう！（Windows） - Progate\n",
      "https://prog-8.com/docs/python-env-win\n",
      "知っておくとPythonを早く会得できる5つのポイントを考察 ...\n",
      "https://flxy.jp/article/11337\n",
      "Python入門 ～Pythonのインストール方法やPythonを使った ...\n",
      "https://www.javadrive.jp/python/\n",
      "PyQ（パイキュー） - 本気でプログラミングを学びたい人の ...\n",
      "https://pyq.jp/\n",
      "Pythonとは？大人気プログラミング言語のメリットや活用事例 ...\n",
      "https://www.internetacademy.jp/it/programming/programming-basic/what-is-python.html\n",
      "Python - Qiita\n",
      "https://qiita.com/tags/python\n",
      "とほほのPython入門 - とほほのWWW入門\n",
      "http://www.tohoho-web.com/python/\n",
      "プログラミング言語「Python」の人気が止まらない理由とは ...\n",
      "https://wired.jp/2020/04/30/python-language-more-popular-than-ever/\n",
      "プログラミング言語のPythonとは？その特徴と活用方法｜発注 ...\n",
      "https://hnavi.co.jp/knowledge/blog/python/\n",
      "Azure での Python | Microsoft Azure\n",
      "https://azure.microsoft.com/ja-jp/develop/python/\n",
      "【vol.001】Pythonとは | 中学生でもわかるPython入門 ...\n",
      "https://www.youtube.com/watch?v=rPCm-v_W4Ng\n",
      "退屈なことはPythonにやらせよう ―ノンプログラマーにも ...\n",
      "https://www.amazon.co.jp/%E9%80%80%E5%B1%88%E3%81%AA%E3%81%93%E3%81%A8%E3%81%AFPython%E3%81%AB%E3%82%84%E3%82%89%E3%81%9B%E3%82%88%E3%81%86-%E2%80%95%E3%83%8E%E3%83%B3%E3%83%97%E3%83%AD%E3%82%B0%E3%83%A9%E3%83%9E%E3%83%BC%E3%81%AB%E3%82%82%E3%81%A7%E3%81%8D%E3%82%8B%E8%87%AA%E5%8B%95%E5%8C%96%E5%87%A6%E7%90%86%E3%83%97%E3%83%AD%E3%82%B0%E3%83%A9%E3%83%9F%E3%83%B3%E3%82%B0-Al-Sweigart/dp/487311778X\n",
      "入門 Python 3 | Bill Lubanovic, 斎藤 康毅, 長尾 高弘 |本 | 通販 ...\n",
      "https://www.amazon.co.jp/%E5%85%A5%E9%96%80-Python-3-Bill-Lubanovic/dp/4873117380\n",
      "一般社団法人Pythonエンジニア育成推進協会 | Pythonの学習の ...\n",
      "https://www.pythonic-exam.com/\n"
     ]
    }
   ],
   "source": [
    "# 次のページリンクを取得する\n",
    "driver = webdriver.Chrome('chromedriver.exe')\n",
    "driver.get('https://www.google.com/')\n",
    "\n",
    "search_bar = driver.find_element_by_name('q')\n",
    "search_bar.send_keys('python')\n",
    "search_bar.submit()\n",
    "\n",
    "for elem_h3 in driver.find_elements_by_xpath('//a/h3'):\n",
    "    print(elem_h3.text)\n",
    "    elem_a = elem_h3.find_element_by_xpath('..')\n",
    "    print(elem_a.get_attribute('href'))\n",
    "\n",
    "# dode追加部分    \n",
    "next_link = driver.find_element_by_id('pnnext')\n",
    "driver.get(next_link.get_attribute('href'))   \n",
    "for elem_h3 in driver.find_elements_by_xpath('//a/h3'):\n",
    "    print(elem_h3.text)\n",
    "    elem_a = elem_h3.find_element_by_xpath('..')\n",
    "    print(elem_a.get_attribute('href'))"
   ]
  },
  {
   "cell_type": "code",
   "execution_count": 24,
   "metadata": {},
   "outputs": [
    {
     "name": "stdout",
     "output_type": "stream",
     "text": [
      "プログラミング言語 Python - python.jp\n",
      "https://www.python.jp/\n",
      "(プログラミング言語) - Python - Wikipedia\n",
      "https://ja.wikipedia.org/wiki/Python\n",
      "Welcome to Python.org\n",
      "https://www.python.org/\n",
      "Python チュートリアル — Python 3.8.5 ドキュメント\n",
      "https://docs.python.org/ja/3/tutorial/\n",
      "Pythonってどんな言語なの？ (1/2)：Python入門 - ＠IT\n",
      "https://www.atmarkit.co.jp/ait/articles/1904/02/news024.html\n",
      "Python | プログラミングの入門なら基礎から学べるProgate ...\n",
      "https://prog-8.com/languages/python\n",
      "Pythonの開発環境を用意しよう！（Windows） - Progate\n",
      "https://prog-8.com/docs/python-env-win\n",
      "知っておくとPythonを早く会得できる5つのポイントを考察 ...\n",
      "https://flxy.jp/article/11337\n",
      "Python入門 ～Pythonのインストール方法やPythonを使った ...\n",
      "https://www.javadrive.jp/python/\n",
      "PyQ（パイキュー） - 本気でプログラミングを学びたい人の ...\n",
      "https://pyq.jp/\n",
      "Pythonとは？大人気プログラミング言語のメリットや活用事例 ...\n",
      "https://www.internetacademy.jp/it/programming/programming-basic/what-is-python.html\n",
      "Python - Qiita\n",
      "https://qiita.com/tags/python\n",
      "とほほのPython入門 - とほほのWWW入門\n",
      "http://www.tohoho-web.com/python/\n",
      "プログラミング言語「Python」の人気が止まらない理由とは ...\n",
      "https://wired.jp/2020/04/30/python-language-more-popular-than-ever/\n",
      "プログラミング言語のPythonとは？その特徴と活用方法｜発注 ...\n",
      "https://hnavi.co.jp/knowledge/blog/python/\n",
      "Azure での Python | Microsoft Azure\n",
      "https://azure.microsoft.com/ja-jp/develop/python/\n",
      "【vol.001】Pythonとは | 中学生でもわかるPython入門 ...\n",
      "https://www.youtube.com/watch?v=rPCm-v_W4Ng\n",
      "退屈なことはPythonにやらせよう ―ノンプログラマーにも ...\n",
      "https://www.amazon.co.jp/%E9%80%80%E5%B1%88%E3%81%AA%E3%81%93%E3%81%A8%E3%81%AFPython%E3%81%AB%E3%82%84%E3%82%89%E3%81%9B%E3%82%88%E3%81%86-%E2%80%95%E3%83%8E%E3%83%B3%E3%83%97%E3%83%AD%E3%82%B0%E3%83%A9%E3%83%9E%E3%83%BC%E3%81%AB%E3%82%82%E3%81%A7%E3%81%8D%E3%82%8B%E8%87%AA%E5%8B%95%E5%8C%96%E5%87%A6%E7%90%86%E3%83%97%E3%83%AD%E3%82%B0%E3%83%A9%E3%83%9F%E3%83%B3%E3%82%B0-Al-Sweigart/dp/487311778X\n",
      "入門 Python 3 | Bill Lubanovic, 斎藤 康毅, 長尾 高弘 |本 | 通販 ...\n",
      "https://www.amazon.co.jp/%E5%85%A5%E9%96%80-Python-3-Bill-Lubanovic/dp/4873117380\n",
      "一般社団法人Pythonエンジニア育成推進協会 | Pythonの学習の ...\n",
      "https://www.pythonic-exam.com/\n",
      "Python入門 | 10秒で始めるAIプログラミング学習サービス ...\n",
      "https://aidemy.net/courses/3010\n",
      "Python - ウィキブックス\n",
      "https://ja.wikibooks.org/wiki/Python\n",
      "難しくはないがレベルが高い 基本情報 Python のサンプル問題 ...\n",
      "https://www.seplus.jp/dokushuzemi/fe/fenavi/guide/thinking_sample_prob_python/\n",
      "Pythonプログラミング入門 - Google Sites\n",
      "https://sites.google.com/view/ut-python/\n",
      "退屈なことはPythonにやらせよう - O'Reilly Japan\n",
      "https://www.oreilly.co.jp/books/9784873117782/\n",
      "2. Python 入門 — ディープラーニング入門：Chainer ...\n",
      "https://tutorials.chainer.org/ja/02_Basics_of_Python.html\n",
      "【CV：上坂すみれ】paizaラーニングに中上級者向け『Python ...\n",
      "https://prtimes.jp/main/html/rd/p/000000065.000012063.html\n",
      "Python文法チュートリアル - SWEST\n",
      "http://swest.toppers.jp/LED-Report/Camp4/materials/prep/python_tutorial.html\n",
      "Python Tutorial - W3Schools\n",
      "https://www.w3schools.com/python/\n",
      "Python入門者はココで勉強しよう！学習サイト最強6選【2019 ...\n",
      "https://proengineer.internous.co.jp/content/columnfeature/12344\n",
      "Python 事始め\n",
      "http://osksn2.hep.sci.osaka-u.ac.jp/~taku/osx/python/index.html\n",
      "Pythonの意味・使い方・読み方 | Weblio英和辞書\n",
      "https://ejje.weblio.jp/content/Python\n",
      "Pythonに関する情報 | note.nkmk.me\n",
      "https://note.nkmk.me/python/\n",
      "Python入門編 - Paiza\n",
      "https://paiza.jp/works/python3/primer\n",
      "Python for Everybody | Coursera\n",
      "https://www.coursera.org/specializations/python\n",
      "Python入門(4) if文\n",
      "http://www.ic.daito.ac.jp/~mizutani/python/intro4_pyhton.html\n",
      "不動の人気を誇る「Python」、評価が二分される「Java ...\n",
      "https://japan.zdnet.com/article/35149096/\n",
      "Python 開発環境の設定 | Google Cloud\n",
      "https://cloud.google.com/python/setup?hl=ja\n",
      "Python とは—ヘルプ | ドキュメント - ArcGIS Desktop\n",
      "https://desktop.arcgis.com/ja/arcmap/latest/analyze/python/what-is-python-.htm\n",
      "スラスラわかるPython（岩崎 圭 北川 慎治 寺田 学）｜翔泳社 ...\n",
      "https://www.shoeisha.co.jp/book/detail/9784798151090\n",
      "Protocol Buffer Basics: Python | Protocol Buffers | Google ...\n",
      "https://developers.google.com/protocol-buffers/docs/pythontutorial\n",
      "Pythonエンジニア認定試験 | Odyssey CBT | オデッセイ ...\n",
      "https://cbt.odyssey-com.co.jp/pythonic-exam.html\n",
      "はじめに — pep8-ja 1.0 ドキュメント\n",
      "https://pep8-ja.readthedocs.io/ja/latest/\n",
      "AWS SDK for Python (Boto3) - Amazon Web Services\n",
      "https://aws.amazon.com/jp/sdk-for-python/\n",
      "Django: The Web framework for perfectionists with deadlines\n",
      "https://www.djangoproject.com/\n",
      "Learn Python Tutorials | Kaggle\n",
      "https://www.kaggle.com/learn/python\n",
      "PyPI · The Python Package Index\n",
      "https://pypi.org/\n",
      "現役シリコンバレーエンジニアが教えるPython 3 入門 + 応用 + ...\n",
      "https://www.udemy.com/course/python-beginner/\n",
      "Pythonでソフトウェア開発する利点11個｜活用例についても ...\n",
      "https://www.fenet.jp/dotnet/column/language/5327/\n",
      "Pythonとは？特徴やメリット・勉強法を解説【初心者向け ...\n",
      "https://www.sejuku.net/blog/7720\n"
     ]
    }
   ],
   "source": [
    "# while文で繰り返し処理\n",
    "\n",
    "driver = webdriver.Chrome('chromedriver.exe',options=options)\n",
    "driver.get('https://www.google.com/')\n",
    "\n",
    "search_bar = driver.find_element_by_name('q')\n",
    "search_bar.send_keys('python')\n",
    "search_bar.submit()\n",
    "    \n",
    "i = 0\n",
    "while True:\n",
    "    i +=1\n",
    "    sleep(1)    \n",
    "\n",
    "    for elem_h3 in driver.find_elements_by_xpath('//a/h3'):\n",
    "        print(elem_h3.text)\n",
    "        elem_a = elem_h3.find_element_by_xpath('..')\n",
    "        print(elem_a.get_attribute('href'))\n",
    "    next_link = driver.find_element_by_id('pnnext')\n",
    "    driver.get(next_link.get_attribute('href')) \n",
    "    if i > 4:\n",
    "        break"
   ]
  },
  {
   "cell_type": "markdown",
   "metadata": {},
   "source": [
    "### 108. データのCSVファイルへの保存1"
   ]
  },
  {
   "cell_type": "markdown",
   "metadata": {},
   "source": [
    "#### csvファイルへの書き込み\n",
    "import csv  \n",
    "ファイルオブジェクト= open(ディレクトリ名+ファイル名,mode='w', encoding='cp932',errors='ignore')  \n",
    "writer = csv.writer(ファイルオブジェクト,lineterminator='\\n')  \n",
    "writer.writerow(リスト)  \n",
    "ファイルオブジェクト.close()  "
   ]
  },
  {
   "cell_type": "code",
   "execution_count": 25,
   "metadata": {},
   "outputs": [],
   "source": [
    "from selenium import webdriver\n",
    "from time import sleep\n",
    "from selenium.webdriver.chrome.options import Options\n",
    "options = Options()\n",
    "options.add_argument('--headless')\n",
    "\n",
    "# 今回追加のモジュール\n",
    "import csv\n",
    "import datetime"
   ]
  },
  {
   "cell_type": "code",
   "execution_count": 29,
   "metadata": {},
   "outputs": [],
   "source": [
    "driver = webdriver.Chrome('chromedriver.exe',options=options)\n",
    "driver.get('https://www.google.com/')\n",
    "\n",
    "search_bar = driver.find_element_by_name('q')\n",
    "search_bar.send_keys('python')\n",
    "search_bar.submit()"
   ]
  },
  {
   "cell_type": "code",
   "execution_count": 30,
   "metadata": {},
   "outputs": [],
   "source": [
    "# 当日の日付取得　datetime.datetime.today()\n",
    "# 日付を文字列に変換 strftime(書式)\n",
    "csv_date = datetime.datetime.today().strftime('%Y%m%d')"
   ]
  },
  {
   "cell_type": "code",
   "execution_count": 31,
   "metadata": {},
   "outputs": [],
   "source": [
    "csv_file_name = 'google_python_' + csv_date + '.csv'"
   ]
  },
  {
   "cell_type": "code",
   "execution_count": 34,
   "metadata": {},
   "outputs": [
    {
     "data": {
      "text/plain": [
       "14"
      ]
     },
     "execution_count": 34,
     "metadata": {},
     "output_type": "execute_result"
    }
   ],
   "source": [
    "f = open(csv_file_name, mode='w', encoding='cp932', errors='ignore')\n",
    "writer = csv.writer(f,lineterminator='\\n')\n",
    "\n",
    "# csvのヘッダーを定義する\n",
    "csv_header = ['検索順位','タイトル','URL']\n",
    "writer.writerow(csv_header)"
   ]
  },
  {
   "cell_type": "code",
   "execution_count": 36,
   "metadata": {},
   "outputs": [],
   "source": [
    "i = 0\n",
    "ranking = 1\n",
    "while True:\n",
    "    i +=1\n",
    "    sleep(1)    \n",
    "\n",
    "    for elem_h3 in driver.find_elements_by_xpath('//a/h3'):\n",
    "        csv_list=[]\n",
    "        csv_list.append(str(ranking))\n",
    "        csv_list.append(elem_h3.text)\n",
    "        elem_a = elem_h3.find_element_by_xpath('..')\n",
    "        csv_list.append(elem_a.get_attribute('href'))\n",
    "        writer.writerow(csv_list)\n",
    "        ranking +=1\n",
    "        \n",
    "    next_link = driver.find_element_by_id('pnnext')\n",
    "    driver.get(next_link.get_attribute('href')) \n",
    "    if i > 4:\n",
    "        break\n",
    "        \n",
    "f.close()        "
   ]
  },
  {
   "cell_type": "markdown",
   "metadata": {},
   "source": [
    "# セクション17:Seleniumでログインする方法"
   ]
  },
  {
   "cell_type": "markdown",
   "metadata": {},
   "source": [
    "#### 112.インスタグラムのログイン画面の表示"
   ]
  }
 ],
 "metadata": {
  "kernelspec": {
   "display_name": "Python 3",
   "language": "python",
   "name": "python3"
  },
  "language_info": {
   "codemirror_mode": {
    "name": "ipython",
    "version": 3
   },
   "file_extension": ".py",
   "mimetype": "text/x-python",
   "name": "python",
   "nbconvert_exporter": "python",
   "pygments_lexer": "ipython3",
   "version": "3.7.4"
  }
 },
 "nbformat": 4,
 "nbformat_minor": 4
}
